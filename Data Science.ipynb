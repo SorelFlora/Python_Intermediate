{
 "cells": [
  {
   "cell_type": "markdown",
   "id": "e9a1b720",
   "metadata": {},
   "source": [
    "# Welcome to Data Science Courses\n",
    "\n",
    "## Overview\n",
    "\n",
    "### What is Data Science?\n",
    "\n",
    "There are many use cases in business for data science including finding a better housing prices prediction algrorithm for Zillow, findind key attributes associated with wine quality, and building a recommendation system to increase the click-through-rate for Amazon.\n",
    "\n",
    "Extracting insights from seemingly random data, data science normally  involves collecting data, cleaning data, performing exploratory data analysis, building and evaluating machine learning models, and communicating insights to stakeholders.\n",
    "\n",
    "Data Science is multidisciplinary field that unifies statistics, data analysis, machine learning and thier ralated methods to extract knowledge and insights.\n",
    "\n",
    "### Why Python\n",
    "\n",
    "In this Introduction to Data Science course we're learning data science with Python. As a general-purpose programming language, Python now the most popular programming language in data science. It's easy to use, has great community support, and integrates well with others frameworks(e.g., web applications) in an engineering environnement.\n",
    "\n",
    "This course focuses on exploratory  data analysis with three fundamental Python libraries: numpy,pandas and matplotlib. The machine learning libraries scikit-learn will be covered as well.\n",
    "\n",
    "In the later modules, we will be predicting home value using linear regression, identifying classes of iris with classification algorithms, and finding clusters within wines, just  a few examples of what we can do in data science.\n",
    "\n",
    "In data science, there are other popular programming languages, such as R, which has an edge in statistical modeling."
   ]
  },
  {
   "cell_type": "markdown",
   "id": "7234f104",
   "metadata": {},
   "source": [
    "## Lesson 1 : Getting Started with Numpy\n",
    "\n",
    "### Numerical Data\n",
    "\n",
    "Datasets come from a wide range of sources and formats: it could be collections of numerical measurements, text corpus, images, audio clips, or basically  anything. No matter the format, the first step in data science is to transform it into arrays of numbers.\n",
    "\n",
    "We collected 45 U.S. president heights in centimeters in chronological order and stored them in a list, a build-in data type in python.\n",
    "\n",
    "                                     heights =[189, 170, 189, 163, 183,\n",
    "                                     171, 185, 168, 173, 183, 173, 173,\n",
    "                                     175, 178, 183, 193, 178, 173, 174,\n",
    "                                     183, 183, 180, 168, 180, 170, 178,\n",
    "                                     182, 180, 183, 178, 182, 188, 175,\n",
    "                                     179, 183, 193, 182, 183, 177, 185,\n",
    "                                     188, 188, 182, 185, 191\n",
    "                                     ]\n",
    "In this example, George Washington was the first president, and his height was 189cm.\n",
    "\n",
    "If we wanted to know how many presidents are taller than 188cm, we could iterate throught the list, compare each element against 188, and increase the count by 1 as the criteria is met.\n"
   ]
  },
  {
   "cell_type": "code",
   "execution_count": 1,
   "id": "bc8c7374",
   "metadata": {},
   "outputs": [
    {
     "name": "stdout",
     "output_type": "stream",
     "text": [
      "5\n"
     ]
    }
   ],
   "source": [
    "heights = [189, 170, 189, 163, 183,\n",
    "            171, 185, 168, 173, 183, 173, 173,\n",
    "            175, 178, 183, 193, 178, 173, 174,\n",
    "            183, 183, 180, 168, 180, 170, 178,\n",
    "            182, 180, 183, 178, 182, 188, 175,\n",
    "            179, 183, 193, 182, 183, 177, 185,\n",
    "            188, 188, 182, 185, 191]\n",
    "cnt=0\n",
    "for height in heights:\n",
    "    if height > 188:\n",
    "        cnt +=1\n",
    "print(cnt)"
   ]
  },
  {
   "cell_type": "code",
   "execution_count": 2,
   "id": "c5ac21a3",
   "metadata": {},
   "outputs": [
    {
     "name": "stdout",
     "output_type": "stream",
     "text": [
      "5\n"
     ]
    }
   ],
   "source": [
    "l=[i for i in heights if i > 188]\n",
    "print(len(l))"
   ]
  },
  {
   "cell_type": "markdown",
   "id": "3310ebcb",
   "metadata": {},
   "source": [
    "This shows that there are five presidents who are taller than 188 cm.\n",
    "\n",
    "NB : No matter the format of data, the first step in data science is to transform it in to arrays of  numbers."
   ]
  },
  {
   "cell_type": "markdown",
   "id": "58fa729a",
   "metadata": {},
   "source": [
    "## Introduction to NumPy\n",
    "\n",
    "NumPy(short for Numerical Python) allows us to find the answer to how many president presidents are taller than 188cm with ease. Below we show how to use the library and start with the basic object in NumPy."
   ]
  },
  {
   "cell_type": "code",
   "execution_count": 3,
   "id": "b8dcb524",
   "metadata": {},
   "outputs": [
    {
     "name": "stdout",
     "output_type": "stream",
     "text": [
      "5\n"
     ]
    }
   ],
   "source": [
    "import numpy as np\n",
    "heights_arr = np.array(heights)\n",
    "print((heights_arr>188).sum())"
   ]
  },
  {
   "cell_type": "markdown",
   "id": "b5702bd3",
   "metadata": {},
   "source": [
    "The  import statement allows us to access the functions and modules inside the numpy library. The library will be used frequently, so by convention numpy  is imported under a shorter name, np. The second line is to convert the list into numpy array object, via np.array(), that tools provided in numpy can work with. The last line provides a simple and natural solution, enabled by numpy, to the original question.\n",
    "\n",
    "As our datasets grow larger and more complicated, numoy allows us the use of a more efficient and for-loop-free method to manipulate and analyze our data. Our dataset example  in this module will include  the US Presidents' height, age and party.\n",
    "\n",
    "Python modules can get acess to code from another  module by importing the file/function using the import statement.\n",
    "\n",
    "\n",
    "## Size and Shape\n",
    "\n",
    "An array class in Numpy  is called an ndarray or n-dimensional array. We can use this to count the number presidents in heights_arr, use  the attribute numpy.ndarray.size :\n"
   ]
  },
  {
   "cell_type": "code",
   "execution_count": 4,
   "id": "acaab1ca",
   "metadata": {},
   "outputs": [
    {
     "data": {
      "text/plain": [
       "45"
      ]
     },
     "execution_count": 4,
     "metadata": {},
     "output_type": "execute_result"
    }
   ],
   "source": [
    "heights_arr.size"
   ]
  },
  {
   "cell_type": "markdown",
   "id": "a258e4f3",
   "metadata": {},
   "source": [
    "Note that once an array is created in numpy, its size cannot be changed. Size tells us how big the array is, shape tell us the dimension. To get current shape of an array use attribute shape:"
   ]
  },
  {
   "cell_type": "code",
   "execution_count": 5,
   "id": "ddc27e13",
   "metadata": {},
   "outputs": [
    {
     "data": {
      "text/plain": [
       "(45,)"
      ]
     },
     "execution_count": 5,
     "metadata": {},
     "output_type": "execute_result"
    }
   ],
   "source": [
    "heights_arr.shape"
   ]
  },
  {
   "cell_type": "markdown",
   "id": "ac30b585",
   "metadata": {},
   "source": [
    "The output is a tuple, recall that the buil-in data type tuple is immutable wheras a list is mutable, containing a single value, indicating that ther is only one dimension, i.e., axis 0. Along axis 0, there are 45 elements (one for each president) Here, heights_arr is a 1d array.\n",
    "\n",
    "Attribute size in numpy is similar to the built-in method len in python that is use to compute the length of iterable python objects like str,list,dict, etc.\n",
    "\n",
    "## Reshape\n",
    "\n",
    "Other data we have collected includes the ages of the presidents:\n",
    "                                               \n",
    "                                               ages = [57, 61, 57, 57, 58, 57, 61,\n",
    "                                               54, 68, 51, 49, 64, 50, 48, 65, 52,\n",
    "                                               56, 46, 54, 49, 51, 47, 55, 55, 54,\n",
    "                                               42, 51, 56, 55, 51, 54, 51, 60, 62,\n",
    "                                               43, 55, 56, 61, 52, 69, 64, 46, 54,\n",
    "                                               47, 70]\n",
    "Since both heights and ages are all about the same presidents, we can combine them:"
   ]
  },
  {
   "cell_type": "code",
   "execution_count": 6,
   "id": "db0c392d",
   "metadata": {},
   "outputs": [
    {
     "data": {
      "text/plain": [
       "(90,)"
      ]
     },
     "execution_count": 6,
     "metadata": {},
     "output_type": "execute_result"
    }
   ],
   "source": [
    "ages = [57, 61, 57, 57, 58, 57, 61,\n",
    "54, 68, 51, 49, 64, 50, 48, 65, 52,\n",
    "56, 46, 54, 49, 51, 47, 55, 55, 54,\n",
    "42, 51, 56, 55, 51, 54, 51, 60, 62,\n",
    "43, 55, 56, 61, 52, 69, 64, 46, 54,\n",
    "47, 70]\n",
    "heights_and_ages = heights + ages\n",
    "\n",
    "# convert a list in to numpy array\n",
    "heights_and_ages_arr=np.array(heights_and_ages)\n",
    "heights_and_ages_arr.shape"
   ]
  },
  {
   "cell_type": "markdown",
   "id": "f7a79c68",
   "metadata": {},
   "source": [
    "This produces one long array. It would be clearer if we could align height and age for each president and reorganize the data into a  by matrix where the first row contains all heights and the second row contains ages. To achive this, a new array can be created by calling numpy.ndarray.reshape with new dimentions specified in a tuple: "
   ]
  },
  {
   "cell_type": "code",
   "execution_count": 7,
   "id": "93862212",
   "metadata": {},
   "outputs": [],
   "source": [
    "my_2_45_matrix=heights_and_ages_arr.reshape((2,45))"
   ]
  },
  {
   "cell_type": "code",
   "execution_count": 40,
   "id": "a7c027a6",
   "metadata": {},
   "outputs": [
    {
     "data": {
      "text/plain": [
       "(2, 45)"
      ]
     },
     "execution_count": 40,
     "metadata": {},
     "output_type": "execute_result"
    }
   ],
   "source": [
    "my_2_45_matrix.shape"
   ]
  },
  {
   "cell_type": "code",
   "execution_count": 8,
   "id": "17c4ce27",
   "metadata": {},
   "outputs": [
    {
     "data": {
      "text/plain": [
       "array([[189, 170, 189, 163, 183, 171, 185, 168, 173, 183, 173, 173, 175,\n",
       "        178, 183, 193, 178, 173, 174, 183, 183, 180, 168, 180, 170, 178,\n",
       "        182, 180, 183, 178, 182, 188, 175, 179, 183, 193, 182, 183, 177,\n",
       "        185, 188, 188, 182, 185, 191],\n",
       "       [ 57,  61,  57,  57,  58,  57,  61,  54,  68,  51,  49,  64,  50,\n",
       "         48,  65,  52,  56,  46,  54,  49,  51,  47,  55,  55,  54,  42,\n",
       "         51,  56,  55,  51,  54,  51,  60,  62,  43,  55,  56,  61,  52,\n",
       "         69,  64,  46,  54,  47,  70]])"
      ]
     },
     "execution_count": 8,
     "metadata": {},
     "output_type": "execute_result"
    }
   ],
   "source": [
    "my_2_45_matrix"
   ]
  },
  {
   "cell_type": "markdown",
   "id": "d188b4c5",
   "metadata": {},
   "source": [
    "The reshaped array is now a 2darray, yet note that the original array is not changed. We can reshape an array in multiple ways, as long as the size of the reshaped array matches that of the original.\n",
    "\n",
    "Numpy can calculate the same(dimension) for us if we indicate the unknown dimension as -1. For example, give a 2darray 'arr' of shape(3,4), arr.rechape(-1) would output a 1darray of shape(12,), while arr.reshape((-1,2)) would generate a 2darray of shape(6,2)."
   ]
  },
  {
   "cell_type": "markdown",
   "id": "513d859a",
   "metadata": {},
   "source": [
    "## Data Type\n",
    "\n",
    "Another characteristic about numpy array is that it is homogeneous, meaning each element must be of the same data type.\n",
    "\n",
    "For example, in heights_arr, we recorded all heights in whole numbers; thus each element is stored as an integer in the array. To check the data type, use numpy.ndarray.dtype"
   ]
  },
  {
   "cell_type": "code",
   "execution_count": 30,
   "id": "1c45a6c3",
   "metadata": {},
   "outputs": [
    {
     "data": {
      "text/plain": [
       "dtype('int32')"
      ]
     },
     "execution_count": 30,
     "metadata": {},
     "output_type": "execute_result"
    }
   ],
   "source": [
    "heights_arr.dtype"
   ]
  },
  {
   "cell_type": "markdown",
   "id": "8f8518c7",
   "metadata": {},
   "source": [
    "If we mixed a float number in, say, the first element is 189.0 instead of 189:"
   ]
  },
  {
   "cell_type": "code",
   "execution_count": 31,
   "id": "c570ff63",
   "metadata": {},
   "outputs": [],
   "source": [
    "heights_float = [189.0, 170, 189, 163, 183,\n",
    "            171, 185, 168, 173, 183, 173, 173,\n",
    "            175, 178, 183, 193, 178, 173, 174,\n",
    "            183, 183, 180, 168, 180, 170, 178,\n",
    "            182, 180, 183, 178, 182, 188, 175,\n",
    "            179, 183, 193, 182, 183, 177, 185,\n",
    "            188, 188, 182, 185, 191]"
   ]
  },
  {
   "cell_type": "markdown",
   "id": "48ffcf91",
   "metadata": {},
   "source": [
    "Then aftter converting the list into an array, we'd see all other numbers are coerced into floats:"
   ]
  },
  {
   "cell_type": "code",
   "execution_count": 32,
   "id": "f07689c7",
   "metadata": {},
   "outputs": [
    {
     "data": {
      "text/plain": [
       "dtype('float64')"
      ]
     },
     "execution_count": 32,
     "metadata": {},
     "output_type": "execute_result"
    }
   ],
   "source": [
    "heights_float_arr=np.array(heights_float)\n",
    "heights_float_arr\n",
    "heights_float_arr.dtype"
   ]
  },
  {
   "cell_type": "markdown",
   "id": "c172a32a",
   "metadata": {},
   "source": [
    "Numpy supports several data types such as int(integer), float(numeric floating point), and bool(boolean values, True and Flase). The number after the data type, ex. int64, represents the bitsize of the data type."
   ]
  },
  {
   "cell_type": "markdown",
   "id": "2e9fa8c5",
   "metadata": {},
   "source": [
    "## Indexing and Slicing in Numpy\n",
    "\n",
    "### Slicing\n",
    "\n",
    "What if we wnat to inspect the the first three elements from the row in a 2darray? We use \":\" to select all the elements from the index up to but no including the ending index. This is called slicing.\n"
   ]
  },
  {
   "cell_type": "code",
   "execution_count": 9,
   "id": "9a14b810",
   "metadata": {},
   "outputs": [
    {
     "data": {
      "text/plain": [
       "array([189, 170, 189])"
      ]
     },
     "execution_count": 9,
     "metadata": {},
     "output_type": "execute_result"
    }
   ],
   "source": [
    "my_2_45_matrix[0, 0:3]"
   ]
  },
  {
   "cell_type": "code",
   "execution_count": 12,
   "id": "d147b80d",
   "metadata": {},
   "outputs": [
    {
     "data": {
      "text/plain": [
       "array([189, 170, 189, 163, 183, 171, 185, 168, 173, 183, 173, 173, 175,\n",
       "       178, 183, 193, 178, 173, 174, 183, 183, 180, 168, 180, 170, 178,\n",
       "       182, 180, 183, 178, 182, 188, 175, 179, 183, 193, 182, 183, 177,\n",
       "       185, 188, 188, 182, 185, 191])"
      ]
     },
     "execution_count": 12,
     "metadata": {},
     "output_type": "execute_result"
    }
   ],
   "source": [
    "my_2_45_matrix[0]"
   ]
  },
  {
   "cell_type": "markdown",
   "id": "439871c4",
   "metadata": {},
   "source": [
    "When the starting index is 0, we can omit it as shown bellow:"
   ]
  },
  {
   "cell_type": "code",
   "execution_count": 10,
   "id": "6e490f1e",
   "metadata": {},
   "outputs": [
    {
     "data": {
      "text/plain": [
       "array([189, 170, 189])"
      ]
     },
     "execution_count": 10,
     "metadata": {},
     "output_type": "execute_result"
    }
   ],
   "source": [
    "my_2_45_matrix[0, :3]"
   ]
  },
  {
   "cell_type": "markdown",
   "id": "26ae6194",
   "metadata": {},
   "source": [
    "What if we'd like to see the entire fourth column? Specify this by using a \":\" as follows"
   ]
  },
  {
   "cell_type": "code",
   "execution_count": 13,
   "id": "8c695154",
   "metadata": {},
   "outputs": [
    {
     "data": {
      "text/plain": [
       "array([163,  57])"
      ]
     },
     "execution_count": 13,
     "metadata": {},
     "output_type": "execute_result"
    }
   ],
   "source": [
    "my_2_45_matrix[:, 3]"
   ]
  },
  {
   "cell_type": "markdown",
   "id": "85662ec1",
   "metadata": {},
   "source": [
    "Numpy slicing syntax follows that of a python list list: arr[start:stop:step]. When  any of these are unspecified, they default to the values start=0, stop=size of dimension, step=1.\n",
    "\n",
    "Which of the following is the the correct syntax to select the second column of the second 2darray my_2_45_matrix of shape(2,45)?"
   ]
  },
  {
   "cell_type": "code",
   "execution_count": 16,
   "id": "bcaecf59",
   "metadata": {},
   "outputs": [
    {
     "data": {
      "text/plain": [
       "array([57, 61, 57, 57, 58, 57, 61, 54, 68, 51, 49, 64, 50, 48, 65, 52, 56,\n",
       "       46, 54, 49, 51, 47, 55, 55, 54, 42, 51, 56, 55, 51, 54, 51, 60, 62,\n",
       "       43, 55, 56, 61, 52, 69, 64, 46, 54, 47, 70])"
      ]
     },
     "execution_count": 16,
     "metadata": {},
     "output_type": "execute_result"
    }
   ],
   "source": [
    "my_2_45_matrix[1,:]\n",
    "my_2_45_matrix[:,1]\n",
    "my_2_45_matrix[,1]"
   ]
  },
  {
   "cell_type": "code",
   "execution_count": 46,
   "id": "e592fe34",
   "metadata": {
    "collapsed": true
   },
   "outputs": [
    {
     "data": {
      "text/plain": [
       "array([[189, 170, 189, 163, 183, 171, 185, 168, 173, 183, 173, 173, 175,\n",
       "        178, 183, 193, 178, 173, 174, 183, 183, 180, 168, 180, 170, 178,\n",
       "        182, 180, 183, 178, 182, 188, 175, 179, 183, 193, 182, 183, 177,\n",
       "        185, 188, 188, 182, 185, 191],\n",
       "       [ 57,  61,  57,  57,  58,  57,  61,  54,  68,  51,  49,  64,  50,\n",
       "         48,  65,  52,  56,  46,  54,  49,  51,  47,  55,  55,  54,  42,\n",
       "         51,  56,  55,  51,  54,  51,  60,  62,  43,  55,  56,  61,  52,\n",
       "         69,  64,  46,  54,  47,  70]])"
      ]
     },
     "execution_count": 46,
     "metadata": {},
     "output_type": "execute_result"
    }
   ],
   "source": [
    "my_2_45_matrix"
   ]
  },
  {
   "cell_type": "markdown",
   "id": "6f32a7d2",
   "metadata": {},
   "source": [
    "## Assigning Values\n",
    "\n",
    "### Assigning Single Values\n",
    "\n",
    "Sometimes you need to change the values of particular elements in the array. For example, we noticed the fourth entry in the heights_arr was incorrect, it should be 165 instead of 163, we can re-assign the correct number by:"
   ]
  },
  {
   "cell_type": "code",
   "execution_count": 47,
   "id": "cf5303a0",
   "metadata": {},
   "outputs": [
    {
     "data": {
      "text/plain": [
       "163"
      ]
     },
     "execution_count": 47,
     "metadata": {},
     "output_type": "execute_result"
    }
   ],
   "source": [
    "heights_arr[3]"
   ]
  },
  {
   "cell_type": "markdown",
   "id": "bc451a8c",
   "metadata": {},
   "source": [
    "In a 2darray, single values can be assigned easily. You can use indexing for one element. For example, change the fourth entry in heights_arr to 165:"
   ]
  },
  {
   "cell_type": "code",
   "execution_count": 50,
   "id": "d0769b4c",
   "metadata": {},
   "outputs": [
    {
     "name": "stdout",
     "output_type": "stream",
     "text": [
      "[[189 170 189 165 183 171 185 168 173 183 173 173 175 178 183 193 178 173\n",
      "  174 183 183 180 168 180 170 178 182 180 183 178 182 188 175 179 183 193\n",
      "  182 183 177 185 188 188 182 185 191]\n",
      " [ 57  61  57  57  58  57  61  54  68  51  49  64  50  48  65  52  56  46\n",
      "   54  49  51  47  55  55  54  42  51  56  55  51  54  51  60  62  43  55\n",
      "   56  61  52  69  64  46  54  47  70]]\n"
     ]
    }
   ],
   "source": [
    "import numpy as np\n",
    "\n",
    "heights = [189, 170, 189, 163, 183, 171, 185, \n",
    "           168, 173, 183, 173, 173, 175, 178,\n",
    "           183, 193, 178, 173, 174, 183, 183,\n",
    "           180, 168, 180, 170, 178, 182, 180, \n",
    "           183, 178, 182, 188, 175, 179, 183, \n",
    "           193, 182, 183, 177, 185, 188, 188, \n",
    "           182, 185, 191]\n",
    "\n",
    "ages = [57, 61, 57, 57, 58, 57, 61, 54, 68, \n",
    "        51, 49, 64, 50, 48, 65, 52, 56, 46, \n",
    "        54, 49, 51, 47, 55, 55, 54, 42, 51, \n",
    "        56, 55, 51, 54, 51, 60, 62, 43, 55, \n",
    "        56, 61, 52, 69, 64, 46, 54, 47, 70]\n",
    "\n",
    "heights_and_ages = heights + ages \n",
    "heights_and_ages_arr = np.array(heights_and_ages)\n",
    "heights_and_ages_arr = heights_and_ages_arr.reshape((2,45))\n",
    "heights_and_ages_arr[0, 3] = 165\n",
    "print(heights_and_ages_arr)"
   ]
  },
  {
   "cell_type": "markdown",
   "id": "73d99030",
   "metadata": {},
   "source": [
    "Or we can use slicing for multiple elements. For example, to replace the first row by its mean 180 in heights_and_ages_arr:"
   ]
  },
  {
   "cell_type": "code",
   "execution_count": 51,
   "id": "197db13f",
   "metadata": {},
   "outputs": [
    {
     "name": "stdout",
     "output_type": "stream",
     "text": [
      "[[180 180 180 180 180 180 180 180 180 180 180 180 180 180 180 180 180 180\n",
      "  180 180 180 180 180 180 180 180 180 180 180 180 180 180 180 180 180 180\n",
      "  180 180 180 180 180 180 180 180 180]\n",
      " [ 57  61  57  57  58  57  61  54  68  51  49  64  50  48  65  52  56  46\n",
      "   54  49  51  47  55  55  54  42  51  56  55  51  54  51  60  62  43  55\n",
      "   56  61  52  69  64  46  54  47  70]]\n"
     ]
    }
   ],
   "source": [
    "import numpy as np\n",
    "\n",
    "heights = [189, 170, 189, 163, 183, 171, \n",
    "           185, 168, 173, 183, 173, 173, \n",
    "           175, 178, 183, 193, 178, 173, \n",
    "           174, 183, 183, 180, 168, 180, \n",
    "           170, 178, 182, 180, 183, 178, \n",
    "           182, 188, 175, 179, 183, 193, \n",
    "           182, 183, 177, 185, 188, 188, \n",
    "           182, 185, 191]\n",
    "\n",
    "ages = [57, 61, 57, 57, 58, 57, 61, 54, \n",
    "        68, 51, 49, 64, 50, 48, 65, 52, \n",
    "        56, 46, 54, 49, 51, 47, 55, 55, \n",
    "        54, 42, 51, 56, 55, 51, 54, 51, \n",
    "        60, 62, 43, 55, 56, 61, 52, 69, \n",
    "        64, 46, 54, 47, 70]\n",
    "\n",
    "heights_and_ages = heights + ages \n",
    "heights_and_ages_arr = np.array(heights_and_ages)\n",
    "heights_and_ages_arr = heights_and_ages_arr.reshape((2,45))\n",
    "\n",
    "heights_and_ages_arr[0,:] = 180\n",
    "print(heights_and_ages_arr)"
   ]
  },
  {
   "cell_type": "markdown",
   "id": "e1a84378",
   "metadata": {},
   "source": [
    "We can also combine slicing to change any subset of the array. For example, to reassign 0 to the left upper corner:"
   ]
  },
  {
   "cell_type": "code",
   "execution_count": 52,
   "id": "eaf77c45",
   "metadata": {},
   "outputs": [
    {
     "name": "stdout",
     "output_type": "stream",
     "text": [
      "[[  0   0 189 163 183 171 185 168 173 183 173 173 175 178 183 193 178 173\n",
      "  174 183 183 180 168 180 170 178 182 180 183 178 182 188 175 179 183 193\n",
      "  182 183 177 185 188 188 182 185 191]\n",
      " [  0   0  57  57  58  57  61  54  68  51  49  64  50  48  65  52  56  46\n",
      "   54  49  51  47  55  55  54  42  51  56  55  51  54  51  60  62  43  55\n",
      "   56  61  52  69  64  46  54  47  70]]\n"
     ]
    }
   ],
   "source": [
    "heights_and_ages = heights + ages\n",
    "heights_and_ages_arr = np.array(heights_and_ages)\n",
    "heights_and_ages_arr = heights_and_ages_arr.reshape((2,45))\n",
    "\n",
    "heights_and_ages_arr[:2, :2] = 0\n",
    "print(heights_and_ages_arr)"
   ]
  },
  {
   "cell_type": "markdown",
   "id": "3ae37034",
   "metadata": {},
   "source": [
    "It is easy to update values in a subarray when you combine arrays with slicing. For more on basic slicing and advanced indexing in numpy check out this : https://numpy.org/doc/stable/reference/arrays.indexing.html\n",
    "\n",
    "## Assigning an Array to an Array\n",
    "\n",
    "\n",
    "In addition, a 1darray or a 2darry can be assigned to a subset of another 2darray, as long as their shapes match. Recall the 2darray heights_and_ages_arr:"
   ]
  },
  {
   "cell_type": "code",
   "execution_count": 54,
   "id": "025372a8",
   "metadata": {},
   "outputs": [
    {
     "name": "stdout",
     "output_type": "stream",
     "text": [
      "[[189 170 189 163 183 171 185 168 173 183 173 173 175 178 183 193 178 173\n",
      "  174 183 183 180 168 180 170 178 182 180 183 178 182 188 175 179 183 193\n",
      "  182 183 177 185 188 188 182 185 191]\n",
      " [ 57  61  57  57  58  57  61  54  68  51  49  64  50  48  65  52  56  46\n",
      "   54  49  51  47  55  55  54  42  51  56  55  51  54  51  60  62  43  55\n",
      "   56  61  52  69  64  46  54  47  70]]\n"
     ]
    }
   ],
   "source": [
    "import numpy as np\n",
    "\n",
    "heights = [189, 170, 189, 163, 183, 171, 185, 168, 173, 183, 173, 173, 175, 178, 183, 193, 178, 173, 174, 183, 183, 180, 168, 180, 170, 178, 182, 180, 183, 178, 182, 188, 175, 179, 183, 193, 182, 183, 177, 185, 188, 188, 182, 185, 191]\n",
    "\n",
    "ages = [57, 61, 57, 57, 58, 57, 61, 54, 68, 51, 49, 64, 50, 48, 65, 52, 56, 46, 54, 49, 51, 47, 55, 55, 54, 42, 51, 56, 55, 51, 54, 51, 60, 62, 43, 55, 56, 61, 52, 69, 64, 46, 54, 47, 70]\n",
    "\n",
    "heights_and_ages = heights + ages\n",
    "heights_and_ages_arr = np.array(heights_and_ages)\n",
    "heights_and_ages_arr = heights_and_ages_arr.reshape((2,45))\n",
    "print(heights_and_ages_arr)"
   ]
  },
  {
   "cell_type": "markdown",
   "id": "458ce364",
   "metadata": {},
   "source": [
    "If we want to update both height and age of the first president with new data, we can supply the data in a list:"
   ]
  },
  {
   "cell_type": "code",
   "execution_count": 55,
   "id": "815b6f09",
   "metadata": {},
   "outputs": [
    {
     "name": "stdout",
     "output_type": "stream",
     "text": [
      "[[190 170 189 163 183 171 185 168 173 183 173 173 175 178 183 193 178 173\n",
      "  174 183 183 180 168 180 170 178 182 180 183 178 182 188 175 179 183 193\n",
      "  182 183 177 185 188 188 182 185 191]\n",
      " [ 58  61  57  57  58  57  61  54  68  51  49  64  50  48  65  52  56  46\n",
      "   54  49  51  47  55  55  54  42  51  56  55  51  54  51  60  62  43  55\n",
      "   56  61  52  69  64  46  54  47  70]]\n"
     ]
    }
   ],
   "source": [
    "heights_and_ages_arr[:, 0] = [190, 58]\n",
    "print(heights_and_ages_arr)"
   ]
  },
  {
   "cell_type": "markdown",
   "id": "005b1881",
   "metadata": {},
   "source": [
    "We can also update data in a subarray with a numpy array as such:"
   ]
  },
  {
   "cell_type": "code",
   "execution_count": 56,
   "id": "cc1d4069",
   "metadata": {},
   "outputs": [
    {
     "name": "stdout",
     "output_type": "stream",
     "text": [
      "[[190 170 189 163 183 171 185 168 173 183 173 173 175 178 183 193 178 173\n",
      "  174 183 183 180 168 180 170 178 182 180 183 178 182 188 175 179 183 193\n",
      "  182 183 177 185 188 188 180 183 190]\n",
      " [ 58  61  57  57  58  57  61  54  68  51  49  64  50  48  65  52  56  46\n",
      "   54  49  51  47  55  55  54  42  51  56  55  51  54  51  60  62  43  55\n",
      "   56  61  52  69  64  46  54  50  69]]\n"
     ]
    }
   ],
   "source": [
    "new_record = np.array([[180, 183, 190], [54, 50, 69]])\n",
    "heights_and_ages_arr[:, 42:] = new_record\n",
    "print(heights_and_ages_arr)"
   ]
  },
  {
   "cell_type": "markdown",
   "id": "5707b937",
   "metadata": {},
   "source": [
    "Note the last three columns' values have changed.\n",
    "\n",
    "Updating a multidimensional array with a new record is straightforward in numpy as long as their shapes match."
   ]
  },
  {
   "cell_type": "markdown",
   "id": "3bccf9e2",
   "metadata": {},
   "source": [
    "## Combining Two Arrays\n",
    "\n",
    "\n",
    "Oftentime we obtain data stored in different arrays and we need to combine them into one to keep it in one place. For example, instead of having the ages stored in a list, it could be stored in a 2darray:"
   ]
  },
  {
   "cell_type": "code",
   "execution_count": 57,
   "id": "3967b1e9",
   "metadata": {},
   "outputs": [
    {
     "name": "stdout",
     "output_type": "stream",
     "text": [
      "(45,)\n",
      "[57 61 57]\n"
     ]
    }
   ],
   "source": [
    "import numpy as np\n",
    "\n",
    "ages = [57, 61, 57, 57, 58, 57, 61, 54, 68, 51, 49, 64, 50, 48, 65, 52, 56, 46, 54, 49, 51, 47, 55, 55, 54, 42, 51, 56, 55, 51, 54, 51, 60, 62, 43, 55, 56, 61, 52, 69, 64, 46, 54, 47, 70]\n",
    "\n",
    "ages_arr = np.array(ages)\n",
    "\n",
    "print(ages_arr.shape)\n",
    "print(ages_arr[:3,])"
   ]
  },
  {
   "cell_type": "markdown",
   "id": "d098d0a6",
   "metadata": {},
   "source": [
    "If we reshape the heights_arr to (45,1), the same as 'ages_arr', we can stack them horizontally (by column) to get a 2darray using 'hstack':"
   ]
  },
  {
   "cell_type": "code",
   "execution_count": 58,
   "id": "2838422a",
   "metadata": {},
   "outputs": [
    {
     "name": "stdout",
     "output_type": "stream",
     "text": [
      "(45, 2)\n",
      "[[189  57]\n",
      " [170  61]\n",
      " [189  57]]\n"
     ]
    }
   ],
   "source": [
    "import numpy as np\n",
    "\n",
    "heights = [189, 170, 189, 163, 183, 171, 185, 168, 173, 183, 173, 173, 175, 178, 183, 193, 178, 173, 174, 183, 183, 180, 168, 180, 170, 178, 182, 180, 183, 178, 182, 188, 175, 179, 183, 193, 182, 183, 177, 185, 188, 188, 182, 185, 191]\n",
    "ages = [57, 61, 57, 57, 58, 57, 61, 54, 68, 51, 49, 64, 50, 48, 65, 52, 56, 46, 54, 49, 51, 47, 55, 55, 54, 42, 51, 56, 55, 51, 54, 51, 60, 62, 43, 55, 56, 61, 52, 69, 64, 46, 54, 47, 70]\n",
    "\n",
    "heights_arr = np.array(heights)\n",
    "ages_arr = np.array(ages)\n",
    "\n",
    "heights_arr = heights_arr.reshape((45,1))\n",
    "ages_arr = ages_arr.reshape((45,1))\n",
    "\n",
    "height_age_arr = np.hstack((heights_arr, ages_arr))\n",
    "print(height_age_arr.shape)\n",
    "print(height_age_arr[:3,])"
   ]
  },
  {
   "cell_type": "markdown",
   "id": "bdf4cb7c",
   "metadata": {},
   "source": [
    "Now height_age_arr has both heights and ages for the presidents, each column corresponds to the height and age of one president.\n",
    "\n",
    "Similarly, if we want to combine the arrays vertically (by row), we can use 'vstack'."
   ]
  },
  {
   "cell_type": "code",
   "execution_count": 59,
   "id": "08dcb636",
   "metadata": {},
   "outputs": [
    {
     "name": "stdout",
     "output_type": "stream",
     "text": [
      "(2, 45)\n",
      "[[189 170 189]\n",
      " [ 57  61  57]]\n"
     ]
    }
   ],
   "source": [
    "import numpy as np\n",
    "\n",
    "heights = [189, 170, 189, 163, 183, 171, 185, 168, 173, 183, 173, 173, 175, 178, 183, 193, 178, 173, 174, 183, 183, 180, 168, 180, 170, 178, 182, 180, 183, 178, 182, 188, 175, 179, 183, 193, 182, 183, 177, 185, 188, 188, 182, 185, 191]\n",
    "ages = [57, 61, 57, 57, 58, 57, 61, 54, 68, 51, 49, 64, 50, 48, 65, 52, 56, 46, 54, 49, 51, 47, 55, 55, 54, 42, 51, 56, 55, 51, 54, 51, 60, 62, 43, 55, 56, 61, 52, 69, 64, 46, 54, 47, 70]\n",
    "\n",
    "heights_arr = np.array(heights)\n",
    "ages_arr = np.array(ages)\n",
    "\n",
    "heights_arr = heights_arr.reshape((1,45))\n",
    "ages_arr = ages_arr.reshape((1,45))\n",
    "\n",
    "height_age_arr = np.vstack((heights_arr, ages_arr))\n",
    "print(height_age_arr.shape)\n",
    "print(height_age_arr[:,:3])"
   ]
  },
  {
   "cell_type": "markdown",
   "id": "50f89a05",
   "metadata": {},
   "source": [
    "To combine more than two arrays horizontally, simply add the additional arrays into the tuple.\n",
    "\n",
    "## Concatenate\n",
    "\n",
    "\n",
    "More generally, we can use the function numpy.concatenate. If we want to concatenate, link together, two arrays along rows, then pass 'axis = 1' to achieve the same result as using numpy.hstack; and pass 'axis = 0' if you want to combine arrays vertically.\n",
    "\n",
    "In the example from the previous part, we were using hstack to combine two arrays horizontally, instead:"
   ]
  },
  {
   "cell_type": "code",
   "execution_count": 60,
   "id": "7c9d71e6",
   "metadata": {},
   "outputs": [
    {
     "name": "stdout",
     "output_type": "stream",
     "text": [
      "(45, 2)\n",
      "[[189  57]\n",
      " [170  61]\n",
      " [189  57]]\n"
     ]
    }
   ],
   "source": [
    "import numpy as np\n",
    "\n",
    "heights = [189, 170, 189, 163, 183, 171, 185, 168, 173, 183, 173, 173, 175, 178, 183, 193, 178, 173, 174, 183, 183, 180, 168, 180, 170, 178, 182, 180, 183, 178, 182, 188, 175, 179, 183, 193, 182, 183, 177, 185, 188, 188, 182, 185, 191]\n",
    "ages = [57, 61, 57, 57, 58, 57, 61, 54, 68, 51, 49, 64, 50, 48, 65, 52, 56, 46, 54, 49, 51, 47, 55, 55, 54, 42, 51, 56, 55, 51, 54, 51, 60, 62, 43, 55, 56, 61, 52, 69, 64, 46, 54, 47, 70]\n",
    "\n",
    "heights_arr = np.array(heights)\n",
    "ages_arr = np.array(ages)\n",
    "\n",
    "heights_arr = heights_arr.reshape((45,1))\n",
    "ages_arr = ages_arr.reshape((45,1))\n",
    "\n",
    "# height_age_arr = np.hstack((heights_arr, ages_arr))\n",
    "height_age_arr = np.concatenate((heights_arr, ages_arr), axis=1)\n",
    "\n",
    "print(height_age_arr.shape)\n",
    "print(height_age_arr[:3,:])"
   ]
  },
  {
   "cell_type": "markdown",
   "id": "d15dc88d",
   "metadata": {},
   "source": [
    "Also you can get the same result as using vstack:"
   ]
  },
  {
   "cell_type": "code",
   "execution_count": 61,
   "id": "813151c4",
   "metadata": {},
   "outputs": [
    {
     "name": "stdout",
     "output_type": "stream",
     "text": [
      "(2, 45)\n",
      "[[189 170 189]\n",
      " [ 57  61  57]]\n"
     ]
    }
   ],
   "source": [
    "import numpy as np\n",
    "\n",
    "heights = [189, 170, 189, 163, 183, 171, 185, 168, 173, 183, 173, 173, 175, 178, 183, 193, 178, 173, 174, 183, 183, 180, 168, 180, 170, 178, 182, 180, 183, 178, 182, 188, 175, 179, 183, 193, 182, 183, 177, 185, 188, 188, 182, 185, 191]\n",
    "ages = [57, 61, 57, 57, 58, 57, 61, 54, 68, 51, 49, 64, 50, 48, 65, 52, 56, 46, 54, 49, 51, 47, 55, 55, 54, 42, 51, 56, 55, 51, 54, 51, 60, 62, 43, 55, 56, 61, 52, 69, 64, 46, 54, 47, 70]\n",
    "\n",
    "heights_arr = np.array(heights)\n",
    "ages_arr = np.array(ages)\n",
    "\n",
    "heights_arr = heights_arr.reshape((1,45))\n",
    "ages_arr = ages_arr.reshape((1,45))\n",
    "\n",
    "#height_age_arr = np.vstack((heights_arr, ages_arr))\n",
    "height_age_arr = np.concatenate((heights_arr, ages_arr), axis=0)\n",
    "\n",
    "print(height_age_arr.shape)\n",
    "print(height_age_arr[:,:3])"
   ]
  },
  {
   "cell_type": "markdown",
   "id": "57f08981",
   "metadata": {},
   "source": [
    "You can use np.hstack to concatenate arrays ONLY if they have the same number of rows.\n",
    "\n",
    "# Lesson 2: Operations"
   ]
  },
  {
   "cell_type": "markdown",
   "id": "b52b5c66",
   "metadata": {},
   "source": [
    "## Mathematical Operations on Arrays\n",
    "\n",
    "\n",
    "Performing mathematical operations on arrays is straightforward. For instance, to convert the heights from centimeters to feet, knowing that 1 centimeter is equal to 0.0328084 feet, we can use multiplication:"
   ]
  },
  {
   "cell_type": "code",
   "execution_count": 62,
   "id": "8751e4fd",
   "metadata": {},
   "outputs": [
    {
     "name": "stdout",
     "output_type": "stream",
     "text": [
      "[6.2007876 5.577428  6.2007876 5.3477692 6.0039372 5.6102364 6.069554\n",
      " 5.5118112 5.6758532 6.0039372 5.6758532 5.6758532 5.74147   5.8398952\n",
      " 6.0039372 6.3320212 5.8398952 5.6758532 5.7086616 6.0039372 6.0039372\n",
      " 5.905512  5.5118112 5.905512  5.577428  5.8398952 5.9711288 5.905512\n",
      " 6.0039372 5.8398952 5.9711288 6.1679792 5.74147   5.8727036 6.0039372\n",
      " 6.3320212 5.9711288 6.0039372 5.8070868 6.069554  6.1679792 6.1679792\n",
      " 5.9711288 6.069554  6.2664044]\n"
     ]
    }
   ],
   "source": [
    "import numpy as np\n",
    "\n",
    "heights_arr = np.array([189, 170, 189, 163, 183, 171, 185, 168, 173, 183, 173, 173, 175, 178, 183, 193, 178, 173, 174, 183, 183, 180, 168, 180, 170, 178, 182, 180, 183, 178, 182, 188, 175, 179, 183, 193, 182, 183, 177, 185, 188, 188, 182, 185, 191])\n",
    "ages_arr = np.array([57, 61, 57, 57, 58, 57, 61, 54, 68, 51, 49, 64, 50, 48, 65, 52, 56, 46, 54, 49, 51, 47, 55, 55, 54, 42, 51, 56, 55, 51, 54, 51, 60, 62, 43, 55, 56, 61, 52, 69, 64, 46, 54, 47, 70]).reshape((-1,1))\n",
    "\n",
    "heights_arr = heights_arr.reshape((45,1))\n",
    "height_age_arr = np.hstack((heights_arr, ages_arr))\n",
    "\n",
    "print(height_age_arr[:,0]*0.0328084)"
   ]
  },
  {
   "attachments": {
    "1.png": {
     "image/png": "[encoded data removed]"
    }
   },
   "cell_type": "markdown",
   "id": "923e1844",
   "metadata": {},
   "source": [
    "Now we have all heights in feet. Note that this operation won’t change the original array, it returns a new 1darray where 0.0328084 has been multiplied to each element in the first column of 'heights_age_arr'.\n",
    "\n",
    "\n",
    "Other mathematical operations for addition, subtraction, division and power (+, -, /, **) work the same way on arrays.\n",
    "\n",
    "![1.png](attachment:1.png)"
   ]
  },
  {
   "cell_type": "markdown",
   "id": "ddbf08c7",
   "metadata": {},
   "source": [
    "## Numpy Array Method\n",
    "\n",
    "\n",
    "In addition, there are several methods in numpy to perform more complex calculations on arrays. For example, the sum() method finds the sum of all the elements in an array:"
   ]
  },
  {
   "cell_type": "code",
   "execution_count": 63,
   "id": "447d73df",
   "metadata": {},
   "outputs": [
    {
     "name": "stdout",
     "output_type": "stream",
     "text": [
      "10575\n"
     ]
    }
   ],
   "source": [
    "import numpy as np\n",
    "\n",
    "heights_arr = np.array([189, 170, 189, 163, 183, 171, 185, 168, 173, 183, 173, 173, 175, 178, 183, 193, 178, 173, 174, 183, 183, 180, 168, 180, 170, 178, 182, 180, 183, 178, 182, 188, 175, 179, 183, 193, 182, 183, 177, 185, 188, 188, 182, 185, 191])\n",
    "ages_arr = np.array([57, 61, 57, 57, 58, 57, 61, 54, 68, 51, 49, 64, 50, 48, 65, 52, 56, 46, 54, 49, 51, 47, 55, 55, 54, 42, 51, 56, 55, 51, 54, 51, 60, 62, 43, 55, 56, 61, 52, 69, 64, 46, 54, 47, 70]).reshape((-1,1))\n",
    "\n",
    "heights_arr = heights_arr.reshape((45,1))\n",
    "height_age_arr = np.hstack((heights_arr, ages_arr))\n",
    "\n",
    "print(height_age_arr.sum())"
   ]
  },
  {
   "cell_type": "markdown",
   "id": "b1e2a516",
   "metadata": {},
   "source": [
    "The sum of all heights and ages is 10575. In order to sum all heights and sum all ages separately, we can specify axis=0 to calculate the sum across the rows, that is, it computes the sum for each column, or column sum. On the other hand, to obtain the row sums specify axis=1. In this example, we want to calculate the total sum of heights and ages, respectively:"
   ]
  },
  {
   "cell_type": "code",
   "execution_count": 64,
   "id": "01b8be29",
   "metadata": {},
   "outputs": [
    {
     "name": "stdout",
     "output_type": "stream",
     "text": [
      "[8100 2475]\n"
     ]
    }
   ],
   "source": [
    "import numpy as np\n",
    "\n",
    "heights_arr = np.array([189, 170, 189, 163, 183, 171, 185, 168, 173, 183, 173, 173, 175, 178, 183, 193, 178, 173, 174, 183, 183, 180, 168, 180, 170, 178, 182, 180, 183, 178, 182, 188, 175, 179, 183, 193, 182, 183, 177, 185, 188, 188, 182, 185, 191])\n",
    "ages_arr = np.array([57, 61, 57, 57, 58, 57, 61, 54, 68, 51, 49, 64, 50, 48, 65, 52, 56, 46, 54, 49, 51, 47, 55, 55, 54, 42, 51, 56, 55, 51, 54, 51, 60, 62, 43, 55, 56, 61, 52, 69, 64, 46, 54, 47, 70]).reshape((-1,1))\n",
    "\n",
    "heights_arr = heights_arr.reshape((45,1))\n",
    "height_age_arr = np.hstack((heights_arr, ages_arr))\n",
    "\n",
    "print(height_age_arr.sum(axis=0))"
   ]
  },
  {
   "attachments": {
    "2.png": {
     "image/png": "[encoded data removed]"
    }
   },
   "cell_type": "markdown",
   "id": "c7e9afe3",
   "metadata": {},
   "source": [
    "The output is the row sums: heights of all presidents (i.e., the first row) add up to 8100, and the sum of ages (i.e., the second row) is 2475.\n",
    "\n",
    "\n",
    "Other operations, such as .min(), .max(), .mean(), work in a similar way to .sum().\n",
    "\n",
    "![2.png](attachment:2.png)"
   ]
  },
  {
   "cell_type": "markdown",
   "id": "309f99c6",
   "metadata": {},
   "source": [
    "## Comparisons\n",
    "\n",
    "\n",
    "In practicing data science, we often encounter comparisons to identify rows that match certain values. We can use operations including \"<\", \">\", \">=\", \"<=\", and \"==\" to do so. For example, in the height_age_arr dataset, we might be interested in only those presidents who started their presidency younger than 55 years old."
   ]
  },
  {
   "cell_type": "code",
   "execution_count": 65,
   "id": "aa177375",
   "metadata": {},
   "outputs": [
    {
     "name": "stdout",
     "output_type": "stream",
     "text": [
      "[False False False False False False False  True False  True  True False\n",
      "  True  True False  True False  True  True  True  True  True False False\n",
      "  True  True  True False False  True  True  True False False  True False\n",
      " False False  True False False  True  True  True False]\n"
     ]
    }
   ],
   "source": [
    "import numpy as np\n",
    "\n",
    "heights_arr = np.array([189, 170, 189, 163, 183, 171, 185, 168, 173, 183, 173, 173, 175, 178, 183, 193, 178, 173, 174, 183, 183, 180, 168, 180, 170, 178, 182, 180, 183, 178, 182, 188, 175, 179, 183, 193, 182, 183, 177, 185, 188, 188, 182, 185, 191])\n",
    "ages_arr = np.array([57, 61, 57, 57, 58, 57, 61, 54, 68, 51, 49, 64, 50, 48, 65, 52, 56, 46, 54, 49, 51, 47, 55, 55, 54, 42, 51, 56, 55, 51, 54, 51, 60, 62, 43, 55, 56, 61, 52, 69, 64, 46, 54, 47, 70]).reshape((-1,1))\n",
    "\n",
    "heights_arr = heights_arr.reshape((45,1))\n",
    "height_age_arr = np.hstack((heights_arr, ages_arr))\n",
    "\n",
    "print(height_age_arr[:, 1] < 55)"
   ]
  },
  {
   "cell_type": "markdown",
   "id": "b9a38415",
   "metadata": {},
   "source": [
    "The output is a 1darray with boolean values that indicates which presidents meet the criteria. If we are only interested in which presidents started their presidency at 51 years of age, we can use \"==\" instead."
   ]
  },
  {
   "cell_type": "code",
   "execution_count": 66,
   "id": "d485cce3",
   "metadata": {},
   "outputs": [
    {
     "name": "stdout",
     "output_type": "stream",
     "text": [
      "[False False False False False False False False False  True False False\n",
      " False False False False False False False False  True False False False\n",
      " False False  True False False  True False  True False False False False\n",
      " False False False False False False False False False]\n"
     ]
    }
   ],
   "source": [
    "import numpy as np\n",
    "\n",
    "heights_arr = np.array([189, 170, 189, 163, 183, 171, 185, 168, 173, 183, 173, 173, 175, 178, 183, 193, 178, 173, 174, 183, 183, 180, 168, 180, 170, 178, 182, 180, 183, 178, 182, 188, 175, 179, 183, 193, 182, 183, 177, 185, 188, 188, 182, 185, 191])\n",
    "ages_arr = np.array([57, 61, 57, 57, 58, 57, 61, 54, 68, 51, 49, 64, 50, 48, 65, 52, 56, 46, 54, 49, 51, 47, 55, 55, 54, 42, 51, 56, 55, 51, 54, 51, 60, 62, 43, 55, 56, 61, 52, 69, 64, 46, 54, 47, 70]).reshape((-1,1))\n",
    "\n",
    "heights_arr = heights_arr.reshape((45,1))\n",
    "height_age_arr = np.hstack((heights_arr, ages_arr))\n",
    "\n",
    "print(height_age_arr[:, 1] == 51)"
   ]
  },
  {
   "attachments": {
    "3.png": {
     "image/png": "[encoded data removed]"
    }
   },
   "cell_type": "markdown",
   "id": "de4d5ebe",
   "metadata": {},
   "source": [
    "To find out how many rows satisfy the condition, use .sum() on the resultant 1d boolean array, e.g., (height_age_arr[:, 1] == 51).sum(), to see that there were exactly five presidents who started the presidency at age 51. True is treated as 1 and False as 0 in the sum.\n",
    "\n",
    "![3.png](attachment:3.png)"
   ]
  },
  {
   "cell_type": "markdown",
   "id": "9a1b8bd5",
   "metadata": {},
   "source": [
    "## Mask & Subsetting\n",
    "\n",
    "\n",
    "Now that rows matching certain criteria can be identified, a subset of the data can be found. For example, instead of the entire dataset, we want only tall presidents, that is, those presidents whose height is greater than or equal to 182 cm. We first create a mask, 1darray with boolean values:"
   ]
  },
  {
   "cell_type": "code",
   "execution_count": 67,
   "id": "a86f367d",
   "metadata": {},
   "outputs": [
    {
     "name": "stdout",
     "output_type": "stream",
     "text": [
      "23\n"
     ]
    }
   ],
   "source": [
    "import numpy as np\n",
    "\n",
    "heights_arr = np.array([189, 170, 189, 163, 183, 171, 185, 168, 173, 183, 173, 173, 175, 178, 183, 193, 178, 173, 174, 183, 183, 180, 168, 180, 170, 178, 182, 180, 183, 178, 182, 188, 175, 179, 183, 193, 182, 183, 177, 185, 188, 188, 182, 185, 191])\n",
    "ages_arr = np.array([57, 61, 57, 57, 58, 57, 61, 54, 68, 51, 49, 64, 50, 48, 65, 52, 56, 46, 54, 49, 51, 47, 55, 55, 54, 42, 51, 56, 55, 51, 54, 51, 60, 62, 43, 55, 56, 61, 52, 69, 64, 46, 54, 47, 70]).reshape((-1,1))\n",
    "\n",
    "heights_arr = heights_arr.reshape((45,1))\n",
    "height_age_arr = np.hstack((heights_arr, ages_arr))\n",
    "\n",
    "mask = height_age_arr[:, 0] >= 182\n",
    "print(mask.sum())"
   ]
  },
  {
   "cell_type": "markdown",
   "id": "626eb00d",
   "metadata": {},
   "source": [
    "Then pass it to the first axis of `height_age_arr` to filter presidents who don’t meet the criteria:"
   ]
  },
  {
   "cell_type": "code",
   "execution_count": 9,
   "id": "9dfa78cf",
   "metadata": {},
   "outputs": [
    {
     "name": "stdout",
     "output_type": "stream",
     "text": [
      "(23, 2)\n"
     ]
    }
   ],
   "source": [
    "import numpy as np\n",
    "\n",
    "heights_arr = np.array([189, 170, 189, 163, 183, 171, 185, 168, 173, 183, 173, 173, 175, 178, 183, 193, 178, 173, 174, 183, 183, 180, 168, 180, 170, 178, 182, 180, 183, 178, 182, 188, 175, 179, 183, 193, 182, 183, 177, 185, 188, 188, 182, 185, 191])\n",
    "ages_arr = np.array([57, 61, 57, 57, 58, 57, 61, 54, 68, 51, 49, 64, 50, 48, 65, 52, 56, 46, 54, 49, 51, 47, 55, 55, 54, 42, 51, 56, 55, 51, 54, 51, 60, 62, 43, 55, 56, 61, 52, 69, 64, 46, 54, 47, 70]).reshape((-1,1))\n",
    "\n",
    "heights_arr = heights_arr.reshape((45,1))\n",
    "height_age_arr = np.hstack((heights_arr, ages_arr))\n",
    "\n",
    "mask = height_age_arr[:, 0] >= 182\n",
    "tall_presidents = height_age_arr[mask, ]\n",
    "tall_presidents.shape\n",
    "\n",
    "print(tall_presidents.shape)"
   ]
  },
  {
   "attachments": {
    "4.png": {
     "image/png": "[encoded data removed]"
    }
   },
   "cell_type": "markdown",
   "id": "883a8ba8",
   "metadata": {},
   "source": [
    "This is a subarray of height_age_arr, and all presidents in tall_presidents were at least 182cm tall.\n",
    "Masking is used to extract, modify, count, or otherwise manipulate values in an array based on some criterion. In our example, the criteria was height of 182cm or taller.\n",
    "\n",
    "![4.png](attachment:4.png)"
   ]
  },
  {
   "cell_type": "markdown",
   "id": "eb076ac0",
   "metadata": {},
   "source": [
    "## Multiple Criteria\n",
    "\n",
    "\n",
    "We can create a mask satisfying more than one criteria. For example, in addition to height, we want to find those presidents that were 50 years old or younger at the start of their presidency. To achieve this, we use & to separate the conditions and each condition is encapsulated with parentheses \"()\" as shown below:"
   ]
  },
  {
   "cell_type": "code",
   "execution_count": 69,
   "id": "5c8e30ba",
   "metadata": {},
   "outputs": [
    {
     "name": "stdout",
     "output_type": "stream",
     "text": [
      "[[183  49]\n",
      " [183  43]\n",
      " [188  46]\n",
      " [185  47]]\n"
     ]
    }
   ],
   "source": [
    "import numpy as np\n",
    "\n",
    "heights_arr = np.array([189, 170, 189, 163, 183, 171, 185, 168, 173, 183, 173, 173, 175, 178, 183, 193, 178, 173, 174, 183, 183, 180, 168, 180, 170, 178, 182, 180, 183, 178, 182, 188, 175, 179, 183, 193, 182, 183, 177, 185, 188, 188, 182, 185, 191])\n",
    "ages_arr = np.array([57, 61, 57, 57, 58, 57, 61, 54, 68, 51, 49, 64, 50, 48, 65, 52, 56, 46, 54, 49, 51, 47, 55, 55, 54, 42, 51, 56, 55, 51, 54, 51, 60, 62, 43, 55, 56, 61, 52, 69, 64, 46, 54, 47, 70]).reshape((-1,1))\n",
    "\n",
    "heights_arr = heights_arr.reshape((45,1))\n",
    "height_age_arr = np.hstack((heights_arr, ages_arr))\n",
    "\n",
    "mask = (height_age_arr[:, 0]>=182) & (height_age_arr[:,1]<=50)\n",
    "\n",
    "print(height_age_arr[mask,])"
   ]
  },
  {
   "attachments": {
    "5.png": {
     "image/png": "[encoded data removed]"
    }
   },
   "cell_type": "markdown",
   "id": "f43dd5f6",
   "metadata": {},
   "source": [
    "The results show us that there are four presidents who satisfy both conditions.\n",
    "\n",
    "\n",
    "Data manipulation in Python is nearly synonymous with Numpy array manipulation. Operations shown here are the building blocks of many other examples used throughout this course. It is important to master them!\n",
    "\n",
    "![5.png](attachment:5.png)"
   ]
  },
  {
   "attachments": {
    "6.png": {
     "image/png": "[encoded data removed]"
    }
   },
   "cell_type": "markdown",
   "id": "d37f53a8",
   "metadata": {},
   "source": [
    "# Quiz\n",
    "![6.png](attachment:6.png)\n",
    "\n",
    "\n",
    "\n"
   ]
  },
  {
   "attachments": {
    "7.png": {
     "image/png": "[encoded data removed]"
    }
   },
   "cell_type": "markdown",
   "id": "62827fa5",
   "metadata": {},
   "source": [
    "![7.png](attachment:7.png)"
   ]
  },
  {
   "attachments": {
    "8.png": {
     "image/png": "[encoded data removed]"
    }
   },
   "cell_type": "markdown",
   "id": "8e37d047",
   "metadata": {},
   "source": [
    "![8.png](attachment:8.png)"
   ]
  },
  {
   "attachments": {
    "9.png": {
     "image/png": "[encoded data removed]"
    }
   },
   "cell_type": "markdown",
   "id": "7e3fde75",
   "metadata": {},
   "source": [
    "![9.png](attachment:9.png)"
   ]
  },
  {
   "attachments": {
    "10.png": {
     "image/png": "[encoded data removed]"
    }
   },
   "cell_type": "markdown",
   "id": "ce5a8bfb",
   "metadata": {},
   "source": [
    "![10.png](attachment:10.png)"
   ]
  },
  {
   "cell_type": "markdown",
   "id": "880cd1d6",
   "metadata": {},
   "source": [
    "# Problem : Data Science - Average of Rows\n",
    "\n",
    "\n",
    "In a matrix, or 2-d array X, the averages (or means) of the elements of rows is called row means.\n",
    "\n",
    "## Task\n",
    "\n",
    "Given a 2D array, return the rowmeans.\n",
    "\n",
    "Input Format\n",
    "\n",
    "First line: two integers separated by spaces, the first indicates the rows of matrix X (n) and the second indicates the columns of X (p)\n",
    "\n",
    "\n",
    "Next n lines: values of the row in X\n",
    "\n",
    "Output Format\n",
    "\n",
    "\n",
    "An numpy 1d array of values rounded to the second decimal.\n",
    "\n",
    "2 2\n",
    "\n",
    "1.5 1\n",
    "\n",
    "2 2.9"
   ]
  },
  {
   "cell_type": "code",
   "execution_count": 6,
   "id": "a4ec9190",
   "metadata": {},
   "outputs": [
    {
     "name": "stdout",
     "output_type": "stream",
     "text": [
      "2 2\n",
      "1.5 1\n",
      "2 2.9\n",
      "[1.25 2.45]\n"
     ]
    }
   ],
   "source": [
    "import numpy as np\n",
    "n, p = [int(x) for x in input().split()]\n",
    "l = []\n",
    "for i in range(n):\n",
    "    l.append(input().split())\n",
    "print(np.array(l).astype(np.float16).mean(axis=1).round(2))"
   ]
  },
  {
   "cell_type": "code",
   "execution_count": 7,
   "id": "2e6b95ff",
   "metadata": {},
   "outputs": [
    {
     "data": {
      "text/plain": [
       "[['1.5', '1'], ['2', '2.9']]"
      ]
     },
     "execution_count": 7,
     "metadata": {},
     "output_type": "execute_result"
    }
   ],
   "source": [
    "l"
   ]
  },
  {
   "cell_type": "markdown",
   "id": "7142bb9e",
   "metadata": {},
   "source": [
    "# Data Analysis\n",
    "\n",
    "## Pandas vs. Numpy\n",
    "\n",
    "\n",
    "What if we want to inspect the data on Abraham Lincoln in 'height_age_arr' but cannot remember his integer position. Is there a convenient way to access the data by indexing the name of the president like:"
   ]
  },
  {
   "cell_type": "code",
   "execution_count": 10,
   "id": "f0701115",
   "metadata": {
    "collapsed": true
   },
   "outputs": [
    {
     "ename": "IndexError",
     "evalue": "only integers, slices (`:`), ellipsis (`...`), numpy.newaxis (`None`) and integer or boolean arrays are valid indices",
     "output_type": "error",
     "traceback": [
      "\u001b[1;31m---------------------------------------------------------------------------\u001b[0m",
      "\u001b[1;31mIndexError\u001b[0m                                Traceback (most recent call last)",
      "\u001b[1;32m<ipython-input-10-39348139afad>\u001b[0m in \u001b[0;36m<module>\u001b[1;34m\u001b[0m\n\u001b[1;32m----> 1\u001b[1;33m \u001b[0mprint\u001b[0m\u001b[1;33m(\u001b[0m\u001b[0mheight_age_arr\u001b[0m\u001b[1;33m[\u001b[0m\u001b[1;34m'Abraham Lincoln'\u001b[0m\u001b[1;33m]\u001b[0m\u001b[1;33m)\u001b[0m\u001b[1;33m\u001b[0m\u001b[1;33m\u001b[0m\u001b[0m\n\u001b[0m",
      "\u001b[1;31mIndexError\u001b[0m: only integers, slices (`:`), ellipsis (`...`), numpy.newaxis (`None`) and integer or boolean arrays are valid indices"
     ]
    }
   ],
   "source": [
    "print(height_age_arr['Abraham Lincoln'])"
   ]
  },
  {
   "cell_type": "markdown",
   "id": "e073b72a",
   "metadata": {},
   "source": [
    "Unfortunately, we will receive an error message. However, it is possible to do this in pandas. The pandas library is built on top of numpy, meaning a lot of features, methods, and functions are shared.\n",
    "\n",
    "By convention, import the library under a short name \"pd\":"
   ]
  },
  {
   "cell_type": "code",
   "execution_count": 11,
   "id": "a3533c02",
   "metadata": {},
   "outputs": [],
   "source": [
    "import pandas as pd"
   ]
  },
  {
   "cell_type": "markdown",
   "id": "40a7dbbb",
   "metadata": {},
   "source": [
    "In later lessons, we will see that pandas allows us to access data by indexing the name directly."
   ]
  },
  {
   "cell_type": "markdown",
   "id": "fd18ef97",
   "metadata": {},
   "source": [
    "As numpy ndarrays are homogeneous, pandas relaxes this requirement and allows for various dtypes in its data structures."
   ]
  },
  {
   "cell_type": "markdown",
   "id": "0fb51022",
   "metadata": {},
   "source": [
    "## Series\n",
    "\n",
    "\n",
    "The Series is one building block in pandas. Pandas Series is a one-dimensional labeled array that can hold data of any type (integer, string, float, python objects, etc.), similar to a column in an excel spreadsheet. The axis labels are collectively called index.\n",
    "\n",
    "If we are given a bag of letters a, b, and c, and count how many of each we have, we find that there are 1 a, 2 b’s, and 3 c’s. We could create a Series by supplying a list of counts and their corresponding labels:"
   ]
  },
  {
   "cell_type": "code",
   "execution_count": 12,
   "id": "d06fa0fd",
   "metadata": {},
   "outputs": [
    {
     "name": "stdout",
     "output_type": "stream",
     "text": [
      "a    1\n",
      "b    2\n",
      "c    3\n",
      "dtype: int64\n"
     ]
    }
   ],
   "source": [
    "import pandas as pd\n",
    "\n",
    "print(pd.Series([1, 2, 3], index=['a', 'b', 'c'])) # with index"
   ]
  },
  {
   "cell_type": "markdown",
   "id": "f957d5ac",
   "metadata": {},
   "source": [
    "Alternatively, the values can be a numpy array:"
   ]
  },
  {
   "cell_type": "code",
   "execution_count": 13,
   "id": "9034756d",
   "metadata": {},
   "outputs": [
    {
     "name": "stdout",
     "output_type": "stream",
     "text": [
      "a    1\n",
      "b    2\n",
      "c    3\n",
      "dtype: int32\n"
     ]
    }
   ],
   "source": [
    "import numpy as np\n",
    "import pandas as pd\n",
    "\n",
    "print(pd.Series(np.array([1, 2, 3]), index=['a', 'b', 'c'])) # from a 1darray"
   ]
  },
  {
   "cell_type": "markdown",
   "id": "6e6b7c7f",
   "metadata": {},
   "source": [
    "Or, we could use a dictionary to specify the index with keys:"
   ]
  },
  {
   "cell_type": "code",
   "execution_count": 14,
   "id": "5425fbe2",
   "metadata": {},
   "outputs": [
    {
     "name": "stdout",
     "output_type": "stream",
     "text": [
      "a    1\n",
      "b    2\n",
      "c    3\n",
      "dtype: int64\n"
     ]
    }
   ],
   "source": [
    "import pandas as pd\n",
    "\n",
    "print(pd.Series({'a': 1, 'b': 2, 'c':3})) # from a dict"
   ]
  },
  {
   "cell_type": "markdown",
   "id": "da274489",
   "metadata": {},
   "source": [
    "If we don’t specify the index, by default, the index would be the integer positions starting from 0.\n",
    "\n",
    "In a Series, we can access the value by its index directly:"
   ]
  },
  {
   "cell_type": "code",
   "execution_count": 15,
   "id": "ec9d5619",
   "metadata": {},
   "outputs": [
    {
     "name": "stdout",
     "output_type": "stream",
     "text": [
      "1\n"
     ]
    }
   ],
   "source": [
    "import pandas as pd\n",
    "\n",
    "series = pd.Series({'a': 1, 'b': 2, 'c':3})\n",
    "print(series['a'])"
   ]
  },
  {
   "attachments": {
    "11.png": {
     "image/png": "[encoded data removed]"
    }
   },
   "cell_type": "markdown",
   "id": "a2529ff9",
   "metadata": {},
   "source": [
    "Accessing the value by its index, rather than the integer position comes in handy when the dataset is of thousands, if not millions, of rows. Series is the building block for the DataFrame we will introduce next.\n",
    "\n",
    "Think of Series as numpy 1darray with index or row names.\n",
    "\n",
    "![11.png](attachment:11.png)"
   ]
  },
  {
   "cell_type": "markdown",
   "id": "898b65b9",
   "metadata": {},
   "source": [
    "# DataFrames\n",
    "\n",
    "\n",
    "In data science, data is usually more than one-dimensional, and of different data types; thus Series is not sufficient. DataFrames are 2darrays with both row and column labels. One way to create a DataFrame from scratch is to pass in a dict. For example, this week, we sold 3 bottles of red wine to Adam, 6 to Bob, and 5 to Charles. We sold 5 bottles of white wine to Adam, 0 to Bob and 10 to Charles. We can organize the data into a DataFrame by creating a dict 'wine_dict' with the number of bottles of each wine type we sold, then pass it along with the customer names as index to create a DataFrame 'sales'."
   ]
  },
  {
   "cell_type": "code",
   "execution_count": 2,
   "id": "20fde1a5",
   "metadata": {},
   "outputs": [
    {
     "data": {
      "text/html": [
       "<div>\n",
       "<style scoped>\n",
       "    .dataframe tbody tr th:only-of-type {\n",
       "        vertical-align: middle;\n",
       "    }\n",
       "\n",
       "    .dataframe tbody tr th {\n",
       "        vertical-align: top;\n",
       "    }\n",
       "\n",
       "    .dataframe thead th {\n",
       "        text-align: right;\n",
       "    }\n",
       "</style>\n",
       "<table border=\"1\" class=\"dataframe\">\n",
       "  <thead>\n",
       "    <tr style=\"text-align: right;\">\n",
       "      <th></th>\n",
       "      <th>red_wine</th>\n",
       "      <th>white_wine</th>\n",
       "    </tr>\n",
       "  </thead>\n",
       "  <tbody>\n",
       "    <tr>\n",
       "      <th>adam</th>\n",
       "      <td>3</td>\n",
       "      <td>5</td>\n",
       "    </tr>\n",
       "    <tr>\n",
       "      <th>bob</th>\n",
       "      <td>6</td>\n",
       "      <td>0</td>\n",
       "    </tr>\n",
       "    <tr>\n",
       "      <th>charles</th>\n",
       "      <td>5</td>\n",
       "      <td>10</td>\n",
       "    </tr>\n",
       "  </tbody>\n",
       "</table>\n",
       "</div>"
      ],
      "text/plain": [
       "         red_wine  white_wine\n",
       "adam            3           5\n",
       "bob             6           0\n",
       "charles         5          10"
      ]
     },
     "execution_count": 2,
     "metadata": {},
     "output_type": "execute_result"
    }
   ],
   "source": [
    "import pandas as pd\n",
    "\n",
    "wine_dict = {\n",
    "    'red_wine': [3, 6, 5],\n",
    "    'white_wine':[5, 0, 10]\n",
    "}\n",
    "sales = pd.DataFrame(wine_dict, index=[\"adam\", \"bob\", \"charles\"])\n",
    "sales"
   ]
  },
  {
   "cell_type": "markdown",
   "id": "1aa09b9a",
   "metadata": {},
   "source": [
    "Think of DataFrame as a collection of the Series. Here, sales consists of two Series, one named under \"red_wine\", the other \"white_wine\", thus, we can access each series by calling its name:"
   ]
  },
  {
   "cell_type": "code",
   "execution_count": 3,
   "id": "e38204bf",
   "metadata": {},
   "outputs": [
    {
     "name": "stdout",
     "output_type": "stream",
     "text": [
      "adam        5\n",
      "bob         0\n",
      "charles    10\n",
      "Name: white_wine, dtype: int64\n"
     ]
    }
   ],
   "source": [
    "print(sales['white_wine'])   "
   ]
  },
  {
   "cell_type": "markdown",
   "id": "c9d5fb41",
   "metadata": {},
   "source": [
    "> We will see other ways to index into DataFrames in later parts.\n",
    "\n",
    "If we don’t supply index, the DataFrame will generate an integer index starting from 0."
   ]
  },
  {
   "cell_type": "markdown",
   "id": "c4a51d54",
   "metadata": {},
   "source": [
    "## Inspect a DataFrame - Shape and Size\n",
    "\n",
    "\n",
    "Let’s take a look at a new DataFrame, in addition to heights and ages of the presidents, there is information on the order, names and parties. The DataFrame presidents_df is read from a CSV file as follows. Note that index is set to be the names of presidents."
   ]
  },
  {
   "cell_type": "code",
   "execution_count": 4,
   "id": "8d18b9d4",
   "metadata": {},
   "outputs": [
    {
     "ename": "SyntaxError",
     "evalue": "invalid syntax (<ipython-input-4-a5d95c376d63>, line 2)",
     "output_type": "error",
     "traceback": [
      "\u001b[1;36m  File \u001b[1;32m\"<ipython-input-4-a5d95c376d63>\"\u001b[1;36m, line \u001b[1;32m2\u001b[0m\n\u001b[1;33m    presidents_df = pd.read_csv('https://sololearn.com/uploads/files/president_heights_party.csv’, index_col='name')\u001b[0m\n\u001b[1;37m                                                                                                              ^\u001b[0m\n\u001b[1;31mSyntaxError\u001b[0m\u001b[1;31m:\u001b[0m invalid syntax\n"
     ]
    }
   ],
   "source": [
    "import pandas as pd\n",
    "presidents_df = pd.read_csv('https://sololearn.com/uploads/files/president_heights_party.csv’, index_col='name')"
   ]
  },
  {
   "cell_type": "markdown",
   "id": "cb213b0b",
   "metadata": {},
   "source": [
    "Similar to numpy, to get the dimensions of a DataFrame, use .shape"
   ]
  },
  {
   "cell_type": "code",
   "execution_count": null,
   "id": "014a768a",
   "metadata": {},
   "outputs": [],
   "source": [
    "presidents_df.shape"
   ]
  },
  {
   "cell_type": "markdown",
   "id": "cf45a1ea",
   "metadata": {},
   "source": [
    "There are 45 rows and 4 columns in this DataFrame. To get the number of rows we can access the first element in the tuple."
   ]
  },
  {
   "cell_type": "code",
   "execution_count": null,
   "id": "d5c164cb",
   "metadata": {},
   "outputs": [],
   "source": [
    "presidents_df.shape[0]"
   ]
  },
  {
   "cell_type": "markdown",
   "id": "1ae83d58",
   "metadata": {},
   "source": [
    "Size also works on DataFrame to return an integer representing the number of elements in this object."
   ]
  },
  {
   "cell_type": "code",
   "execution_count": null,
   "id": "960d2b89",
   "metadata": {},
   "outputs": [],
   "source": [
    "presidents_df.size"
   ]
  },
  {
   "cell_type": "markdown",
   "id": "60c55d3c",
   "metadata": {},
   "source": [
    "Here both methods. .shape and .size, work in the same way as with numpy ndarrays."
   ]
  },
  {
   "cell_type": "markdown",
   "id": "ac205643",
   "metadata": {},
   "source": [
    "## Inspect a DataFrame - Head and Tail\n",
    "\n",
    "\n",
    "Instead of looking at the entire dataset, we can just take a peep. To see the first few lines in a DataFrame, use .head(); if we don’t specify n (the number of lines), by default, it displays the first five rows. Here we want to see the top 3 rows."
   ]
  },
  {
   "cell_type": "code",
   "execution_count": null,
   "id": "93a914f4",
   "metadata": {},
   "outputs": [],
   "source": [
    "presidents_df.head(n=3)"
   ]
  },
  {
   "cell_type": "markdown",
   "id": "54e77a5e",
   "metadata": {},
   "source": [
    "In presidents_df, the index is the name of the president, there are four columns: order, age, height, and party. Similarly, if we want to see the last few rows, we can use .tail(), the default is also five rows."
   ]
  },
  {
   "cell_type": "code",
   "execution_count": null,
   "id": "1add2007",
   "metadata": {},
   "outputs": [],
   "source": [
    "presidents_df.tail()"
   ]
  },
  {
   "cell_type": "markdown",
   "id": "4307177d",
   "metadata": {},
   "source": [
    "Function .head is useful for quickly testing if the object has the right type of data in it."
   ]
  },
  {
   "cell_type": "markdown",
   "id": "ada5b984",
   "metadata": {},
   "source": [
    "## Inspect a DataFrame - Info\n",
    "\n",
    "\n",
    "Use .info() to get an overview of the DataFrame. Its output includes index, column names, count of non-null values, dtypes, and memory usage.\n"
   ]
  },
  {
   "cell_type": "code",
   "execution_count": null,
   "id": "034ab35e",
   "metadata": {},
   "outputs": [],
   "source": [
    "presidents_df.info()"
   ]
  },
  {
   "cell_type": "markdown",
   "id": "9607a7d8",
   "metadata": {},
   "source": [
    "The dtype for order, age, and height is integers, while party is an object. The count of non-null values in each column is the same as the number of rows, indicating no missing values."
   ]
  },
  {
   "cell_type": "markdown",
   "id": "9a9cc5a8",
   "metadata": {},
   "source": [
    "In addition to shape and size as seen in numpy, pandas features allow additional functionality to examine the data."
   ]
  },
  {
   "cell_type": "markdown",
   "id": "0352c443",
   "metadata": {},
   "source": [
    "## Rows with .loc\n",
    "\n",
    "\n",
    "Instead of memorizing the integer positions to locate the order, age, height, and party information of Abraham Lincoln, with DataFrame, we can access it by the name using .loc"
   ]
  },
  {
   "cell_type": "code",
   "execution_count": 5,
   "id": "827fcd8a",
   "metadata": {
    "collapsed": true
   },
   "outputs": [
    {
     "ename": "URLError",
     "evalue": "<urlopen error [Errno 11001] getaddrinfo failed>",
     "output_type": "error",
     "traceback": [
      "\u001b[1;31m---------------------------------------------------------------------------\u001b[0m",
      "\u001b[1;31mgaierror\u001b[0m                                  Traceback (most recent call last)",
      "\u001b[1;32mC:\\ProgramData\\Anaconda3\\lib\\urllib\\request.py\u001b[0m in \u001b[0;36mdo_open\u001b[1;34m(self, http_class, req, **http_conn_args)\u001b[0m\n\u001b[0;32m   1353\u001b[0m             \u001b[1;32mtry\u001b[0m\u001b[1;33m:\u001b[0m\u001b[1;33m\u001b[0m\u001b[1;33m\u001b[0m\u001b[0m\n\u001b[1;32m-> 1354\u001b[1;33m                 h.request(req.get_method(), req.selector, req.data, headers,\n\u001b[0m\u001b[0;32m   1355\u001b[0m                           encode_chunked=req.has_header('Transfer-encoding'))\n",
      "\u001b[1;32mC:\\ProgramData\\Anaconda3\\lib\\http\\client.py\u001b[0m in \u001b[0;36mrequest\u001b[1;34m(self, method, url, body, headers, encode_chunked)\u001b[0m\n\u001b[0;32m   1254\u001b[0m         \u001b[1;34m\"\"\"Send a complete request to the server.\"\"\"\u001b[0m\u001b[1;33m\u001b[0m\u001b[1;33m\u001b[0m\u001b[0m\n\u001b[1;32m-> 1255\u001b[1;33m         \u001b[0mself\u001b[0m\u001b[1;33m.\u001b[0m\u001b[0m_send_request\u001b[0m\u001b[1;33m(\u001b[0m\u001b[0mmethod\u001b[0m\u001b[1;33m,\u001b[0m \u001b[0murl\u001b[0m\u001b[1;33m,\u001b[0m \u001b[0mbody\u001b[0m\u001b[1;33m,\u001b[0m \u001b[0mheaders\u001b[0m\u001b[1;33m,\u001b[0m \u001b[0mencode_chunked\u001b[0m\u001b[1;33m)\u001b[0m\u001b[1;33m\u001b[0m\u001b[1;33m\u001b[0m\u001b[0m\n\u001b[0m\u001b[0;32m   1256\u001b[0m \u001b[1;33m\u001b[0m\u001b[0m\n",
      "\u001b[1;32mC:\\ProgramData\\Anaconda3\\lib\\http\\client.py\u001b[0m in \u001b[0;36m_send_request\u001b[1;34m(self, method, url, body, headers, encode_chunked)\u001b[0m\n\u001b[0;32m   1300\u001b[0m             \u001b[0mbody\u001b[0m \u001b[1;33m=\u001b[0m \u001b[0m_encode\u001b[0m\u001b[1;33m(\u001b[0m\u001b[0mbody\u001b[0m\u001b[1;33m,\u001b[0m \u001b[1;34m'body'\u001b[0m\u001b[1;33m)\u001b[0m\u001b[1;33m\u001b[0m\u001b[1;33m\u001b[0m\u001b[0m\n\u001b[1;32m-> 1301\u001b[1;33m         \u001b[0mself\u001b[0m\u001b[1;33m.\u001b[0m\u001b[0mendheaders\u001b[0m\u001b[1;33m(\u001b[0m\u001b[0mbody\u001b[0m\u001b[1;33m,\u001b[0m \u001b[0mencode_chunked\u001b[0m\u001b[1;33m=\u001b[0m\u001b[0mencode_chunked\u001b[0m\u001b[1;33m)\u001b[0m\u001b[1;33m\u001b[0m\u001b[1;33m\u001b[0m\u001b[0m\n\u001b[0m\u001b[0;32m   1302\u001b[0m \u001b[1;33m\u001b[0m\u001b[0m\n",
      "\u001b[1;32mC:\\ProgramData\\Anaconda3\\lib\\http\\client.py\u001b[0m in \u001b[0;36mendheaders\u001b[1;34m(self, message_body, encode_chunked)\u001b[0m\n\u001b[0;32m   1249\u001b[0m             \u001b[1;32mraise\u001b[0m \u001b[0mCannotSendHeader\u001b[0m\u001b[1;33m(\u001b[0m\u001b[1;33m)\u001b[0m\u001b[1;33m\u001b[0m\u001b[1;33m\u001b[0m\u001b[0m\n\u001b[1;32m-> 1250\u001b[1;33m         \u001b[0mself\u001b[0m\u001b[1;33m.\u001b[0m\u001b[0m_send_output\u001b[0m\u001b[1;33m(\u001b[0m\u001b[0mmessage_body\u001b[0m\u001b[1;33m,\u001b[0m \u001b[0mencode_chunked\u001b[0m\u001b[1;33m=\u001b[0m\u001b[0mencode_chunked\u001b[0m\u001b[1;33m)\u001b[0m\u001b[1;33m\u001b[0m\u001b[1;33m\u001b[0m\u001b[0m\n\u001b[0m\u001b[0;32m   1251\u001b[0m \u001b[1;33m\u001b[0m\u001b[0m\n",
      "\u001b[1;32mC:\\ProgramData\\Anaconda3\\lib\\http\\client.py\u001b[0m in \u001b[0;36m_send_output\u001b[1;34m(self, message_body, encode_chunked)\u001b[0m\n\u001b[0;32m   1009\u001b[0m         \u001b[1;32mdel\u001b[0m \u001b[0mself\u001b[0m\u001b[1;33m.\u001b[0m\u001b[0m_buffer\u001b[0m\u001b[1;33m[\u001b[0m\u001b[1;33m:\u001b[0m\u001b[1;33m]\u001b[0m\u001b[1;33m\u001b[0m\u001b[1;33m\u001b[0m\u001b[0m\n\u001b[1;32m-> 1010\u001b[1;33m         \u001b[0mself\u001b[0m\u001b[1;33m.\u001b[0m\u001b[0msend\u001b[0m\u001b[1;33m(\u001b[0m\u001b[0mmsg\u001b[0m\u001b[1;33m)\u001b[0m\u001b[1;33m\u001b[0m\u001b[1;33m\u001b[0m\u001b[0m\n\u001b[0m\u001b[0;32m   1011\u001b[0m \u001b[1;33m\u001b[0m\u001b[0m\n",
      "\u001b[1;32mC:\\ProgramData\\Anaconda3\\lib\\http\\client.py\u001b[0m in \u001b[0;36msend\u001b[1;34m(self, data)\u001b[0m\n\u001b[0;32m    949\u001b[0m             \u001b[1;32mif\u001b[0m \u001b[0mself\u001b[0m\u001b[1;33m.\u001b[0m\u001b[0mauto_open\u001b[0m\u001b[1;33m:\u001b[0m\u001b[1;33m\u001b[0m\u001b[1;33m\u001b[0m\u001b[0m\n\u001b[1;32m--> 950\u001b[1;33m                 \u001b[0mself\u001b[0m\u001b[1;33m.\u001b[0m\u001b[0mconnect\u001b[0m\u001b[1;33m(\u001b[0m\u001b[1;33m)\u001b[0m\u001b[1;33m\u001b[0m\u001b[1;33m\u001b[0m\u001b[0m\n\u001b[0m\u001b[0;32m    951\u001b[0m             \u001b[1;32melse\u001b[0m\u001b[1;33m:\u001b[0m\u001b[1;33m\u001b[0m\u001b[1;33m\u001b[0m\u001b[0m\n",
      "\u001b[1;32mC:\\ProgramData\\Anaconda3\\lib\\http\\client.py\u001b[0m in \u001b[0;36mconnect\u001b[1;34m(self)\u001b[0m\n\u001b[0;32m   1416\u001b[0m \u001b[1;33m\u001b[0m\u001b[0m\n\u001b[1;32m-> 1417\u001b[1;33m             \u001b[0msuper\u001b[0m\u001b[1;33m(\u001b[0m\u001b[1;33m)\u001b[0m\u001b[1;33m.\u001b[0m\u001b[0mconnect\u001b[0m\u001b[1;33m(\u001b[0m\u001b[1;33m)\u001b[0m\u001b[1;33m\u001b[0m\u001b[1;33m\u001b[0m\u001b[0m\n\u001b[0m\u001b[0;32m   1418\u001b[0m \u001b[1;33m\u001b[0m\u001b[0m\n",
      "\u001b[1;32mC:\\ProgramData\\Anaconda3\\lib\\http\\client.py\u001b[0m in \u001b[0;36mconnect\u001b[1;34m(self)\u001b[0m\n\u001b[0;32m    920\u001b[0m         \u001b[1;34m\"\"\"Connect to the host and port specified in __init__.\"\"\"\u001b[0m\u001b[1;33m\u001b[0m\u001b[1;33m\u001b[0m\u001b[0m\n\u001b[1;32m--> 921\u001b[1;33m         self.sock = self._create_connection(\n\u001b[0m\u001b[0;32m    922\u001b[0m             (self.host,self.port), self.timeout, self.source_address)\n",
      "\u001b[1;32mC:\\ProgramData\\Anaconda3\\lib\\socket.py\u001b[0m in \u001b[0;36mcreate_connection\u001b[1;34m(address, timeout, source_address)\u001b[0m\n\u001b[0;32m    786\u001b[0m     \u001b[0merr\u001b[0m \u001b[1;33m=\u001b[0m \u001b[1;32mNone\u001b[0m\u001b[1;33m\u001b[0m\u001b[1;33m\u001b[0m\u001b[0m\n\u001b[1;32m--> 787\u001b[1;33m     \u001b[1;32mfor\u001b[0m \u001b[0mres\u001b[0m \u001b[1;32min\u001b[0m \u001b[0mgetaddrinfo\u001b[0m\u001b[1;33m(\u001b[0m\u001b[0mhost\u001b[0m\u001b[1;33m,\u001b[0m \u001b[0mport\u001b[0m\u001b[1;33m,\u001b[0m \u001b[1;36m0\u001b[0m\u001b[1;33m,\u001b[0m \u001b[0mSOCK_STREAM\u001b[0m\u001b[1;33m)\u001b[0m\u001b[1;33m:\u001b[0m\u001b[1;33m\u001b[0m\u001b[1;33m\u001b[0m\u001b[0m\n\u001b[0m\u001b[0;32m    788\u001b[0m         \u001b[0maf\u001b[0m\u001b[1;33m,\u001b[0m \u001b[0msocktype\u001b[0m\u001b[1;33m,\u001b[0m \u001b[0mproto\u001b[0m\u001b[1;33m,\u001b[0m \u001b[0mcanonname\u001b[0m\u001b[1;33m,\u001b[0m \u001b[0msa\u001b[0m \u001b[1;33m=\u001b[0m \u001b[0mres\u001b[0m\u001b[1;33m\u001b[0m\u001b[1;33m\u001b[0m\u001b[0m\n",
      "\u001b[1;32mC:\\ProgramData\\Anaconda3\\lib\\socket.py\u001b[0m in \u001b[0;36mgetaddrinfo\u001b[1;34m(host, port, family, type, proto, flags)\u001b[0m\n\u001b[0;32m    917\u001b[0m     \u001b[0maddrlist\u001b[0m \u001b[1;33m=\u001b[0m \u001b[1;33m[\u001b[0m\u001b[1;33m]\u001b[0m\u001b[1;33m\u001b[0m\u001b[1;33m\u001b[0m\u001b[0m\n\u001b[1;32m--> 918\u001b[1;33m     \u001b[1;32mfor\u001b[0m \u001b[0mres\u001b[0m \u001b[1;32min\u001b[0m \u001b[0m_socket\u001b[0m\u001b[1;33m.\u001b[0m\u001b[0mgetaddrinfo\u001b[0m\u001b[1;33m(\u001b[0m\u001b[0mhost\u001b[0m\u001b[1;33m,\u001b[0m \u001b[0mport\u001b[0m\u001b[1;33m,\u001b[0m \u001b[0mfamily\u001b[0m\u001b[1;33m,\u001b[0m \u001b[0mtype\u001b[0m\u001b[1;33m,\u001b[0m \u001b[0mproto\u001b[0m\u001b[1;33m,\u001b[0m \u001b[0mflags\u001b[0m\u001b[1;33m)\u001b[0m\u001b[1;33m:\u001b[0m\u001b[1;33m\u001b[0m\u001b[1;33m\u001b[0m\u001b[0m\n\u001b[0m\u001b[0;32m    919\u001b[0m         \u001b[0maf\u001b[0m\u001b[1;33m,\u001b[0m \u001b[0msocktype\u001b[0m\u001b[1;33m,\u001b[0m \u001b[0mproto\u001b[0m\u001b[1;33m,\u001b[0m \u001b[0mcanonname\u001b[0m\u001b[1;33m,\u001b[0m \u001b[0msa\u001b[0m \u001b[1;33m=\u001b[0m \u001b[0mres\u001b[0m\u001b[1;33m\u001b[0m\u001b[1;33m\u001b[0m\u001b[0m\n",
      "\u001b[1;31mgaierror\u001b[0m: [Errno 11001] getaddrinfo failed",
      "\nDuring handling of the above exception, another exception occurred:\n",
      "\u001b[1;31mURLError\u001b[0m                                  Traceback (most recent call last)",
      "\u001b[1;32m<ipython-input-5-ce67d88740a3>\u001b[0m in \u001b[0;36m<module>\u001b[1;34m\u001b[0m\n\u001b[0;32m      1\u001b[0m \u001b[1;32mimport\u001b[0m \u001b[0mpandas\u001b[0m \u001b[1;32mas\u001b[0m \u001b[0mpd\u001b[0m\u001b[1;33m\u001b[0m\u001b[1;33m\u001b[0m\u001b[0m\n\u001b[0;32m      2\u001b[0m \u001b[1;33m\u001b[0m\u001b[0m\n\u001b[1;32m----> 3\u001b[1;33m \u001b[0mpresidents_df\u001b[0m \u001b[1;33m=\u001b[0m \u001b[0mpd\u001b[0m\u001b[1;33m.\u001b[0m\u001b[0mread_csv\u001b[0m\u001b[1;33m(\u001b[0m\u001b[1;34m'https://sololearn.com/uploads/files/president_heights_party.csv'\u001b[0m\u001b[1;33m,\u001b[0m \u001b[0mindex_col\u001b[0m\u001b[1;33m=\u001b[0m\u001b[1;34m'name'\u001b[0m\u001b[1;33m)\u001b[0m\u001b[1;33m\u001b[0m\u001b[1;33m\u001b[0m\u001b[0m\n\u001b[0m\u001b[0;32m      4\u001b[0m \u001b[1;33m\u001b[0m\u001b[0m\n\u001b[0;32m      5\u001b[0m \u001b[0mprint\u001b[0m\u001b[1;33m(\u001b[0m\u001b[0mpresidents_df\u001b[0m\u001b[1;33m.\u001b[0m\u001b[0mloc\u001b[0m\u001b[1;33m[\u001b[0m\u001b[1;34m'Abraham Lincoln'\u001b[0m\u001b[1;33m]\u001b[0m\u001b[1;33m)\u001b[0m\u001b[1;33m\u001b[0m\u001b[1;33m\u001b[0m\u001b[0m\n",
      "\u001b[1;32mC:\\ProgramData\\Anaconda3\\lib\\site-packages\\pandas\\io\\parsers.py\u001b[0m in \u001b[0;36mread_csv\u001b[1;34m(filepath_or_buffer, sep, delimiter, header, names, index_col, usecols, squeeze, prefix, mangle_dupe_cols, dtype, engine, converters, true_values, false_values, skipinitialspace, skiprows, skipfooter, nrows, na_values, keep_default_na, na_filter, verbose, skip_blank_lines, parse_dates, infer_datetime_format, keep_date_col, date_parser, dayfirst, cache_dates, iterator, chunksize, compression, thousands, decimal, lineterminator, quotechar, quoting, doublequote, escapechar, comment, encoding, dialect, error_bad_lines, warn_bad_lines, delim_whitespace, low_memory, memory_map, float_precision, storage_options)\u001b[0m\n\u001b[0;32m    608\u001b[0m     \u001b[0mkwds\u001b[0m\u001b[1;33m.\u001b[0m\u001b[0mupdate\u001b[0m\u001b[1;33m(\u001b[0m\u001b[0mkwds_defaults\u001b[0m\u001b[1;33m)\u001b[0m\u001b[1;33m\u001b[0m\u001b[1;33m\u001b[0m\u001b[0m\n\u001b[0;32m    609\u001b[0m \u001b[1;33m\u001b[0m\u001b[0m\n\u001b[1;32m--> 610\u001b[1;33m     \u001b[1;32mreturn\u001b[0m \u001b[0m_read\u001b[0m\u001b[1;33m(\u001b[0m\u001b[0mfilepath_or_buffer\u001b[0m\u001b[1;33m,\u001b[0m \u001b[0mkwds\u001b[0m\u001b[1;33m)\u001b[0m\u001b[1;33m\u001b[0m\u001b[1;33m\u001b[0m\u001b[0m\n\u001b[0m\u001b[0;32m    611\u001b[0m \u001b[1;33m\u001b[0m\u001b[0m\n\u001b[0;32m    612\u001b[0m \u001b[1;33m\u001b[0m\u001b[0m\n",
      "\u001b[1;32mC:\\ProgramData\\Anaconda3\\lib\\site-packages\\pandas\\io\\parsers.py\u001b[0m in \u001b[0;36m_read\u001b[1;34m(filepath_or_buffer, kwds)\u001b[0m\n\u001b[0;32m    460\u001b[0m \u001b[1;33m\u001b[0m\u001b[0m\n\u001b[0;32m    461\u001b[0m     \u001b[1;31m# Create the parser.\u001b[0m\u001b[1;33m\u001b[0m\u001b[1;33m\u001b[0m\u001b[1;33m\u001b[0m\u001b[0m\n\u001b[1;32m--> 462\u001b[1;33m     \u001b[0mparser\u001b[0m \u001b[1;33m=\u001b[0m \u001b[0mTextFileReader\u001b[0m\u001b[1;33m(\u001b[0m\u001b[0mfilepath_or_buffer\u001b[0m\u001b[1;33m,\u001b[0m \u001b[1;33m**\u001b[0m\u001b[0mkwds\u001b[0m\u001b[1;33m)\u001b[0m\u001b[1;33m\u001b[0m\u001b[1;33m\u001b[0m\u001b[0m\n\u001b[0m\u001b[0;32m    463\u001b[0m \u001b[1;33m\u001b[0m\u001b[0m\n\u001b[0;32m    464\u001b[0m     \u001b[1;32mif\u001b[0m \u001b[0mchunksize\u001b[0m \u001b[1;32mor\u001b[0m \u001b[0miterator\u001b[0m\u001b[1;33m:\u001b[0m\u001b[1;33m\u001b[0m\u001b[1;33m\u001b[0m\u001b[0m\n",
      "\u001b[1;32mC:\\ProgramData\\Anaconda3\\lib\\site-packages\\pandas\\io\\parsers.py\u001b[0m in \u001b[0;36m__init__\u001b[1;34m(self, f, engine, **kwds)\u001b[0m\n\u001b[0;32m    817\u001b[0m             \u001b[0mself\u001b[0m\u001b[1;33m.\u001b[0m\u001b[0moptions\u001b[0m\u001b[1;33m[\u001b[0m\u001b[1;34m\"has_index_names\"\u001b[0m\u001b[1;33m]\u001b[0m \u001b[1;33m=\u001b[0m \u001b[0mkwds\u001b[0m\u001b[1;33m[\u001b[0m\u001b[1;34m\"has_index_names\"\u001b[0m\u001b[1;33m]\u001b[0m\u001b[1;33m\u001b[0m\u001b[1;33m\u001b[0m\u001b[0m\n\u001b[0;32m    818\u001b[0m \u001b[1;33m\u001b[0m\u001b[0m\n\u001b[1;32m--> 819\u001b[1;33m         \u001b[0mself\u001b[0m\u001b[1;33m.\u001b[0m\u001b[0m_engine\u001b[0m \u001b[1;33m=\u001b[0m \u001b[0mself\u001b[0m\u001b[1;33m.\u001b[0m\u001b[0m_make_engine\u001b[0m\u001b[1;33m(\u001b[0m\u001b[0mself\u001b[0m\u001b[1;33m.\u001b[0m\u001b[0mengine\u001b[0m\u001b[1;33m)\u001b[0m\u001b[1;33m\u001b[0m\u001b[1;33m\u001b[0m\u001b[0m\n\u001b[0m\u001b[0;32m    820\u001b[0m \u001b[1;33m\u001b[0m\u001b[0m\n\u001b[0;32m    821\u001b[0m     \u001b[1;32mdef\u001b[0m \u001b[0mclose\u001b[0m\u001b[1;33m(\u001b[0m\u001b[0mself\u001b[0m\u001b[1;33m)\u001b[0m\u001b[1;33m:\u001b[0m\u001b[1;33m\u001b[0m\u001b[1;33m\u001b[0m\u001b[0m\n",
      "\u001b[1;32mC:\\ProgramData\\Anaconda3\\lib\\site-packages\\pandas\\io\\parsers.py\u001b[0m in \u001b[0;36m_make_engine\u001b[1;34m(self, engine)\u001b[0m\n\u001b[0;32m   1048\u001b[0m             )\n\u001b[0;32m   1049\u001b[0m         \u001b[1;31m# error: Too many arguments for \"ParserBase\"\u001b[0m\u001b[1;33m\u001b[0m\u001b[1;33m\u001b[0m\u001b[1;33m\u001b[0m\u001b[0m\n\u001b[1;32m-> 1050\u001b[1;33m         \u001b[1;32mreturn\u001b[0m \u001b[0mmapping\u001b[0m\u001b[1;33m[\u001b[0m\u001b[0mengine\u001b[0m\u001b[1;33m]\u001b[0m\u001b[1;33m(\u001b[0m\u001b[0mself\u001b[0m\u001b[1;33m.\u001b[0m\u001b[0mf\u001b[0m\u001b[1;33m,\u001b[0m \u001b[1;33m**\u001b[0m\u001b[0mself\u001b[0m\u001b[1;33m.\u001b[0m\u001b[0moptions\u001b[0m\u001b[1;33m)\u001b[0m  \u001b[1;31m# type: ignore[call-arg]\u001b[0m\u001b[1;33m\u001b[0m\u001b[1;33m\u001b[0m\u001b[0m\n\u001b[0m\u001b[0;32m   1051\u001b[0m \u001b[1;33m\u001b[0m\u001b[0m\n\u001b[0;32m   1052\u001b[0m     \u001b[1;32mdef\u001b[0m \u001b[0m_failover_to_python\u001b[0m\u001b[1;33m(\u001b[0m\u001b[0mself\u001b[0m\u001b[1;33m)\u001b[0m\u001b[1;33m:\u001b[0m\u001b[1;33m\u001b[0m\u001b[1;33m\u001b[0m\u001b[0m\n",
      "\u001b[1;32mC:\\ProgramData\\Anaconda3\\lib\\site-packages\\pandas\\io\\parsers.py\u001b[0m in \u001b[0;36m__init__\u001b[1;34m(self, src, **kwds)\u001b[0m\n\u001b[0;32m   1865\u001b[0m \u001b[1;33m\u001b[0m\u001b[0m\n\u001b[0;32m   1866\u001b[0m         \u001b[1;31m# open handles\u001b[0m\u001b[1;33m\u001b[0m\u001b[1;33m\u001b[0m\u001b[1;33m\u001b[0m\u001b[0m\n\u001b[1;32m-> 1867\u001b[1;33m         \u001b[0mself\u001b[0m\u001b[1;33m.\u001b[0m\u001b[0m_open_handles\u001b[0m\u001b[1;33m(\u001b[0m\u001b[0msrc\u001b[0m\u001b[1;33m,\u001b[0m \u001b[0mkwds\u001b[0m\u001b[1;33m)\u001b[0m\u001b[1;33m\u001b[0m\u001b[1;33m\u001b[0m\u001b[0m\n\u001b[0m\u001b[0;32m   1868\u001b[0m         \u001b[1;32massert\u001b[0m \u001b[0mself\u001b[0m\u001b[1;33m.\u001b[0m\u001b[0mhandles\u001b[0m \u001b[1;32mis\u001b[0m \u001b[1;32mnot\u001b[0m \u001b[1;32mNone\u001b[0m\u001b[1;33m\u001b[0m\u001b[1;33m\u001b[0m\u001b[0m\n\u001b[0;32m   1869\u001b[0m         \u001b[1;32mfor\u001b[0m \u001b[0mkey\u001b[0m \u001b[1;32min\u001b[0m \u001b[1;33m(\u001b[0m\u001b[1;34m\"storage_options\"\u001b[0m\u001b[1;33m,\u001b[0m \u001b[1;34m\"encoding\"\u001b[0m\u001b[1;33m,\u001b[0m \u001b[1;34m\"memory_map\"\u001b[0m\u001b[1;33m,\u001b[0m \u001b[1;34m\"compression\"\u001b[0m\u001b[1;33m)\u001b[0m\u001b[1;33m:\u001b[0m\u001b[1;33m\u001b[0m\u001b[1;33m\u001b[0m\u001b[0m\n",
      "\u001b[1;32mC:\\ProgramData\\Anaconda3\\lib\\site-packages\\pandas\\io\\parsers.py\u001b[0m in \u001b[0;36m_open_handles\u001b[1;34m(self, src, kwds)\u001b[0m\n\u001b[0;32m   1360\u001b[0m         \u001b[0mLet\u001b[0m \u001b[0mthe\u001b[0m \u001b[0mreaders\u001b[0m \u001b[0mopen\u001b[0m \u001b[0mIOHanldes\u001b[0m \u001b[0mafter\u001b[0m \u001b[0mthey\u001b[0m \u001b[0mare\u001b[0m \u001b[0mdone\u001b[0m \u001b[1;32mwith\u001b[0m \u001b[0mtheir\u001b[0m \u001b[0mpotential\u001b[0m \u001b[0mraises\u001b[0m\u001b[1;33m.\u001b[0m\u001b[1;33m\u001b[0m\u001b[1;33m\u001b[0m\u001b[0m\n\u001b[0;32m   1361\u001b[0m         \"\"\"\n\u001b[1;32m-> 1362\u001b[1;33m         self.handles = get_handle(\n\u001b[0m\u001b[0;32m   1363\u001b[0m             \u001b[0msrc\u001b[0m\u001b[1;33m,\u001b[0m\u001b[1;33m\u001b[0m\u001b[1;33m\u001b[0m\u001b[0m\n\u001b[0;32m   1364\u001b[0m             \u001b[1;34m\"r\"\u001b[0m\u001b[1;33m,\u001b[0m\u001b[1;33m\u001b[0m\u001b[1;33m\u001b[0m\u001b[0m\n",
      "\u001b[1;32mC:\\ProgramData\\Anaconda3\\lib\\site-packages\\pandas\\io\\common.py\u001b[0m in \u001b[0;36mget_handle\u001b[1;34m(path_or_buf, mode, encoding, compression, memory_map, is_text, errors, storage_options)\u001b[0m\n\u001b[0;32m    556\u001b[0m \u001b[1;33m\u001b[0m\u001b[0m\n\u001b[0;32m    557\u001b[0m     \u001b[1;31m# open URLs\u001b[0m\u001b[1;33m\u001b[0m\u001b[1;33m\u001b[0m\u001b[1;33m\u001b[0m\u001b[0m\n\u001b[1;32m--> 558\u001b[1;33m     ioargs = _get_filepath_or_buffer(\n\u001b[0m\u001b[0;32m    559\u001b[0m         \u001b[0mpath_or_buf\u001b[0m\u001b[1;33m,\u001b[0m\u001b[1;33m\u001b[0m\u001b[1;33m\u001b[0m\u001b[0m\n\u001b[0;32m    560\u001b[0m         \u001b[0mencoding\u001b[0m\u001b[1;33m=\u001b[0m\u001b[0mencoding\u001b[0m\u001b[1;33m,\u001b[0m\u001b[1;33m\u001b[0m\u001b[1;33m\u001b[0m\u001b[0m\n",
      "\u001b[1;32mC:\\ProgramData\\Anaconda3\\lib\\site-packages\\pandas\\io\\common.py\u001b[0m in \u001b[0;36m_get_filepath_or_buffer\u001b[1;34m(filepath_or_buffer, encoding, compression, mode, storage_options)\u001b[0m\n\u001b[0;32m    287\u001b[0m                 \u001b[1;34m\"storage_options passed with file object or non-fsspec file path\"\u001b[0m\u001b[1;33m\u001b[0m\u001b[1;33m\u001b[0m\u001b[0m\n\u001b[0;32m    288\u001b[0m             )\n\u001b[1;32m--> 289\u001b[1;33m         \u001b[0mreq\u001b[0m \u001b[1;33m=\u001b[0m \u001b[0murlopen\u001b[0m\u001b[1;33m(\u001b[0m\u001b[0mfilepath_or_buffer\u001b[0m\u001b[1;33m)\u001b[0m\u001b[1;33m\u001b[0m\u001b[1;33m\u001b[0m\u001b[0m\n\u001b[0m\u001b[0;32m    290\u001b[0m         \u001b[0mcontent_encoding\u001b[0m \u001b[1;33m=\u001b[0m \u001b[0mreq\u001b[0m\u001b[1;33m.\u001b[0m\u001b[0mheaders\u001b[0m\u001b[1;33m.\u001b[0m\u001b[0mget\u001b[0m\u001b[1;33m(\u001b[0m\u001b[1;34m\"Content-Encoding\"\u001b[0m\u001b[1;33m,\u001b[0m \u001b[1;32mNone\u001b[0m\u001b[1;33m)\u001b[0m\u001b[1;33m\u001b[0m\u001b[1;33m\u001b[0m\u001b[0m\n\u001b[0;32m    291\u001b[0m         \u001b[1;32mif\u001b[0m \u001b[0mcontent_encoding\u001b[0m \u001b[1;33m==\u001b[0m \u001b[1;34m\"gzip\"\u001b[0m\u001b[1;33m:\u001b[0m\u001b[1;33m\u001b[0m\u001b[1;33m\u001b[0m\u001b[0m\n",
      "\u001b[1;32mC:\\ProgramData\\Anaconda3\\lib\\site-packages\\pandas\\io\\common.py\u001b[0m in \u001b[0;36murlopen\u001b[1;34m(*args, **kwargs)\u001b[0m\n\u001b[0;32m    193\u001b[0m     \u001b[1;32mimport\u001b[0m \u001b[0murllib\u001b[0m\u001b[1;33m.\u001b[0m\u001b[0mrequest\u001b[0m\u001b[1;33m\u001b[0m\u001b[1;33m\u001b[0m\u001b[0m\n\u001b[0;32m    194\u001b[0m \u001b[1;33m\u001b[0m\u001b[0m\n\u001b[1;32m--> 195\u001b[1;33m     \u001b[1;32mreturn\u001b[0m \u001b[0murllib\u001b[0m\u001b[1;33m.\u001b[0m\u001b[0mrequest\u001b[0m\u001b[1;33m.\u001b[0m\u001b[0murlopen\u001b[0m\u001b[1;33m(\u001b[0m\u001b[1;33m*\u001b[0m\u001b[0margs\u001b[0m\u001b[1;33m,\u001b[0m \u001b[1;33m**\u001b[0m\u001b[0mkwargs\u001b[0m\u001b[1;33m)\u001b[0m\u001b[1;33m\u001b[0m\u001b[1;33m\u001b[0m\u001b[0m\n\u001b[0m\u001b[0;32m    196\u001b[0m \u001b[1;33m\u001b[0m\u001b[0m\n\u001b[0;32m    197\u001b[0m \u001b[1;33m\u001b[0m\u001b[0m\n",
      "\u001b[1;32mC:\\ProgramData\\Anaconda3\\lib\\urllib\\request.py\u001b[0m in \u001b[0;36murlopen\u001b[1;34m(url, data, timeout, cafile, capath, cadefault, context)\u001b[0m\n\u001b[0;32m    220\u001b[0m     \u001b[1;32melse\u001b[0m\u001b[1;33m:\u001b[0m\u001b[1;33m\u001b[0m\u001b[1;33m\u001b[0m\u001b[0m\n\u001b[0;32m    221\u001b[0m         \u001b[0mopener\u001b[0m \u001b[1;33m=\u001b[0m \u001b[0m_opener\u001b[0m\u001b[1;33m\u001b[0m\u001b[1;33m\u001b[0m\u001b[0m\n\u001b[1;32m--> 222\u001b[1;33m     \u001b[1;32mreturn\u001b[0m \u001b[0mopener\u001b[0m\u001b[1;33m.\u001b[0m\u001b[0mopen\u001b[0m\u001b[1;33m(\u001b[0m\u001b[0murl\u001b[0m\u001b[1;33m,\u001b[0m \u001b[0mdata\u001b[0m\u001b[1;33m,\u001b[0m \u001b[0mtimeout\u001b[0m\u001b[1;33m)\u001b[0m\u001b[1;33m\u001b[0m\u001b[1;33m\u001b[0m\u001b[0m\n\u001b[0m\u001b[0;32m    223\u001b[0m \u001b[1;33m\u001b[0m\u001b[0m\n\u001b[0;32m    224\u001b[0m \u001b[1;32mdef\u001b[0m \u001b[0minstall_opener\u001b[0m\u001b[1;33m(\u001b[0m\u001b[0mopener\u001b[0m\u001b[1;33m)\u001b[0m\u001b[1;33m:\u001b[0m\u001b[1;33m\u001b[0m\u001b[1;33m\u001b[0m\u001b[0m\n",
      "\u001b[1;32mC:\\ProgramData\\Anaconda3\\lib\\urllib\\request.py\u001b[0m in \u001b[0;36mopen\u001b[1;34m(self, fullurl, data, timeout)\u001b[0m\n\u001b[0;32m    523\u001b[0m \u001b[1;33m\u001b[0m\u001b[0m\n\u001b[0;32m    524\u001b[0m         \u001b[0msys\u001b[0m\u001b[1;33m.\u001b[0m\u001b[0maudit\u001b[0m\u001b[1;33m(\u001b[0m\u001b[1;34m'urllib.Request'\u001b[0m\u001b[1;33m,\u001b[0m \u001b[0mreq\u001b[0m\u001b[1;33m.\u001b[0m\u001b[0mfull_url\u001b[0m\u001b[1;33m,\u001b[0m \u001b[0mreq\u001b[0m\u001b[1;33m.\u001b[0m\u001b[0mdata\u001b[0m\u001b[1;33m,\u001b[0m \u001b[0mreq\u001b[0m\u001b[1;33m.\u001b[0m\u001b[0mheaders\u001b[0m\u001b[1;33m,\u001b[0m \u001b[0mreq\u001b[0m\u001b[1;33m.\u001b[0m\u001b[0mget_method\u001b[0m\u001b[1;33m(\u001b[0m\u001b[1;33m)\u001b[0m\u001b[1;33m)\u001b[0m\u001b[1;33m\u001b[0m\u001b[1;33m\u001b[0m\u001b[0m\n\u001b[1;32m--> 525\u001b[1;33m         \u001b[0mresponse\u001b[0m \u001b[1;33m=\u001b[0m \u001b[0mself\u001b[0m\u001b[1;33m.\u001b[0m\u001b[0m_open\u001b[0m\u001b[1;33m(\u001b[0m\u001b[0mreq\u001b[0m\u001b[1;33m,\u001b[0m \u001b[0mdata\u001b[0m\u001b[1;33m)\u001b[0m\u001b[1;33m\u001b[0m\u001b[1;33m\u001b[0m\u001b[0m\n\u001b[0m\u001b[0;32m    526\u001b[0m \u001b[1;33m\u001b[0m\u001b[0m\n\u001b[0;32m    527\u001b[0m         \u001b[1;31m# post-process response\u001b[0m\u001b[1;33m\u001b[0m\u001b[1;33m\u001b[0m\u001b[1;33m\u001b[0m\u001b[0m\n",
      "\u001b[1;32mC:\\ProgramData\\Anaconda3\\lib\\urllib\\request.py\u001b[0m in \u001b[0;36m_open\u001b[1;34m(self, req, data)\u001b[0m\n\u001b[0;32m    540\u001b[0m \u001b[1;33m\u001b[0m\u001b[0m\n\u001b[0;32m    541\u001b[0m         \u001b[0mprotocol\u001b[0m \u001b[1;33m=\u001b[0m \u001b[0mreq\u001b[0m\u001b[1;33m.\u001b[0m\u001b[0mtype\u001b[0m\u001b[1;33m\u001b[0m\u001b[1;33m\u001b[0m\u001b[0m\n\u001b[1;32m--> 542\u001b[1;33m         result = self._call_chain(self.handle_open, protocol, protocol +\n\u001b[0m\u001b[0;32m    543\u001b[0m                                   '_open', req)\n\u001b[0;32m    544\u001b[0m         \u001b[1;32mif\u001b[0m \u001b[0mresult\u001b[0m\u001b[1;33m:\u001b[0m\u001b[1;33m\u001b[0m\u001b[1;33m\u001b[0m\u001b[0m\n",
      "\u001b[1;32mC:\\ProgramData\\Anaconda3\\lib\\urllib\\request.py\u001b[0m in \u001b[0;36m_call_chain\u001b[1;34m(self, chain, kind, meth_name, *args)\u001b[0m\n\u001b[0;32m    500\u001b[0m         \u001b[1;32mfor\u001b[0m \u001b[0mhandler\u001b[0m \u001b[1;32min\u001b[0m \u001b[0mhandlers\u001b[0m\u001b[1;33m:\u001b[0m\u001b[1;33m\u001b[0m\u001b[1;33m\u001b[0m\u001b[0m\n\u001b[0;32m    501\u001b[0m             \u001b[0mfunc\u001b[0m \u001b[1;33m=\u001b[0m \u001b[0mgetattr\u001b[0m\u001b[1;33m(\u001b[0m\u001b[0mhandler\u001b[0m\u001b[1;33m,\u001b[0m \u001b[0mmeth_name\u001b[0m\u001b[1;33m)\u001b[0m\u001b[1;33m\u001b[0m\u001b[1;33m\u001b[0m\u001b[0m\n\u001b[1;32m--> 502\u001b[1;33m             \u001b[0mresult\u001b[0m \u001b[1;33m=\u001b[0m \u001b[0mfunc\u001b[0m\u001b[1;33m(\u001b[0m\u001b[1;33m*\u001b[0m\u001b[0margs\u001b[0m\u001b[1;33m)\u001b[0m\u001b[1;33m\u001b[0m\u001b[1;33m\u001b[0m\u001b[0m\n\u001b[0m\u001b[0;32m    503\u001b[0m             \u001b[1;32mif\u001b[0m \u001b[0mresult\u001b[0m \u001b[1;32mis\u001b[0m \u001b[1;32mnot\u001b[0m \u001b[1;32mNone\u001b[0m\u001b[1;33m:\u001b[0m\u001b[1;33m\u001b[0m\u001b[1;33m\u001b[0m\u001b[0m\n\u001b[0;32m    504\u001b[0m                 \u001b[1;32mreturn\u001b[0m \u001b[0mresult\u001b[0m\u001b[1;33m\u001b[0m\u001b[1;33m\u001b[0m\u001b[0m\n",
      "\u001b[1;32mC:\\ProgramData\\Anaconda3\\lib\\urllib\\request.py\u001b[0m in \u001b[0;36mhttps_open\u001b[1;34m(self, req)\u001b[0m\n\u001b[0;32m   1395\u001b[0m \u001b[1;33m\u001b[0m\u001b[0m\n\u001b[0;32m   1396\u001b[0m         \u001b[1;32mdef\u001b[0m \u001b[0mhttps_open\u001b[0m\u001b[1;33m(\u001b[0m\u001b[0mself\u001b[0m\u001b[1;33m,\u001b[0m \u001b[0mreq\u001b[0m\u001b[1;33m)\u001b[0m\u001b[1;33m:\u001b[0m\u001b[1;33m\u001b[0m\u001b[1;33m\u001b[0m\u001b[0m\n\u001b[1;32m-> 1397\u001b[1;33m             return self.do_open(http.client.HTTPSConnection, req,\n\u001b[0m\u001b[0;32m   1398\u001b[0m                 context=self._context, check_hostname=self._check_hostname)\n\u001b[0;32m   1399\u001b[0m \u001b[1;33m\u001b[0m\u001b[0m\n",
      "\u001b[1;32mC:\\ProgramData\\Anaconda3\\lib\\urllib\\request.py\u001b[0m in \u001b[0;36mdo_open\u001b[1;34m(self, http_class, req, **http_conn_args)\u001b[0m\n\u001b[0;32m   1355\u001b[0m                           encode_chunked=req.has_header('Transfer-encoding'))\n\u001b[0;32m   1356\u001b[0m             \u001b[1;32mexcept\u001b[0m \u001b[0mOSError\u001b[0m \u001b[1;32mas\u001b[0m \u001b[0merr\u001b[0m\u001b[1;33m:\u001b[0m \u001b[1;31m# timeout error\u001b[0m\u001b[1;33m\u001b[0m\u001b[1;33m\u001b[0m\u001b[0m\n\u001b[1;32m-> 1357\u001b[1;33m                 \u001b[1;32mraise\u001b[0m \u001b[0mURLError\u001b[0m\u001b[1;33m(\u001b[0m\u001b[0merr\u001b[0m\u001b[1;33m)\u001b[0m\u001b[1;33m\u001b[0m\u001b[1;33m\u001b[0m\u001b[0m\n\u001b[0m\u001b[0;32m   1358\u001b[0m             \u001b[0mr\u001b[0m \u001b[1;33m=\u001b[0m \u001b[0mh\u001b[0m\u001b[1;33m.\u001b[0m\u001b[0mgetresponse\u001b[0m\u001b[1;33m(\u001b[0m\u001b[1;33m)\u001b[0m\u001b[1;33m\u001b[0m\u001b[1;33m\u001b[0m\u001b[0m\n\u001b[0;32m   1359\u001b[0m         \u001b[1;32mexcept\u001b[0m\u001b[1;33m:\u001b[0m\u001b[1;33m\u001b[0m\u001b[1;33m\u001b[0m\u001b[0m\n",
      "\u001b[1;31mURLError\u001b[0m: <urlopen error [Errno 11001] getaddrinfo failed>"
     ]
    }
   ],
   "source": [
    "import pandas as pd\n",
    "\n",
    "presidents_df = pd.read_csv('https://sololearn.com/uploads/files/president_heights_party.csv', index_col='name')\n",
    "                                  \n",
    "print(presidents_df.loc['Abraham Lincoln'])"
   ]
  },
  {
   "cell_type": "markdown",
   "id": "693d230f",
   "metadata": {},
   "source": [
    "The result is a pandas Series of shape (4,)"
   ]
  },
  {
   "cell_type": "code",
   "execution_count": null,
   "id": "0da378e9",
   "metadata": {},
   "outputs": [],
   "source": [
    "print(type(presidents_df.loc['Abraham Lincoln']))\n",
    "print(presidents_df.loc['Abraham Lincoln'].shape)"
   ]
  },
  {
   "cell_type": "markdown",
   "id": "1be67357",
   "metadata": {},
   "source": [
    "We can also slice by index. Say we are interested in gathering information on all of the presidents between Abraham Lincoln and Ulysses S. Grant:\n"
   ]
  },
  {
   "cell_type": "code",
   "execution_count": null,
   "id": "173d81e9",
   "metadata": {},
   "outputs": [],
   "source": [
    "print(presidents_df.loc['Abraham Lincoln':'Ulysses S. Grant'])"
   ]
  },
  {
   "cell_type": "markdown",
   "id": "17dfd213",
   "metadata": {},
   "source": [
    "\n",
    "The result is a new DataFrame, a subset of 'presidents_df'.\n",
    "\n",
    ".loc[ ] allows us to select data by label or by a conditional statement."
   ]
  },
  {
   "cell_type": "markdown",
   "id": "6d5fbe97",
   "metadata": {},
   "source": [
    "## Rows with .iloc\n",
    "\n",
    "\n",
    "Alternatively, if we do know the integer position(s), we can use .iloc to access the row(s)."
   ]
  },
  {
   "cell_type": "code",
   "execution_count": null,
   "id": "bf88f3bd",
   "metadata": {},
   "outputs": [],
   "source": [
    "presidents_df.iloc[15]"
   ]
  },
  {
   "cell_type": "markdown",
   "id": "cbfdcd5e",
   "metadata": {},
   "source": [
    "To gather information from the 16th to 18th presidents, we can then:"
   ]
  },
  {
   "cell_type": "code",
   "execution_count": null,
   "id": "8220ca29",
   "metadata": {},
   "outputs": [],
   "source": [
    "presidents_df.iloc[15:18]"
   ]
  },
  {
   "cell_type": "markdown",
   "id": "09e677d2",
   "metadata": {},
   "source": [
    "Both .loc[ ] and .iloc[ ] may be used with a boolean array to subset the data."
   ]
  },
  {
   "cell_type": "markdown",
   "id": "5bb53cba",
   "metadata": {},
   "source": [
    "## Columns\n",
    "\n",
    "\n",
    "We can retrieve an entire column from presidents_df by name. First we access all the column names:"
   ]
  },
  {
   "cell_type": "code",
   "execution_count": null,
   "id": "45c92eb3",
   "metadata": {},
   "outputs": [],
   "source": [
    "presidents_df.columns"
   ]
  },
  {
   "cell_type": "markdown",
   "id": "73489d4a",
   "metadata": {},
   "source": [
    "Which returns an index object containing all column names. Then we can access the column height by:"
   ]
  },
  {
   "cell_type": "code",
   "execution_count": null,
   "id": "97b058e6",
   "metadata": {},
   "outputs": [],
   "source": [
    "presidents_df['height']\n",
    "presidents_df['height'].shape"
   ]
  },
  {
   "cell_type": "markdown",
   "id": "be9eef25",
   "metadata": {},
   "source": [
    "Which returns a Series containing heights from all U.S. presidents.\n",
    "\n",
    "To select multiple columns, we pass the names in a list, resulting in a DataFrame. Remember, we can use .head() to access the first 3 rows as shown below:"
   ]
  },
  {
   "cell_type": "code",
   "execution_count": null,
   "id": "821964c4",
   "metadata": {},
   "outputs": [],
   "source": [
    "presidents_df[['height','age']].head(n=3)"
   ]
  },
  {
   "cell_type": "markdown",
   "id": "12d4d67d",
   "metadata": {},
   "source": [
    "In such a way, we focus on only the columns of interest.\n",
    "\n",
    "When accessing a single column, one bracket results in a Series (single dimension) and double brackets results in a DataFrame (multi dimensional)."
   ]
  },
  {
   "cell_type": "markdown",
   "id": "f90ee133",
   "metadata": {},
   "source": [
    "## More with .loc\n",
    "\n",
    "\n",
    "If we wanted to access columns order, age, and height, we can do it with .loc. .loc allows us to access any of the columns. For example, if we wanted to access columns from order through height for the first three presidents:"
   ]
  },
  {
   "cell_type": "code",
   "execution_count": null,
   "id": "aaa137bb",
   "metadata": {},
   "outputs": [],
   "source": [
    "print(presidents_df.loc[:, 'order':'height'].head(n=3))"
   ]
  },
  {
   "cell_type": "markdown",
   "id": "6eabf756",
   "metadata": {},
   "source": [
    "The index in pandas makes retrieving information from rows or columns convenient and easy, especially when the data set is large or there are many columns. Therefore, we don’t have to memorize the integer positions of each row or column."
   ]
  },
  {
   "cell_type": "code",
   "execution_count": null,
   "id": "c0886de3",
   "metadata": {},
   "outputs": [],
   "source": []
  }
 ],
 "metadata": {
  "kernelspec": {
   "display_name": "Python 3",
   "language": "python",
   "name": "python3"
  },
  "language_info": {
   "codemirror_mode": {
    "name": "ipython",
    "version": 3
   },
   "file_extension": ".py",
   "mimetype": "text/x-python",
   "name": "python",
   "nbconvert_exporter": "python",
   "pygments_lexer": "ipython3",
   "version": "3.8.8"
  }
 },
 "nbformat": 4,
 "nbformat_minor": 5
}
