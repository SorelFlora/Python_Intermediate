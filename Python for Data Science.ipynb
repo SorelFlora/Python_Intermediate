{
 "cells": [
  {
   "cell_type": "markdown",
   "id": "3c8ac4f0",
   "metadata": {},
   "source": [
    "# Welcome to Python for Data Science Course!"
   ]
  },
  {
   "cell_type": "markdown",
   "id": "ec5e143e",
   "metadata": {},
   "source": [
    "# Introduction\n",
    "\n",
    "## In this course we will learn about the most popular Python libraries used in Data Science :  Numpy, pandas and matplotlib. We will tackle real-life problems, solve challenges, analyze real data, and visualize the data insights!\n",
    "\n",
    "### If we are not familiar with the basic syntax of Python, it is better to complete Python Beginners and Python Data Structures courses first, before starting this one."
   ]
  },
  {
   "cell_type": "raw",
   "id": "132f1685",
   "metadata": {},
   "source": [
    "Wich of the following is a Python library used in data science?\n",
    "\n",
    " 1-pandas\n",
    "    \n",
    " 2-bears\n",
    "\n",
    " 3-penguins"
   ]
  },
  {
   "cell_type": "markdown",
   "id": "f055b4eb",
   "metadata": {},
   "source": [
    "# 1.1 LESSON\n",
    "\n",
    "## Why Python\n"
   ]
  },
  {
   "cell_type": "raw",
   "id": "5cfdd6c6",
   "metadata": {},
   "source": [
    "Python is the number one programming language for Data Science, and for good reason :\n",
    "    \n",
    "    - Python is easy to learn.\n",
    "    - The syntax is easy to read and understand.\n",
    "    - There are many useful libraries to perform computations and other operations.\n",
    "    \n",
    "Generally, Python code is also much shorter compared to other programming languages."
   ]
  },
  {
   "cell_type": "code",
   "execution_count": 12,
   "id": "fdf0abe9",
   "metadata": {},
   "outputs": [
    {
     "name": "stdout",
     "output_type": "stream",
     "text": [
      "4\n"
     ]
    }
   ],
   "source": [
    "#Let's check our Python Knowledge!\n",
    "\n",
    "#What is the output of this code?\n",
    "\n",
    "x=[]\n",
    "for a in range(4):\n",
    "    x.append(a**2)\n",
    "print(x[2])"
   ]
  },
  {
   "cell_type": "markdown",
   "id": "f53a4c63",
   "metadata": {},
   "source": [
    "# 2.1 LESSON\n",
    "\n",
    "## Statistics"
   ]
  },
  {
   "cell_type": "markdown",
   "id": "38e5f3b5",
   "metadata": {},
   "source": [
    "Data Science uses various techniques and methods to extract knowledge and insights from data.\n",
    "\n",
    "Let's dive in to some basic of statistics first. These concepts form the main building blocks of data analysis.\n",
    "\n",
    "As an example dataset, let's consider the prices of a group of products: \n",
    "\n",
    "   [18, 24, 67, 55, 42, 14, 19, 26, 33]\n",
    "\n",
    "The given dataset  include prices of 9 products.\n",
    "\n",
    "## Mean\n",
    "\n",
    "The mean is the average value of the dataset. We can calculate it by adding all prices together and dividing  by thr number of products: mean=298/9=33.1\n",
    "\n",
    "Notice that the mean value is usually not part of our dataset."
   ]
  },
  {
   "cell_type": "code",
   "execution_count": 19,
   "id": "b10c1e33",
   "metadata": {
    "scrolled": false
   },
   "outputs": [
    {
     "data": {
      "text/plain": [
       "[2, 4, 6, 8]"
      ]
     },
     "execution_count": 19,
     "metadata": {},
     "output_type": "execute_result"
    }
   ],
   "source": [
    "# What is the mean of the following values?\n",
    "\n",
    "[2,4,6,8]\n",
    "\n",
    "# 5\n",
    "\n",
    "# 4\n",
    "\n",
    "# 6"
   ]
  },
  {
   "cell_type": "markdown",
   "id": "f679ceb4",
   "metadata": {},
   "source": [
    "## Median\n",
    "\n",
    "Another useful concept is  median : the middle value of an ordered dataset.\n",
    "\n",
    "To calculate the median for our prices dataset, let's first order it in ascending order:\n",
    "\n",
    "[14, 18, 19, 24, 26, 33, 42, 55, 67]\n",
    "\n",
    "The mediann is 26, as that's the middle value. If our dataset had an even number of values, \n",
    "we would take the two values in the middle and calculate their average value.\n",
    "\n",
    "The median is generally more usefull than the mean. This is because the mean can vary widely due to one value that is a lot larger or smaller than the others.\n",
    "\n",
    "The mean and the median are called Measures of Central Tendency, as they describe where the center of our data is.\n",
    "\n",
    "### What is the median of the following values?\n",
    "\n",
    "[2,2,3,5,8,9]\n",
    "\n",
    "5\n",
    "\n",
    "4\n",
    "\n",
    "3\n",
    "\n",
    "## Problem : Number of Vaccinations\n",
    "\n",
    "We have a report on the number of flu vaccinations in a class of 20 people.\n",
    "\n",
    "It has the following numbers:\n",
    "\n",
    "never:5\n",
    "\n",
    "once : 8\n",
    "\n",
    "twice : 4\n",
    "\n",
    "3times : 3\n",
    "\n",
    "What is the mean number of times those people have been vaccinated? Output the result using the print() statement."
   ]
  },
  {
   "cell_type": "code",
   "execution_count": 20,
   "id": "ad3a2674",
   "metadata": {},
   "outputs": [
    {
     "name": "stdout",
     "output_type": "stream",
     "text": [
      "1.25\n"
     ]
    }
   ],
   "source": [
    "print(25/20)"
   ]
  },
  {
   "cell_type": "markdown",
   "id": "f805ec83",
   "metadata": {},
   "source": [
    "# 3.1 LESSON : More Statistics\n",
    "\n",
    "## Standard Deviation\n",
    "\n",
    "The Standard Deviation is a measure of how spread out our data is. To calculate  it, we first need to calculate a value called Variance: Which is the average of the squared differences from the mean. So, for our price data, the mean is 33.1. To calculate the variance, we take the difference between each value and the mean, saquare it, and then average the result : Variance =292.5.\n",
    "\n",
    "Now we take the square root of the Variance, to get the Standard Deviation : std=17.1\n",
    "\n",
    "Now, we can check wich ages are within one standard deviation(17.1) from the mean(33.1) - from(33.1-17.1) to (33.1+17.1)"
   ]
  },
  {
   "cell_type": "code",
   "execution_count": 21,
   "id": "39106337",
   "metadata": {},
   "outputs": [
    {
     "data": {
      "text/plain": [
       "16.0"
      ]
     },
     "execution_count": 21,
     "metadata": {},
     "output_type": "execute_result"
    }
   ],
   "source": [
    "33.1-17.1"
   ]
  },
  {
   "cell_type": "code",
   "execution_count": 22,
   "id": "99da0927",
   "metadata": {},
   "outputs": [
    {
     "data": {
      "text/plain": [
       "50.2"
      ]
     },
     "execution_count": 22,
     "metadata": {},
     "output_type": "execute_result"
    }
   ],
   "source": [
    "33.1+17.1"
   ]
  },
  {
   "cell_type": "markdown",
   "id": "d6285c61",
   "metadata": {},
   "source": [
    "As we can see, 6 values out of 9 are within that range.\n",
    "\n",
    "A low standard deviation indicates that the values tend to be close to the mean of the set, while a high standard deviation indicates that the values are spread out over a wider range\n",
    "\n",
    "True or False a high standard deviation indicates that the values in our data are close to the mean"
   ]
  },
  {
   "cell_type": "markdown",
   "id": "5dbb6f37",
   "metadata": {},
   "source": [
    "We have learned how to calculate the main summary statistics for a data set:\n",
    "\n",
    "Mean: the average of the values.\n",
    "\n",
    "Median: the middle value.\n",
    "\n",
    "Standard Diviation: the measure of spread.\n",
    "\n",
    "These statistics provide information about our data set and help you understand where your data values are and how they are distributed.\n",
    "\n",
    "Python provides librairies that calculate the summary statistics for us. We will learn about them in the later lessons."
   ]
  },
  {
   "cell_type": "markdown",
   "id": "2a5fdebc",
   "metadata": {},
   "source": [
    "Exercise\n",
    "\n",
    "What would be the standard deviation of a dataset containing the same values?(for example : [2,2,2,2])\n",
    "\n",
    "1\n",
    "\n",
    "0\n",
    "\n",
    "infinity"
   ]
  },
  {
   "cell_type": "markdown",
   "id": "5615ec15",
   "metadata": {},
   "source": [
    "## Problem\n",
    "\n",
    "Using the same vaccinations dataset, calculate and output the variance. We will soon learn about easier ways to calculate the variance and other summary statistics using Python. For now, use Python code to calculate the result using the corresponding equation.\n",
    "\n",
    "Hint: The variance is the average of the squared differences from the mean"
   ]
  },
  {
   "cell_type": "code",
   "execution_count": 23,
   "id": "163cfaa7",
   "metadata": {},
   "outputs": [
    {
     "name": "stdout",
     "output_type": "stream",
     "text": [
      "0.9875\n"
     ]
    }
   ],
   "source": [
    "import numpy as np\n",
    "vac_nums = np.array([0,0,0,0,0,1,1,1,1,1,1,1,1,2,2,2,2,3,3,3])\n",
    "a=np.array(vac_nums)\n",
    "mean=np.sum(vac_nums)/a.size\n",
    "v=np.sum((a-mean)**2)/a.size\n",
    "print(v)"
   ]
  },
  {
   "cell_type": "markdown",
   "id": "2afdf966",
   "metadata": {},
   "source": [
    "## Quiz\n",
    "\n",
    "What is the mean of the following values?\n",
    "\n",
    "[1,2,3,4,5]\n",
    "\n",
    "15\n",
    "\n",
    "5\n",
    "\n",
    "3\n",
    "\n",
    "What is the Standard Deviation of the following data?\n",
    "\n",
    "[8,8,8,8,8]\n",
    "\n",
    "8\n",
    "\n",
    "0\n",
    "\n",
    "1\n",
    "\n",
    "What is the median value?\n",
    "\n",
    "[6,5,4,3,2,1]\n",
    "\n",
    "4\n",
    "\n",
    "3\n",
    "\n",
    "3.5\n",
    "\n",
    "In a dart game, you hit 5 points once, 10 points 2 tims, 20 ponts 2 times. What is the average number of ponts you hit per attempt?"
   ]
  },
  {
   "cell_type": "code",
   "execution_count": 24,
   "id": "b1433ad6",
   "metadata": {},
   "outputs": [
    {
     "data": {
      "text/plain": [
       "65"
      ]
     },
     "execution_count": 24,
     "metadata": {},
     "output_type": "execute_result"
    }
   ],
   "source": [
    "5+10+10+20+20"
   ]
  },
  {
   "cell_type": "code",
   "execution_count": 25,
   "id": "51a9d330",
   "metadata": {},
   "outputs": [
    {
     "data": {
      "text/plain": [
       "13.0"
      ]
     },
     "execution_count": 25,
     "metadata": {},
     "output_type": "execute_result"
    }
   ],
   "source": [
    "65/5"
   ]
  },
  {
   "cell_type": "markdown",
   "id": "d6165ac4",
   "metadata": {},
   "source": [
    "## Problem : Basketball Players\n",
    "\n",
    "The given code includes a list of heights for various basketball players. You need to calculate and output how many players are in the range of one standard deviation from the mean. Output the result using  the print statement."
   ]
  },
  {
   "cell_type": "code",
   "execution_count": null,
   "id": "dd6237ad",
   "metadata": {},
   "outputs": [],
   "source": [
    "players = [180,172,178,185,190,195,192,200,210,190]\n"
   ]
  },
  {
   "cell_type": "code",
   "execution_count": 28,
   "id": "4a06ac44",
   "metadata": {},
   "outputs": [
    {
     "name": "stdout",
     "output_type": "stream",
     "text": [
      "6\n"
     ]
    }
   ],
   "source": [
    "players = np.array([180,172,178,185,190,195,192,200,210,190])\n",
    "m=sum(players)/len(players)\n",
    "v=(sum((i-m)**2 for i in players)/len(players))**0.5\n",
    "low,high=m-v,m+v\n",
    "c=len([j for j in players if low < j < high])\n",
    "print(c)"
   ]
  },
  {
   "cell_type": "markdown",
   "id": "0a958961",
   "metadata": {},
   "source": [
    "# Math Operations with Numpy\n",
    "\n",
    "NumPy(Numerical Python) is a Python library used to work with numerical data. NumPy includes functions and data structures that can perform a wide variety of mathematical operations.\n",
    "\n",
    "To start using NumPy, we first nedd to import it"
   ]
  },
  {
   "cell_type": "code",
   "execution_count": 29,
   "id": "74f9bcb4",
   "metadata": {},
   "outputs": [],
   "source": [
    "import numpy as np\n",
    "\n",
    "# np is the most common used to import numpy"
   ]
  },
  {
   "cell_type": "markdown",
   "id": "c9306d57",
   "metadata": {},
   "source": [
    "### NumPy Array\n",
    "\n",
    "In Python, lists are used to store data. NumPy provides an array structure for performing operations with data. NumPy arrays are faster and more compact than lists.\n",
    "\n",
    "A NumPy array can be created using the np.array() function, providing it a list as the argument:"
   ]
  },
  {
   "cell_type": "code",
   "execution_count": 38,
   "id": "a8e1ab31",
   "metadata": {},
   "outputs": [],
   "source": [
    "x=np.array([1,2,3,4])"
   ]
  },
  {
   "cell_type": "code",
   "execution_count": 39,
   "id": "83d3363c",
   "metadata": {},
   "outputs": [
    {
     "data": {
      "text/plain": [
       "array([1, 2, 3, 4])"
      ]
     },
     "execution_count": 39,
     "metadata": {},
     "output_type": "execute_result"
    }
   ],
   "source": [
    "x"
   ]
  },
  {
   "cell_type": "markdown",
   "id": "f954832b",
   "metadata": {},
   "source": [
    "Now, x is a NumPy array containing 4 values. We can access its elements using their indexes, which start from 0:"
   ]
  },
  {
   "cell_type": "code",
   "execution_count": 40,
   "id": "443344cb",
   "metadata": {},
   "outputs": [
    {
     "name": "stdout",
     "output_type": "stream",
     "text": [
      "1\n"
     ]
    }
   ],
   "source": [
    "print(x[0])"
   ]
  },
  {
   "cell_type": "code",
   "execution_count": 41,
   "id": "e22e0e1c",
   "metadata": {},
   "outputs": [
    {
     "data": {
      "text/plain": [
       "numpy.ndarray"
      ]
     },
     "execution_count": 41,
     "metadata": {},
     "output_type": "execute_result"
    }
   ],
   "source": [
    "type(x)"
   ]
  },
  {
   "cell_type": "code",
   "execution_count": 42,
   "id": "f54acddf",
   "metadata": {},
   "outputs": [
    {
     "data": {
      "text/plain": [
       "(4,)"
      ]
     },
     "execution_count": 42,
     "metadata": {},
     "output_type": "execute_result"
    }
   ],
   "source": [
    "x.shape"
   ]
  },
  {
   "cell_type": "markdown",
   "id": "d27b8b0c",
   "metadata": {},
   "source": [
    "NumPy arrays are homogeneous, meaning they can contain only a single data type, whilw lists can contain multiple different types of data"
   ]
  },
  {
   "cell_type": "markdown",
   "id": "73d23b02",
   "metadata": {},
   "source": [
    "## Problem : Square Footage\n",
    "\n",
    "You are given an array that holds the square footage data for houses on a particular street. A new house has been constructed on that street. Modify your program to take the new house value as input, add it to the array, and output the array sorted in ascending order."
   ]
  },
  {
   "cell_type": "code",
   "execution_count": 35,
   "id": "d93d58ee",
   "metadata": {},
   "outputs": [
    {
     "name": "stdout",
     "output_type": "stream",
     "text": [
      "7000\n",
      "[ 900 1000 1400 1800 1900 2200 2500 3500 4200 7000]\n"
     ]
    }
   ],
   "source": [
    "import numpy as np\n",
    "data=np.array([1000,2500,1400,1800,900,4200,2200,1900,3500])\n",
    "new=int(input())\n",
    "data=np.append(data,new)\n",
    "data=np.sort(data)\n",
    "print(data)"
   ]
  },
  {
   "cell_type": "markdown",
   "id": "c0f36197",
   "metadata": {},
   "source": [
    "### Reshape\n",
    "\n",
    "Recall that shape refers to the number of rows and columns in the array.\n",
    "\n",
    "For example, let's consider the following array:"
   ]
  },
  {
   "cell_type": "code",
   "execution_count": 43,
   "id": "4da2fac4",
   "metadata": {},
   "outputs": [],
   "source": [
    "x=np.arange(1, 7)"
   ]
  },
  {
   "cell_type": "code",
   "execution_count": 51,
   "id": "89453442",
   "metadata": {},
   "outputs": [
    {
     "data": {
      "text/plain": [
       "array([1, 2, 3, 4, 5, 6])"
      ]
     },
     "execution_count": 51,
     "metadata": {},
     "output_type": "execute_result"
    }
   ],
   "source": [
    "x"
   ]
  },
  {
   "cell_type": "markdown",
   "id": "0f32efdd",
   "metadata": {},
   "source": [
    "This is a 1-dimensional array, containing 6 elments.\n",
    "\n",
    "NumPy allows us to change the shape of our arrays using the reschape() function. For example, we can change our 1-dimensional array to an array with 3 rows and 2 columns:"
   ]
  },
  {
   "cell_type": "code",
   "execution_count": 46,
   "id": "a0418cfa",
   "metadata": {},
   "outputs": [],
   "source": [
    "z=x.reshape(3,2)"
   ]
  },
  {
   "cell_type": "code",
   "execution_count": 47,
   "id": "3241151c",
   "metadata": {},
   "outputs": [
    {
     "data": {
      "text/plain": [
       "array([[1, 2],\n",
       "       [3, 4],\n",
       "       [5, 6]])"
      ]
     },
     "execution_count": 47,
     "metadata": {},
     "output_type": "execute_result"
    }
   ],
   "source": [
    "z"
   ]
  },
  {
   "cell_type": "code",
   "execution_count": 49,
   "id": "6dc7a454",
   "metadata": {},
   "outputs": [
    {
     "data": {
      "text/plain": [
       "(3, 2)"
      ]
     },
     "execution_count": 49,
     "metadata": {},
     "output_type": "execute_result"
    }
   ],
   "source": [
    "z.shape"
   ]
  },
  {
   "cell_type": "markdown",
   "id": "b8a37210",
   "metadata": {},
   "source": [
    "When you use the reshape method, the array you want to produce needs to have the same number of elements as the original array\n",
    "\n",
    "Reshape can also do the opposite: take a 2-dimensional array and make a 1-dimensional array from it:"
   ]
  },
  {
   "cell_type": "code",
   "execution_count": 54,
   "id": "a32b4a01",
   "metadata": {},
   "outputs": [],
   "source": [
    "x=np.array([[1,2],[3,4],[5,6]])"
   ]
  },
  {
   "cell_type": "code",
   "execution_count": 55,
   "id": "c2a669a6",
   "metadata": {},
   "outputs": [
    {
     "data": {
      "text/plain": [
       "array([[1, 2],\n",
       "       [3, 4],\n",
       "       [5, 6]])"
      ]
     },
     "execution_count": 55,
     "metadata": {},
     "output_type": "execute_result"
    }
   ],
   "source": [
    "x"
   ]
  },
  {
   "cell_type": "code",
   "execution_count": 56,
   "id": "f11a9f56",
   "metadata": {},
   "outputs": [],
   "source": [
    "z=x.reshape(6)"
   ]
  },
  {
   "cell_type": "code",
   "execution_count": 57,
   "id": "3390ab3b",
   "metadata": {},
   "outputs": [
    {
     "data": {
      "text/plain": [
       "array([1, 2, 3, 4, 5, 6])"
      ]
     },
     "execution_count": 57,
     "metadata": {},
     "output_type": "execute_result"
    }
   ],
   "source": [
    "z"
   ]
  },
  {
   "cell_type": "markdown",
   "id": "be126d00",
   "metadata": {},
   "source": [
    "The result is a flat array that contains 6 elements.\n",
    "\n",
    "The same result can be achieved using the flatten() function."
   ]
  },
  {
   "cell_type": "code",
   "execution_count": 62,
   "id": "b4db8967",
   "metadata": {},
   "outputs": [
    {
     "name": "stdout",
     "output_type": "stream",
     "text": [
      "4\n"
     ]
    }
   ],
   "source": [
    "x=np.arange(1,8,3)\n",
    "z=x.reshape(3,1)\n",
    "print(z[1][0])"
   ]
  },
  {
   "cell_type": "markdown",
   "id": "8c2dca8c",
   "metadata": {},
   "source": [
    "## 9.1 LESSON\n",
    "\n",
    "### Indexing & Slicing\n",
    "\n",
    "NumPy arrays can be indexed and sliced the same way that Python lists are.\n",
    "\n",
    "For example :"
   ]
  },
  {
   "cell_type": "code",
   "execution_count": 2,
   "id": "1bf6f6d3",
   "metadata": {},
   "outputs": [
    {
     "name": "stdout",
     "output_type": "stream",
     "text": [
      "[1 2]\n",
      "[6 7 8 9]\n",
      "[1 2]\n",
      "[7 8 9]\n"
     ]
    }
   ],
   "source": [
    "import numpy as np\n",
    "x=np.arange(1,10)\n",
    "print(x[0:2])\n",
    "print(x[5:])\n",
    "print(x[:2])\n",
    "print(x[-3:])"
   ]
  },
  {
   "cell_type": "markdown",
   "id": "dabc445c",
   "metadata": {},
   "source": [
    "Negative indexes count from the end of the array, so,[-3] will result in the last 3 elements."
   ]
  },
  {
   "cell_type": "markdown",
   "id": "cb4c1fab",
   "metadata": {},
   "source": [
    "### Conditions\n",
    "\n",
    "You can provide a condition as the index to select the elements that fulfill the given condition.\n",
    "\n",
    "For exemple, let's select the elements that are less than 4:"
   ]
  },
  {
   "cell_type": "code",
   "execution_count": 4,
   "id": "7039bf93",
   "metadata": {},
   "outputs": [
    {
     "name": "stdout",
     "output_type": "stream",
     "text": [
      "[1 2 3]\n"
     ]
    }
   ],
   "source": [
    "x=np.arange(1,10)\n",
    "print(x[x<4])"
   ]
  },
  {
   "cell_type": "markdown",
   "id": "78f41fd0",
   "metadata": {},
   "source": [
    "Conditions can be combined using the &(and) and |(or) operators.\n",
    "\n",
    "For example, let's take the even numbers that are greater than 5:"
   ]
  },
  {
   "cell_type": "code",
   "execution_count": 6,
   "id": "bb1021a3",
   "metadata": {},
   "outputs": [
    {
     "name": "stdout",
     "output_type": "stream",
     "text": [
      "[6 8]\n"
     ]
    }
   ],
   "source": [
    "print(x[(x>5) & (x%2==0)])"
   ]
  },
  {
   "cell_type": "markdown",
   "id": "6976f4fd",
   "metadata": {},
   "source": [
    "The condition can be also be assigned to a variable, which will be an array of boolean values showing whether or not the values in the array fulfill the condition: y=(x>5)&(x%2==0)"
   ]
  },
  {
   "cell_type": "markdown",
   "id": "5f8b87cc",
   "metadata": {},
   "source": [
    "## Problem : Array of Numbers\n",
    "\n",
    "Create an array of numbers below 100 that are multiple of both, 3 and 5, and output it."
   ]
  },
  {
   "cell_type": "code",
   "execution_count": 7,
   "id": "706da2c8",
   "metadata": {},
   "outputs": [
    {
     "data": {
      "text/plain": [
       "array([ 1,  2,  3,  4,  5,  6,  7,  8,  9, 10, 11, 12, 13, 14, 15, 16, 17,\n",
       "       18, 19, 20, 21, 22, 23, 24, 25, 26, 27, 28, 29, 30, 31, 32, 33, 34,\n",
       "       35, 36, 37, 38, 39, 40, 41, 42, 43, 44, 45, 46, 47, 48, 49, 50, 51,\n",
       "       52, 53, 54, 55, 56, 57, 58, 59, 60, 61, 62, 63, 64, 65, 66, 67, 68,\n",
       "       69, 70, 71, 72, 73, 74, 75, 76, 77, 78, 79, 80, 81, 82, 83, 84, 85,\n",
       "       86, 87, 88, 89, 90, 91, 92, 93, 94, 95, 96, 97, 98, 99])"
      ]
     },
     "execution_count": 7,
     "metadata": {},
     "output_type": "execute_result"
    }
   ],
   "source": [
    "x=np.arange(1,100)\n",
    "x"
   ]
  },
  {
   "cell_type": "code",
   "execution_count": 8,
   "id": "5c627238",
   "metadata": {},
   "outputs": [],
   "source": [
    "y=(x%3!=0)&(x%5!=0)"
   ]
  },
  {
   "cell_type": "code",
   "execution_count": 11,
   "id": "7e5e2507",
   "metadata": {},
   "outputs": [
    {
     "name": "stdout",
     "output_type": "stream",
     "text": [
      "[15 30 45 60 75 90]\n"
     ]
    }
   ],
   "source": [
    "print(x[(x%3==0)&(x%5==0)])"
   ]
  },
  {
   "cell_type": "markdown",
   "id": "36c92e69",
   "metadata": {},
   "source": [
    "What is the output of this code?"
   ]
  },
  {
   "cell_type": "code",
   "execution_count": 12,
   "id": "c161b01f",
   "metadata": {},
   "outputs": [
    {
     "name": "stdout",
     "output_type": "stream",
     "text": [
      "2\n"
     ]
    }
   ],
   "source": [
    "x=np.array([11,42,8,5,18])\n",
    "z=x[x>15]\n",
    "print(z.size)"
   ]
  },
  {
   "cell_type": "markdown",
   "id": "1dbe4f0f",
   "metadata": {},
   "source": [
    "# 10.1 LESSON \n",
    "\n",
    "## Array Operations\n",
    "\n",
    "### Operations\n",
    "\n",
    "It is easy to perform basic mathematical operations with arrays.\n",
    "\n",
    "For example, to find the sum of all elements, we use the sum() function:"
   ]
  },
  {
   "cell_type": "code",
   "execution_count": 13,
   "id": "b7b482c8",
   "metadata": {},
   "outputs": [
    {
     "name": "stdout",
     "output_type": "stream",
     "text": [
      "45\n"
     ]
    }
   ],
   "source": [
    "x=np.arange(1,10)\n",
    "print(x.sum())"
   ]
  },
  {
   "cell_type": "markdown",
   "id": "d5ac0d4c",
   "metadata": {},
   "source": [
    "Similarly, min() and max() can be used to get the smallest and largest elements.\n",
    "\n",
    "We can also perform operations between the array and a single number.\n",
    "\n",
    "For example, we can multiply all elements by 2:"
   ]
  },
  {
   "cell_type": "code",
   "execution_count": 14,
   "id": "5cc1c77d",
   "metadata": {},
   "outputs": [],
   "source": [
    "x=np.arange(1,10)\n",
    "y=x*2"
   ]
  },
  {
   "cell_type": "code",
   "execution_count": 15,
   "id": "146cd1ae",
   "metadata": {},
   "outputs": [
    {
     "data": {
      "text/plain": [
       "array([ 2,  4,  6,  8, 10, 12, 14, 16, 18])"
      ]
     },
     "execution_count": 15,
     "metadata": {},
     "output_type": "execute_result"
    }
   ],
   "source": [
    "y"
   ]
  },
  {
   "cell_type": "markdown",
   "id": "7a898190",
   "metadata": {},
   "source": [
    "As simple as that! Take your array and perform any operation you want with it!\n",
    "\n",
    "NumPy understands that the given operation should be performed with each element. This is called broadcasting."
   ]
  },
  {
   "cell_type": "markdown",
   "id": "d257af4a",
   "metadata": {},
   "source": [
    "Fill in the blanks to convert all values in the array from megabyte to kilobytes.(1 megabyte is 1024 kilobytes). Then, output the largest elements"
   ]
  },
  {
   "cell_type": "code",
   "execution_count": 17,
   "id": "725f0fa1",
   "metadata": {},
   "outputs": [
    {
     "name": "stdout",
     "output_type": "stream",
     "text": [
      "146432\n"
     ]
    }
   ],
   "source": [
    "data_mb=np.array([6,3,10,143])\n",
    "data_kb=data_mb*1024\n",
    "print(data_kb.max())"
   ]
  },
  {
   "cell_type": "markdown",
   "id": "276c8352",
   "metadata": {},
   "source": [
    "## Statistics"
   ]
  },
  {
   "cell_type": "markdown",
   "id": "f670fab5",
   "metadata": {},
   "source": [
    "Remember the summary statistics we learned in the previous module? Those included mean,median,variance and standard deviation.\n",
    "\n",
    "NumPy arrays have built-in functions to return those values."
   ]
  },
  {
   "cell_type": "code",
   "execution_count": 19,
   "id": "29635c7f",
   "metadata": {},
   "outputs": [
    {
     "name": "stdout",
     "output_type": "stream",
     "text": [
      "5.0\n",
      "5.0\n",
      "6.666666666666667\n",
      "2.581988897471611\n"
     ]
    }
   ],
   "source": [
    "print(np.mean(x))\n",
    "print(np.median(x))\n",
    "print(np.var(x))\n",
    "print(np.std(x))"
   ]
  },
  {
   "cell_type": "markdown",
   "id": "4eb45841",
   "metadata": {},
   "source": [
    "As you can see, NumPy provides many useful functions to perform common operations with arrays."
   ]
  },
  {
   "cell_type": "markdown",
   "id": "ffa05922",
   "metadata": {},
   "source": [
    "## Problem : Infection Cases\n",
    "\n",
    "### Daily Infections\n",
    "\n",
    "The given array represents the daily number of infections for 30 days. Find out how many days had more infections than the average of data.\n"
   ]
  },
  {
   "cell_type": "code",
   "execution_count": 26,
   "id": "9ddc2326",
   "metadata": {},
   "outputs": [
    {
     "name": "stdout",
     "output_type": "stream",
     "text": [
      "12\n",
      "105.0\n"
     ]
    }
   ],
   "source": [
    "import numpy as np\n",
    "\n",
    "data=np.array([120,98,150,65,42,100,190,220,140,110,88,89,100,120,50,180,155,42,89,77,200,190,125,98,77,40,39,59,30,67])\n",
    "mean=np.mean(data)\n",
    "count=0\n",
    "for i in data:\n",
    "    if i > mean:\n",
    "        count +=1\n",
    "print(count)\n",
    "print(mean)\n"
   ]
  },
  {
   "cell_type": "code",
   "execution_count": 27,
   "id": "8353fa76",
   "metadata": {},
   "outputs": [],
   "source": [
    "c=[i for i in data if i > np.mean(data)]"
   ]
  },
  {
   "cell_type": "code",
   "execution_count": 28,
   "id": "6d7d06b7",
   "metadata": {},
   "outputs": [
    {
     "data": {
      "text/plain": [
       "[120, 150, 190, 220, 140, 110, 120, 180, 155, 200, 190, 125]"
      ]
     },
     "execution_count": 28,
     "metadata": {},
     "output_type": "execute_result"
    }
   ],
   "source": [
    "c"
   ]
  },
  {
   "cell_type": "code",
   "execution_count": 30,
   "id": "f4a99e7d",
   "metadata": {},
   "outputs": [
    {
     "data": {
      "text/plain": [
       "12"
      ]
     },
     "execution_count": 30,
     "metadata": {},
     "output_type": "execute_result"
    }
   ],
   "source": [
    "len(c)"
   ]
  },
  {
   "cell_type": "markdown",
   "id": "4a9b80b2",
   "metadata": {},
   "source": [
    "# Quiz\n",
    "\n",
    "What is the output?\n",
    "\n",
    "x=np.arange(3,9)\n",
    "\n",
    "z=x.reshape(2,3)\n",
    "\n",
    "print(z[1][1])\n",
    "\n",
    "Fill in the blanks to get only the values from 'x' that are larger than 42\n",
    "\n",
    "res=  [x> ]\n",
    "\n",
    "Fill the blanks to select the elements of 'x' that are larger than the mean.\n",
    "\n",
    " [ >np.   (x)]\n",
    " \n",
    "\n",
    "What is the output of this code?\n",
    "\n",
    "x=np.arange(1,5)\n",
    "\n",
    "x=x*2\n",
    "\n",
    "print(x[:3].sum())"
   ]
  },
  {
   "cell_type": "code",
   "execution_count": 31,
   "id": "4227ac63",
   "metadata": {},
   "outputs": [],
   "source": [
    "x=np.arange(3,9)\n",
    "z=x.reshape(2,3)"
   ]
  },
  {
   "cell_type": "code",
   "execution_count": 33,
   "id": "91ee1bbb",
   "metadata": {},
   "outputs": [
    {
     "data": {
      "text/plain": [
       "array([[3, 4, 5],\n",
       "       [6, 7, 8]])"
      ]
     },
     "execution_count": 33,
     "metadata": {},
     "output_type": "execute_result"
    }
   ],
   "source": [
    "z"
   ]
  },
  {
   "cell_type": "code",
   "execution_count": 34,
   "id": "18d5d671",
   "metadata": {},
   "outputs": [
    {
     "name": "stdout",
     "output_type": "stream",
     "text": [
      "7\n"
     ]
    }
   ],
   "source": [
    "print(z[1][1])"
   ]
  },
  {
   "cell_type": "code",
   "execution_count": 35,
   "id": "70224ad7",
   "metadata": {},
   "outputs": [
    {
     "name": "stdout",
     "output_type": "stream",
     "text": [
      "12\n"
     ]
    }
   ],
   "source": [
    "x=np.arange(1,5)\n",
    "x=x*2\n",
    "print(x[:3].sum())"
   ]
  },
  {
   "cell_type": "markdown",
   "id": "3ddadcbc",
   "metadata": {},
   "source": [
    "# Problem: House Prices\n",
    "\n",
    "You are given an array that represents house prices. Calculate and output the percentage of houses that are within one standard deviation from the mean.\n",
    "\n",
    "To calculate the percentage, divide the number of houses that satisfy the condition by the total number of houses, and multiply the result by 100"
   ]
  },
  {
   "cell_type": "code",
   "execution_count": 36,
   "id": "6884f35f",
   "metadata": {},
   "outputs": [
    {
     "name": "stdout",
     "output_type": "stream",
     "text": [
      "137.5\n"
     ]
    }
   ],
   "source": [
    "import numpy as np\n",
    "data=np.array([150000,125000,320000,540000,200000,120000,160000,230000,280000,290000,300000,500000,420000,100000,150000,280000])\n",
    "mean=np.mean(data)\n",
    "std=np.std(data)\n",
    "low,high=mean-std,mean+std\n",
    "for i in data:\n",
    "    if low <= i <=high:\n",
    "        count +=1\n",
    "per=(count/data.size)*100\n",
    "print(per)"
   ]
  },
  {
   "cell_type": "markdown",
   "id": "e5ffa96d",
   "metadata": {},
   "source": [
    "# Data Manipulation with Pandas\n",
    "\n",
    "## 13.1 LESSON\n",
    "\n",
    "### What is Pandas\n",
    "\n",
    "$\\textbf{Pandas}$ is one of the most popular data science libraries in Python. Easy to use, it is built on top of NumPy and shares many functions and properties.\n",
    "\n",
    "With Pandas, you can read and extract data from files, transform and analyze it, calculate statistics amd correlations, and much more!\n",
    "\n",
    "To start using pandas, we need to import it first:"
   ]
  },
  {
   "cell_type": "code",
   "execution_count": 5,
   "id": "27ff7d30",
   "metadata": {},
   "outputs": [],
   "source": [
    "import pandas as pd"
   ]
  },
  {
   "cell_type": "markdown",
   "id": "4ac92a8c",
   "metadata": {},
   "source": [
    "pd is a common short name used when importing the library.\n",
    "\n",
    "Pandas is derived from the term \"panel data\", an econometrics term for data sets that include observations over multiple time periods for the same individuals."
   ]
  },
  {
   "cell_type": "markdown",
   "id": "f8d6e94f",
   "metadata": {},
   "source": [
    "## Series & DataFrames\n",
    "\n",
    "The two primary components of pendas are Series and DataFrame.\n",
    "\n",
    "A Series is essentially a column, and a DataFrame is a multi-dimentional table made up of a collection of Series.\n",
    "\n",
    "For example, the following DataFrame os made of two Series, ages and heights:\n",
    "\n",
    "                   | ages | heights |\n",
    "                   \n",
    "                      14    165\n",
    "                      \n",
    "                      18    180\n",
    "                      \n",
    "                      24    176\n",
    "                      \n",
    "                      42    184\n",
    "\n",
    "You can think of Series as a one-dimensional array, while a DataFrame is Multi-dimensional array.\n",
    "\n",
    "Exercise\n",
    "\n",
    "DataFrame is made of :\n",
    "\n",
    "Variables\n",
    "\n",
    "Series\n",
    "\n",
    "Colors"
   ]
  },
  {
   "cell_type": "markdown",
   "id": "3e846e2b",
   "metadata": {},
   "source": [
    "## 14.1 LESSON\n",
    "\n",
    "###  Creating DataFrames\n",
    "\n",
    "Before working with real data, let's first create a DataFrame manually to explore its functions.\n",
    "\n",
    "The easiest way to create a DataFrame is using a dictionary:"
   ]
  },
  {
   "cell_type": "code",
   "execution_count": 2,
   "id": "993ff544",
   "metadata": {},
   "outputs": [],
   "source": [
    "data = {\n",
    "    'ages':[14,18,24,42],\n",
    "    'heights':[165,180,176,184]\n",
    "}"
   ]
  },
  {
   "cell_type": "markdown",
   "id": "b1674c8a",
   "metadata": {},
   "source": [
    "Each key is a column, while the value is an array representing the data for that column.\n",
    "\n",
    "Now, we can pass this dictionary to the DataFrame constructor:"
   ]
  },
  {
   "cell_type": "code",
   "execution_count": 6,
   "id": "45196275",
   "metadata": {},
   "outputs": [],
   "source": [
    "df=pd.DataFrame(data)"
   ]
  },
  {
   "cell_type": "code",
   "execution_count": 7,
   "id": "2f1bc01c",
   "metadata": {},
   "outputs": [
    {
     "data": {
      "text/html": [
       "<div>\n",
       "<style scoped>\n",
       "    .dataframe tbody tr th:only-of-type {\n",
       "        vertical-align: middle;\n",
       "    }\n",
       "\n",
       "    .dataframe tbody tr th {\n",
       "        vertical-align: top;\n",
       "    }\n",
       "\n",
       "    .dataframe thead th {\n",
       "        text-align: right;\n",
       "    }\n",
       "</style>\n",
       "<table border=\"1\" class=\"dataframe\">\n",
       "  <thead>\n",
       "    <tr style=\"text-align: right;\">\n",
       "      <th></th>\n",
       "      <th>ages</th>\n",
       "      <th>heights</th>\n",
       "    </tr>\n",
       "  </thead>\n",
       "  <tbody>\n",
       "    <tr>\n",
       "      <th>0</th>\n",
       "      <td>14</td>\n",
       "      <td>165</td>\n",
       "    </tr>\n",
       "    <tr>\n",
       "      <th>1</th>\n",
       "      <td>18</td>\n",
       "      <td>180</td>\n",
       "    </tr>\n",
       "    <tr>\n",
       "      <th>2</th>\n",
       "      <td>24</td>\n",
       "      <td>176</td>\n",
       "    </tr>\n",
       "    <tr>\n",
       "      <th>3</th>\n",
       "      <td>42</td>\n",
       "      <td>184</td>\n",
       "    </tr>\n",
       "  </tbody>\n",
       "</table>\n",
       "</div>"
      ],
      "text/plain": [
       "   ages  heights\n",
       "0    14      165\n",
       "1    18      180\n",
       "2    24      176\n",
       "3    42      184"
      ]
     },
     "execution_count": 7,
     "metadata": {},
     "output_type": "execute_result"
    }
   ],
   "source": [
    "df"
   ]
  },
  {
   "cell_type": "markdown",
   "id": "051f6515",
   "metadata": {},
   "source": [
    "The DataFrame automatically creates a numeric index for each row. We can specify a custom index,when creating the DataFrame:"
   ]
  },
  {
   "cell_type": "code",
   "execution_count": 41,
   "id": "fe8c4df5",
   "metadata": {},
   "outputs": [],
   "source": [
    "df=pd.DataFrame(data,\n",
    "               index=['James','Bob','Amy','Dave'])"
   ]
  },
  {
   "cell_type": "code",
   "execution_count": 42,
   "id": "fe7d3263",
   "metadata": {},
   "outputs": [
    {
     "data": {
      "text/html": [
       "<div>\n",
       "<style scoped>\n",
       "    .dataframe tbody tr th:only-of-type {\n",
       "        vertical-align: middle;\n",
       "    }\n",
       "\n",
       "    .dataframe tbody tr th {\n",
       "        vertical-align: top;\n",
       "    }\n",
       "\n",
       "    .dataframe thead th {\n",
       "        text-align: right;\n",
       "    }\n",
       "</style>\n",
       "<table border=\"1\" class=\"dataframe\">\n",
       "  <thead>\n",
       "    <tr style=\"text-align: right;\">\n",
       "      <th></th>\n",
       "      <th>ages</th>\n",
       "      <th>heights</th>\n",
       "    </tr>\n",
       "  </thead>\n",
       "  <tbody>\n",
       "    <tr>\n",
       "      <th>James</th>\n",
       "      <td>14</td>\n",
       "      <td>165</td>\n",
       "    </tr>\n",
       "    <tr>\n",
       "      <th>Bob</th>\n",
       "      <td>18</td>\n",
       "      <td>180</td>\n",
       "    </tr>\n",
       "    <tr>\n",
       "      <th>Amy</th>\n",
       "      <td>24</td>\n",
       "      <td>176</td>\n",
       "    </tr>\n",
       "    <tr>\n",
       "      <th>Dave</th>\n",
       "      <td>42</td>\n",
       "      <td>184</td>\n",
       "    </tr>\n",
       "  </tbody>\n",
       "</table>\n",
       "</div>"
      ],
      "text/plain": [
       "       ages  heights\n",
       "James    14      165\n",
       "Bob      18      180\n",
       "Amy      24      176\n",
       "Dave     42      184"
      ]
     },
     "execution_count": 42,
     "metadata": {},
     "output_type": "execute_result"
    }
   ],
   "source": [
    "df"
   ]
  },
  {
   "cell_type": "markdown",
   "id": "eb48640c",
   "metadata": {},
   "source": [
    "Now we can access a row using its index and loc[] functiom:"
   ]
  },
  {
   "cell_type": "code",
   "execution_count": 44,
   "id": "e1a1db32",
   "metadata": {},
   "outputs": [
    {
     "name": "stdout",
     "output_type": "stream",
     "text": [
      "ages        18\n",
      "heights    180\n",
      "Name: Bob, dtype: int64\n"
     ]
    }
   ],
   "source": [
    "print(df.loc[\"Bob\"]) # This will output the row that corresponds to the index \"Bob\""
   ]
  },
  {
   "cell_type": "markdown",
   "id": "13ba2238",
   "metadata": {},
   "source": [
    "Note that loc uses square brackets to specify the index"
   ]
  },
  {
   "cell_type": "markdown",
   "id": "a7b2c684",
   "metadata": {},
   "source": [
    "## Problem : Locating Contacts\n",
    "\n",
    "You are given a dictionary that contains names and numbers of people. You need to create a DataFrame from the dictionary and add an index to it, which should be the names values. Then take a name from user input and output the row in the DataFrame, which corresponds to that row.\n",
    "\n",
    "Use .loc to find the specified row."
   ]
  },
  {
   "cell_type": "code",
   "execution_count": 45,
   "id": "e19392c5",
   "metadata": {},
   "outputs": [],
   "source": [
    "import pandas as pd\n",
    "\n",
    "data={\n",
    "    'name':['James','Billy','Bob','Amy','Tom'],\n",
    "    'number':['1234','5678','2222','1111','0909']\n",
    "}\n",
    "df=pd.DataFrame(data)"
   ]
  },
  {
   "cell_type": "code",
   "execution_count": 46,
   "id": "8bdef709",
   "metadata": {},
   "outputs": [
    {
     "data": {
      "text/html": [
       "<div>\n",
       "<style scoped>\n",
       "    .dataframe tbody tr th:only-of-type {\n",
       "        vertical-align: middle;\n",
       "    }\n",
       "\n",
       "    .dataframe tbody tr th {\n",
       "        vertical-align: top;\n",
       "    }\n",
       "\n",
       "    .dataframe thead th {\n",
       "        text-align: right;\n",
       "    }\n",
       "</style>\n",
       "<table border=\"1\" class=\"dataframe\">\n",
       "  <thead>\n",
       "    <tr style=\"text-align: right;\">\n",
       "      <th></th>\n",
       "      <th>name</th>\n",
       "      <th>number</th>\n",
       "    </tr>\n",
       "  </thead>\n",
       "  <tbody>\n",
       "    <tr>\n",
       "      <th>0</th>\n",
       "      <td>James</td>\n",
       "      <td>1234</td>\n",
       "    </tr>\n",
       "    <tr>\n",
       "      <th>1</th>\n",
       "      <td>Billy</td>\n",
       "      <td>5678</td>\n",
       "    </tr>\n",
       "    <tr>\n",
       "      <th>2</th>\n",
       "      <td>Bob</td>\n",
       "      <td>2222</td>\n",
       "    </tr>\n",
       "    <tr>\n",
       "      <th>3</th>\n",
       "      <td>Amy</td>\n",
       "      <td>1111</td>\n",
       "    </tr>\n",
       "    <tr>\n",
       "      <th>4</th>\n",
       "      <td>Tom</td>\n",
       "      <td>0909</td>\n",
       "    </tr>\n",
       "  </tbody>\n",
       "</table>\n",
       "</div>"
      ],
      "text/plain": [
       "    name number\n",
       "0  James   1234\n",
       "1  Billy   5678\n",
       "2    Bob   2222\n",
       "3    Amy   1111\n",
       "4    Tom   0909"
      ]
     },
     "execution_count": 46,
     "metadata": {},
     "output_type": "execute_result"
    }
   ],
   "source": [
    "df"
   ]
  },
  {
   "cell_type": "code",
   "execution_count": 47,
   "id": "f8830e5c",
   "metadata": {},
   "outputs": [
    {
     "data": {
      "text/html": [
       "<div>\n",
       "<style scoped>\n",
       "    .dataframe tbody tr th:only-of-type {\n",
       "        vertical-align: middle;\n",
       "    }\n",
       "\n",
       "    .dataframe tbody tr th {\n",
       "        vertical-align: top;\n",
       "    }\n",
       "\n",
       "    .dataframe thead th {\n",
       "        text-align: right;\n",
       "    }\n",
       "</style>\n",
       "<table border=\"1\" class=\"dataframe\">\n",
       "  <thead>\n",
       "    <tr style=\"text-align: right;\">\n",
       "      <th></th>\n",
       "      <th>name</th>\n",
       "      <th>number</th>\n",
       "    </tr>\n",
       "  </thead>\n",
       "  <tbody>\n",
       "    <tr>\n",
       "      <th>James</th>\n",
       "      <td>James</td>\n",
       "      <td>1234</td>\n",
       "    </tr>\n",
       "    <tr>\n",
       "      <th>Billy</th>\n",
       "      <td>Billy</td>\n",
       "      <td>5678</td>\n",
       "    </tr>\n",
       "    <tr>\n",
       "      <th>Bob</th>\n",
       "      <td>Bob</td>\n",
       "      <td>2222</td>\n",
       "    </tr>\n",
       "    <tr>\n",
       "      <th>Amy</th>\n",
       "      <td>Amy</td>\n",
       "      <td>1111</td>\n",
       "    </tr>\n",
       "    <tr>\n",
       "      <th>Tom</th>\n",
       "      <td>Tom</td>\n",
       "      <td>0909</td>\n",
       "    </tr>\n",
       "  </tbody>\n",
       "</table>\n",
       "</div>"
      ],
      "text/plain": [
       "        name number\n",
       "James  James   1234\n",
       "Billy  Billy   5678\n",
       "Bob      Bob   2222\n",
       "Amy      Amy   1111\n",
       "Tom      Tom   0909"
      ]
     },
     "execution_count": 47,
     "metadata": {},
     "output_type": "execute_result"
    }
   ],
   "source": [
    "df=pd.DataFrame(data,\n",
    "               index=['James','Billy','Bob','Amy','Tom'])\n",
    "df"
   ]
  },
  {
   "cell_type": "code",
   "execution_count": 48,
   "id": "09fc88ac",
   "metadata": {},
   "outputs": [
    {
     "name": "stdout",
     "output_type": "stream",
     "text": [
      "Enter the Name of that personBilly\n",
      "name      Billy\n",
      "number     5678\n",
      "Name: Billy, dtype: object\n"
     ]
    }
   ],
   "source": [
    "print(df.loc[input(\"Enter the Name of that person\")])"
   ]
  },
  {
   "cell_type": "markdown",
   "id": "760f44ef",
   "metadata": {},
   "source": [
    "## 15.1 Indexing & Slicing\n",
    "\n",
    "### Indexing\n",
    "\n",
    "We can select a single column by specifying its name in square brackets:"
   ]
  },
  {
   "cell_type": "code",
   "execution_count": 8,
   "id": "859fcf7b",
   "metadata": {},
   "outputs": [
    {
     "name": "stdout",
     "output_type": "stream",
     "text": [
      "0    14\n",
      "1    18\n",
      "2    24\n",
      "3    42\n",
      "Name: ages, dtype: int64\n"
     ]
    }
   ],
   "source": [
    "print(df[\"ages\"])"
   ]
  },
  {
   "cell_type": "markdown",
   "id": "a3915e39",
   "metadata": {},
   "source": [
    "The result is a Series object.\n",
    "\n",
    "If we want to select multiple columns, we can specify a list of column names:"
   ]
  },
  {
   "cell_type": "code",
   "execution_count": 10,
   "id": "bab56186",
   "metadata": {},
   "outputs": [
    {
     "name": "stdout",
     "output_type": "stream",
     "text": [
      "   ages  heights\n",
      "0    14      165\n",
      "1    18      180\n",
      "2    24      176\n",
      "3    42      184\n"
     ]
    }
   ],
   "source": [
    "print(df[[\"ages\",\"heights\"]])"
   ]
  },
  {
   "cell_type": "markdown",
   "id": "644b461d",
   "metadata": {},
   "source": [
    "This is usfull, when we need to select only a part of the columns from the dataset."
   ]
  },
  {
   "cell_type": "markdown",
   "id": "22cd7c34",
   "metadata": {},
   "source": [
    "## Slicing\n",
    "\n",
    "Pandas uses the iloc function to select data based on its numeric index. It workd the same way indexing lists does in Python."
   ]
  },
  {
   "cell_type": "code",
   "execution_count": 11,
   "id": "16941a01",
   "metadata": {},
   "outputs": [
    {
     "name": "stdout",
     "output_type": "stream",
     "text": [
      "ages        24\n",
      "heights    176\n",
      "Name: 2, dtype: int64\n"
     ]
    }
   ],
   "source": [
    "print(df.iloc[2]) # third row"
   ]
  },
  {
   "cell_type": "code",
   "execution_count": 12,
   "id": "64d6b52e",
   "metadata": {},
   "outputs": [
    {
     "name": "stdout",
     "output_type": "stream",
     "text": [
      "   ages  heights\n",
      "0    14      165\n",
      "1    18      180\n",
      "2    24      176\n"
     ]
    }
   ],
   "source": [
    "print(df.iloc[:3]) # first three row"
   ]
  },
  {
   "cell_type": "code",
   "execution_count": 13,
   "id": "a4b8d98e",
   "metadata": {},
   "outputs": [
    {
     "name": "stdout",
     "output_type": "stream",
     "text": [
      "   ages  heights\n",
      "1    18      180\n",
      "2    24      176\n"
     ]
    }
   ],
   "source": [
    "print(df.iloc[1:3])# row 2 to 3"
   ]
  },
  {
   "cell_type": "markdown",
   "id": "b3432156",
   "metadata": {},
   "source": [
    "iloc follows the same rules as slicing does with Python lists."
   ]
  },
  {
   "cell_type": "markdown",
   "id": "e29872a9",
   "metadata": {},
   "source": [
    "## Conditions\n",
    "\n",
    "We can also data based on a condition. Let's select all rowa wherr age is greater than 18 and height is greater than 180:"
   ]
  },
  {
   "cell_type": "code",
   "execution_count": 16,
   "id": "209ce9f9",
   "metadata": {},
   "outputs": [
    {
     "data": {
      "text/html": [
       "<div>\n",
       "<style scoped>\n",
       "    .dataframe tbody tr th:only-of-type {\n",
       "        vertical-align: middle;\n",
       "    }\n",
       "\n",
       "    .dataframe tbody tr th {\n",
       "        vertical-align: top;\n",
       "    }\n",
       "\n",
       "    .dataframe thead th {\n",
       "        text-align: right;\n",
       "    }\n",
       "</style>\n",
       "<table border=\"1\" class=\"dataframe\">\n",
       "  <thead>\n",
       "    <tr style=\"text-align: right;\">\n",
       "      <th></th>\n",
       "      <th>ages</th>\n",
       "      <th>heights</th>\n",
       "    </tr>\n",
       "  </thead>\n",
       "  <tbody>\n",
       "    <tr>\n",
       "      <th>3</th>\n",
       "      <td>42</td>\n",
       "      <td>184</td>\n",
       "    </tr>\n",
       "  </tbody>\n",
       "</table>\n",
       "</div>"
      ],
      "text/plain": [
       "   ages  heights\n",
       "3    42      184"
      ]
     },
     "execution_count": 16,
     "metadata": {},
     "output_type": "execute_result"
    }
   ],
   "source": [
    "df[(df['ages']>18)&(df['heights']>180)]"
   ]
  },
  {
   "cell_type": "markdown",
   "id": "bd6bad05",
   "metadata": {},
   "source": [
    "Similarly, the or | operator can be used to combine conditions."
   ]
  },
  {
   "cell_type": "markdown",
   "id": "d9509f61",
   "metadata": {},
   "source": [
    "## Problem : Ranking Board\n",
    "\n",
    "You are given a DataFrame that includes the name and ranks of people. You need to take a rank as input and output the corresponding name column from the DataFrame as Series.\n",
    "\n",
    "Note that the rank is and integer, so you need to convert the user input to an integer."
   ]
  },
  {
   "cell_type": "code",
   "execution_count": 21,
   "id": "fec6b523",
   "metadata": {},
   "outputs": [
    {
     "name": "stdout",
     "output_type": "stream",
     "text": [
      "1\n",
      "Billy    Billy\n",
      "Name: name, dtype: object\n"
     ]
    }
   ],
   "source": [
    "import pandas as pd\n",
    "data={\n",
    "    'name':['James','Billy','Bob','Amy','Tom','Harry'],\n",
    "    'rank':[4,1,3,5,2,6]\n",
    "}\n",
    "df=pd.DataFrame(data,\n",
    "               index =data['name'])\n",
    "ur=int(input())\n",
    "print(df[\"name\"][df[\"rank\"]==ur])"
   ]
  },
  {
   "cell_type": "markdown",
   "id": "6219e714",
   "metadata": {},
   "source": [
    "##  16.1 LESSON\n",
    "\n",
    "### Reading Data\n",
    "\n",
    "It is quite common for data to come in a file format. One of the most popular format is the CSV(comma-separated-values). Pandas supports reading data from a CSV file directly into a DataFrame.\n",
    "\n",
    "For our examples, we will use a CSV file that contains the COVID-19 infection data in California for the year 2020, called 'ca-covid.csv'\n",
    "\n",
    "The read_csv() function reads the data of a CSV file into a DataFrame:"
   ]
  },
  {
   "cell_type": "code",
   "execution_count": null,
   "id": "122d2362",
   "metadata": {},
   "outputs": [],
   "source": [
    "df=pd.read_csv(\"ca-covid.csv\")"
   ]
  },
  {
   "cell_type": "markdown",
   "id": "7b6cb34f",
   "metadata": {},
   "source": [
    "We need to provide the file path to the read_csv() function.\n",
    "\n",
    "Pandas also supports reading from JSON files, as well as SQL databases.\n",
    "\n",
    "Once we have the Data in a DataFrame, we can start exploring it. We can get the first rows of the data using the head() function of the DataFrame:"
   ]
  },
  {
   "cell_type": "code",
   "execution_count": null,
   "id": "fed28712",
   "metadata": {},
   "outputs": [],
   "source": [
    "print(df.head())"
   ]
  },
  {
   "cell_type": "markdown",
   "id": "f6da9622",
   "metadata": {},
   "source": [
    "By default it returns the first 5 rows. You can instruct it to return the number of rows you would like as an argument(fro example, df.head(10) will return the first 10 rows).\n",
    "\n",
    "We can see that our DataFrame contains the date, state, number of cases and deaths for that date.\n",
    "\n",
    "Similarly, you can get the last rows using the tail() function."
   ]
  },
  {
   "cell_type": "markdown",
   "id": "3352c709",
   "metadata": {},
   "source": [
    "The info() function is used to get essential information about your dataset, such as number of rows, columns, data types, etc:"
   ]
  },
  {
   "cell_type": "code",
   "execution_count": null,
   "id": "8428caa2",
   "metadata": {},
   "outputs": [],
   "source": [
    "df.info()"
   ]
  },
  {
   "cell_type": "markdown",
   "id": "f5dff5e8",
   "metadata": {},
   "source": [
    "From the result, we can see that our dataset contains 342 rows and 4 columnd: date,state,cases,deaths.\n",
    "\n",
    "We can see that Pandas has added an auto generated index. We can set our own index column by using the set_index() function."
   ]
  },
  {
   "cell_type": "code",
   "execution_count": null,
   "id": "a61e0f6c",
   "metadata": {},
   "outputs": [],
   "source": [
    "df.set_index(\"date\",inplace=True)"
   ]
  },
  {
   "cell_type": "markdown",
   "id": "f2817d68",
   "metadata": {},
   "source": [
    "The date column is a good choice for our index, as there is one row for each date.\n",
    "\n",
    "The inplace=True argument specifies that the change will be applied to our DataFrame, without the need to assign it to a new DataFrame variable."
   ]
  },
  {
   "cell_type": "markdown",
   "id": "2f86a530",
   "metadata": {},
   "source": [
    "## Dropping a Column\n",
    "\n",
    "Since our data is only for the state of California, we can remove that column from our DataFrame, as it contains the same value for all rows:"
   ]
  },
  {
   "cell_type": "code",
   "execution_count": null,
   "id": "d39068f7",
   "metadata": {},
   "outputs": [],
   "source": [
    "df.drop('state', axis=1, inplace=True)"
   ]
  },
  {
   "cell_type": "markdown",
   "id": "1ba7e775",
   "metadata": {},
   "source": [
    "drop()deletes rows and columns.\n",
    "\n",
    "axis=1 specifies that we want to drop a column.\n",
    "\n",
    "axis=0 will drop a row.\n",
    "\n",
    "Now our dataset is much cleaner: we have a date index, and cases/ deaths columns."
   ]
  },
  {
   "cell_type": "markdown",
   "id": "782b8fdc",
   "metadata": {},
   "source": [
    "## Problem : December 31\n",
    "\n",
    "You are working with the 'ca-covid' CSV file that contains the COVID-19 infection data in California for year 2020. The file provides data on daily cases and deaths for the entire year. Find and ouput the row that corresponds to December 31, 2020.\n",
    "\n",
    "The requested date is the last row in the dataset, so you can use indexing te select it."
   ]
  },
  {
   "cell_type": "markdown",
   "id": "947ee1c5",
   "metadata": {},
   "source": [
    "## 17.1 LESSON\n",
    "\n",
    "### Working with data\n",
    "\n",
    "#### Creating Columns\n",
    "\n",
    "Pandas allows us to create our own columns. For example, we can add a momth column based on the date column:"
   ]
  },
  {
   "cell_type": "code",
   "execution_count": 22,
   "id": "ab203e88",
   "metadata": {
    "collapsed": true
   },
   "outputs": [
    {
     "ename": "KeyError",
     "evalue": "'date'",
     "output_type": "error",
     "traceback": [
      "\u001b[1;31m---------------------------------------------------------------------------\u001b[0m",
      "\u001b[1;31mKeyError\u001b[0m                                  Traceback (most recent call last)",
      "\u001b[1;32mC:\\ProgramData\\Anaconda3\\lib\\site-packages\\pandas\\core\\indexes\\base.py\u001b[0m in \u001b[0;36mget_loc\u001b[1;34m(self, key, method, tolerance)\u001b[0m\n\u001b[0;32m   3079\u001b[0m             \u001b[1;32mtry\u001b[0m\u001b[1;33m:\u001b[0m\u001b[1;33m\u001b[0m\u001b[1;33m\u001b[0m\u001b[0m\n\u001b[1;32m-> 3080\u001b[1;33m                 \u001b[1;32mreturn\u001b[0m \u001b[0mself\u001b[0m\u001b[1;33m.\u001b[0m\u001b[0m_engine\u001b[0m\u001b[1;33m.\u001b[0m\u001b[0mget_loc\u001b[0m\u001b[1;33m(\u001b[0m\u001b[0mcasted_key\u001b[0m\u001b[1;33m)\u001b[0m\u001b[1;33m\u001b[0m\u001b[1;33m\u001b[0m\u001b[0m\n\u001b[0m\u001b[0;32m   3081\u001b[0m             \u001b[1;32mexcept\u001b[0m \u001b[0mKeyError\u001b[0m \u001b[1;32mas\u001b[0m \u001b[0merr\u001b[0m\u001b[1;33m:\u001b[0m\u001b[1;33m\u001b[0m\u001b[1;33m\u001b[0m\u001b[0m\n",
      "\u001b[1;32mpandas\\_libs\\index.pyx\u001b[0m in \u001b[0;36mpandas._libs.index.IndexEngine.get_loc\u001b[1;34m()\u001b[0m\n",
      "\u001b[1;32mpandas\\_libs\\index.pyx\u001b[0m in \u001b[0;36mpandas._libs.index.IndexEngine.get_loc\u001b[1;34m()\u001b[0m\n",
      "\u001b[1;32mpandas\\_libs\\hashtable_class_helper.pxi\u001b[0m in \u001b[0;36mpandas._libs.hashtable.PyObjectHashTable.get_item\u001b[1;34m()\u001b[0m\n",
      "\u001b[1;32mpandas\\_libs\\hashtable_class_helper.pxi\u001b[0m in \u001b[0;36mpandas._libs.hashtable.PyObjectHashTable.get_item\u001b[1;34m()\u001b[0m\n",
      "\u001b[1;31mKeyError\u001b[0m: 'date'",
      "\nThe above exception was the direct cause of the following exception:\n",
      "\u001b[1;31mKeyError\u001b[0m                                  Traceback (most recent call last)",
      "\u001b[1;32m<ipython-input-22-3a9ccd8e41ed>\u001b[0m in \u001b[0;36m<module>\u001b[1;34m\u001b[0m\n\u001b[1;32m----> 1\u001b[1;33m \u001b[0mdf\u001b[0m\u001b[1;33m[\u001b[0m\u001b[1;34m'month'\u001b[0m\u001b[1;33m]\u001b[0m\u001b[1;33m=\u001b[0m\u001b[0mpd\u001b[0m\u001b[1;33m.\u001b[0m\u001b[0mto_datetime\u001b[0m\u001b[1;33m(\u001b[0m\u001b[0mdf\u001b[0m\u001b[1;33m[\u001b[0m\u001b[1;34m'date'\u001b[0m\u001b[1;33m]\u001b[0m\u001b[1;33m,\u001b[0m\u001b[0mformat\u001b[0m\u001b[1;33m=\u001b[0m\u001b[1;34m\"%d.%m.%y\"\u001b[0m\u001b[1;33m)\u001b[0m\u001b[1;33m.\u001b[0m\u001b[0mdt\u001b[0m\u001b[1;33m.\u001b[0m\u001b[0mmonth_name\u001b[0m\u001b[1;33m(\u001b[0m\u001b[1;33m)\u001b[0m\u001b[1;33m\u001b[0m\u001b[1;33m\u001b[0m\u001b[0m\n\u001b[0m",
      "\u001b[1;32mC:\\ProgramData\\Anaconda3\\lib\\site-packages\\pandas\\core\\frame.py\u001b[0m in \u001b[0;36m__getitem__\u001b[1;34m(self, key)\u001b[0m\n\u001b[0;32m   3022\u001b[0m             \u001b[1;32mif\u001b[0m \u001b[0mself\u001b[0m\u001b[1;33m.\u001b[0m\u001b[0mcolumns\u001b[0m\u001b[1;33m.\u001b[0m\u001b[0mnlevels\u001b[0m \u001b[1;33m>\u001b[0m \u001b[1;36m1\u001b[0m\u001b[1;33m:\u001b[0m\u001b[1;33m\u001b[0m\u001b[1;33m\u001b[0m\u001b[0m\n\u001b[0;32m   3023\u001b[0m                 \u001b[1;32mreturn\u001b[0m \u001b[0mself\u001b[0m\u001b[1;33m.\u001b[0m\u001b[0m_getitem_multilevel\u001b[0m\u001b[1;33m(\u001b[0m\u001b[0mkey\u001b[0m\u001b[1;33m)\u001b[0m\u001b[1;33m\u001b[0m\u001b[1;33m\u001b[0m\u001b[0m\n\u001b[1;32m-> 3024\u001b[1;33m             \u001b[0mindexer\u001b[0m \u001b[1;33m=\u001b[0m \u001b[0mself\u001b[0m\u001b[1;33m.\u001b[0m\u001b[0mcolumns\u001b[0m\u001b[1;33m.\u001b[0m\u001b[0mget_loc\u001b[0m\u001b[1;33m(\u001b[0m\u001b[0mkey\u001b[0m\u001b[1;33m)\u001b[0m\u001b[1;33m\u001b[0m\u001b[1;33m\u001b[0m\u001b[0m\n\u001b[0m\u001b[0;32m   3025\u001b[0m             \u001b[1;32mif\u001b[0m \u001b[0mis_integer\u001b[0m\u001b[1;33m(\u001b[0m\u001b[0mindexer\u001b[0m\u001b[1;33m)\u001b[0m\u001b[1;33m:\u001b[0m\u001b[1;33m\u001b[0m\u001b[1;33m\u001b[0m\u001b[0m\n\u001b[0;32m   3026\u001b[0m                 \u001b[0mindexer\u001b[0m \u001b[1;33m=\u001b[0m \u001b[1;33m[\u001b[0m\u001b[0mindexer\u001b[0m\u001b[1;33m]\u001b[0m\u001b[1;33m\u001b[0m\u001b[1;33m\u001b[0m\u001b[0m\n",
      "\u001b[1;32mC:\\ProgramData\\Anaconda3\\lib\\site-packages\\pandas\\core\\indexes\\base.py\u001b[0m in \u001b[0;36mget_loc\u001b[1;34m(self, key, method, tolerance)\u001b[0m\n\u001b[0;32m   3080\u001b[0m                 \u001b[1;32mreturn\u001b[0m \u001b[0mself\u001b[0m\u001b[1;33m.\u001b[0m\u001b[0m_engine\u001b[0m\u001b[1;33m.\u001b[0m\u001b[0mget_loc\u001b[0m\u001b[1;33m(\u001b[0m\u001b[0mcasted_key\u001b[0m\u001b[1;33m)\u001b[0m\u001b[1;33m\u001b[0m\u001b[1;33m\u001b[0m\u001b[0m\n\u001b[0;32m   3081\u001b[0m             \u001b[1;32mexcept\u001b[0m \u001b[0mKeyError\u001b[0m \u001b[1;32mas\u001b[0m \u001b[0merr\u001b[0m\u001b[1;33m:\u001b[0m\u001b[1;33m\u001b[0m\u001b[1;33m\u001b[0m\u001b[0m\n\u001b[1;32m-> 3082\u001b[1;33m                 \u001b[1;32mraise\u001b[0m \u001b[0mKeyError\u001b[0m\u001b[1;33m(\u001b[0m\u001b[0mkey\u001b[0m\u001b[1;33m)\u001b[0m \u001b[1;32mfrom\u001b[0m \u001b[0merr\u001b[0m\u001b[1;33m\u001b[0m\u001b[1;33m\u001b[0m\u001b[0m\n\u001b[0m\u001b[0;32m   3083\u001b[0m \u001b[1;33m\u001b[0m\u001b[0m\n\u001b[0;32m   3084\u001b[0m         \u001b[1;32mif\u001b[0m \u001b[0mtolerance\u001b[0m \u001b[1;32mis\u001b[0m \u001b[1;32mnot\u001b[0m \u001b[1;32mNone\u001b[0m\u001b[1;33m:\u001b[0m\u001b[1;33m\u001b[0m\u001b[1;33m\u001b[0m\u001b[0m\n",
      "\u001b[1;31mKeyError\u001b[0m: 'date'"
     ]
    }
   ],
   "source": [
    "df['month']=pd.to_datetime(df['date'],format=\"%d.%m.%y\").dt.month_name()"
   ]
  },
  {
   "cell_type": "markdown",
   "id": "3543e6a4",
   "metadata": {},
   "source": [
    "We do this by converting the date column to datetime and extrcting the month name from it, assigning the value to our new month column"
   ]
  },
  {
   "cell_type": "markdown",
   "id": "4e0fb22b",
   "metadata": {},
   "source": [
    "## Summary Statistics\n",
    "\n",
    "Now that our dataset is clean and set up, we are ready to look into some stats! The describe() function returns the summary statistics for all the numeric columns:"
   ]
  },
  {
   "cell_type": "code",
   "execution_count": 24,
   "id": "6018b49d",
   "metadata": {},
   "outputs": [
    {
     "data": {
      "text/html": [
       "<div>\n",
       "<style scoped>\n",
       "    .dataframe tbody tr th:only-of-type {\n",
       "        vertical-align: middle;\n",
       "    }\n",
       "\n",
       "    .dataframe tbody tr th {\n",
       "        vertical-align: top;\n",
       "    }\n",
       "\n",
       "    .dataframe thead th {\n",
       "        text-align: right;\n",
       "    }\n",
       "</style>\n",
       "<table border=\"1\" class=\"dataframe\">\n",
       "  <thead>\n",
       "    <tr style=\"text-align: right;\">\n",
       "      <th></th>\n",
       "      <th>rank</th>\n",
       "    </tr>\n",
       "  </thead>\n",
       "  <tbody>\n",
       "    <tr>\n",
       "      <th>count</th>\n",
       "      <td>6.000000</td>\n",
       "    </tr>\n",
       "    <tr>\n",
       "      <th>mean</th>\n",
       "      <td>3.500000</td>\n",
       "    </tr>\n",
       "    <tr>\n",
       "      <th>std</th>\n",
       "      <td>1.870829</td>\n",
       "    </tr>\n",
       "    <tr>\n",
       "      <th>min</th>\n",
       "      <td>1.000000</td>\n",
       "    </tr>\n",
       "    <tr>\n",
       "      <th>25%</th>\n",
       "      <td>2.250000</td>\n",
       "    </tr>\n",
       "    <tr>\n",
       "      <th>50%</th>\n",
       "      <td>3.500000</td>\n",
       "    </tr>\n",
       "    <tr>\n",
       "      <th>75%</th>\n",
       "      <td>4.750000</td>\n",
       "    </tr>\n",
       "    <tr>\n",
       "      <th>max</th>\n",
       "      <td>6.000000</td>\n",
       "    </tr>\n",
       "  </tbody>\n",
       "</table>\n",
       "</div>"
      ],
      "text/plain": [
       "           rank\n",
       "count  6.000000\n",
       "mean   3.500000\n",
       "std    1.870829\n",
       "min    1.000000\n",
       "25%    2.250000\n",
       "50%    3.500000\n",
       "75%    4.750000\n",
       "max    6.000000"
      ]
     },
     "execution_count": 24,
     "metadata": {},
     "output_type": "execute_result"
    }
   ],
   "source": [
    "df.describe()"
   ]
  },
  {
   "cell_type": "markdown",
   "id": "14a2b63c",
   "metadata": {},
   "source": [
    "This function will show main statistics for the numeric columns, such as std, mean, min, max values, etc.\n",
    "\n",
    "We can also get the summary atats for a sigle column, for example : df['cases'].describe()"
   ]
  },
  {
   "cell_type": "markdown",
   "id": "884055f6",
   "metadata": {},
   "source": [
    "## Problem : Weekdays\n",
    "\n",
    "You can continue working with the COVID dataset for california. Now, add the weekday names for each row as a new column, named 'weekday'. Then, output the last 7 days data of the dataset. Do not set any index on the dataframe.\n",
    "\n",
    "The given code converts the date column to datetime, so you do not need to change its format. Use the .dt.strftime(\"%A\") function on the date column to convert it into a weekday name."
   ]
  },
  {
   "cell_type": "code",
   "execution_count": null,
   "id": "21580ae5",
   "metadata": {},
   "outputs": [],
   "source": [
    "df['weekday']=df['date'].dt.strftime(\"%A\")\n",
    "print(df[-7:])"
   ]
  },
  {
   "cell_type": "code",
   "execution_count": 25,
   "id": "1f5903c6",
   "metadata": {},
   "outputs": [
    {
     "data": {
      "text/plain": [
       "36"
      ]
     },
     "execution_count": 25,
     "metadata": {},
     "output_type": "execute_result"
    }
   ],
   "source": [
    "9+7+16+4"
   ]
  },
  {
   "cell_type": "code",
   "execution_count": 26,
   "id": "df262952",
   "metadata": {},
   "outputs": [
    {
     "data": {
      "text/plain": [
       "9.0"
      ]
     },
     "execution_count": 26,
     "metadata": {},
     "output_type": "execute_result"
    }
   ],
   "source": [
    "36/4"
   ]
  },
  {
   "cell_type": "markdown",
   "id": "faac1499",
   "metadata": {},
   "source": [
    "## Grouping\n",
    "\n",
    "Since we have a month column, we can see how many values each month has, by using the value_counts() functions:"
   ]
  },
  {
   "cell_type": "code",
   "execution_count": null,
   "id": "ff228044",
   "metadata": {},
   "outputs": [],
   "source": [
    "df['maonth'].value_counts()"
   ]
  },
  {
   "cell_type": "markdown",
   "id": "2b30ded4",
   "metadata": {},
   "source": [
    "value_counts() returns how many times a value appers in the dataset, also called the frequency of the values.\n",
    "\n",
    "Now we can calculate data insights! For example, let's determine the number of total infections in each month. To do this, we need to group our data by the month column and then calculate the sum of the cases column for each month:"
   ]
  },
  {
   "cell_type": "code",
   "execution_count": null,
   "id": "b5be8d3e",
   "metadata": {},
   "outputs": [],
   "source": [
    "df.groupby('month')['cases'].sum()"
   ]
  },
  {
   "cell_type": "markdown",
   "id": "ff236bd3",
   "metadata": {},
   "source": [
    "The groupby() function is used to group our dataset by the given column.\n",
    "\n",
    "We can also calculate the number of total cases in entire year:"
   ]
  },
  {
   "cell_type": "code",
   "execution_count": null,
   "id": "3b6292ad",
   "metadata": {},
   "outputs": [],
   "source": [
    "df['cases'].sum()"
   ]
  },
  {
   "cell_type": "markdown",
   "id": "d4bb10da",
   "metadata": {},
   "source": [
    "Similarly, we can use min(),max(),mean(), etc. to fing the corresponding values for each group "
   ]
  },
  {
   "cell_type": "markdown",
   "id": "90dbcb31",
   "metadata": {},
   "source": [
    "## Problem : Worst Day\n",
    "\n",
    "Given the COVID data, find the day with maximum cases in a given month. Take a month name as input and ouput the row that corresponds to the day with tha maximum number of cases in that month.\n",
    "\n",
    "You can filter the DataFrame for the given month first, and then select the row with the maximum cases.\n",
    "\n",
    "Important : The output should be a DataFrame, which includes all the columns. For example, for the month of February, the expected result would be:\n",
    "\n",
    "cases deaths month\n",
    "\n",
    "date\n",
    "\n",
    "2020-02-26 15 0 February\n",
    "\n",
    "The given code adds a month column to the dataset, and adds an index. Do not change that part of the code"
   ]
  },
  {
   "cell_type": "code",
   "execution_count": null,
   "id": "0d774e21",
   "metadata": {},
   "outputs": [],
   "source": [
    "month_user=input()\n",
    "maxim=df[df[\"month\"]==input()]\n",
    "['cases'].max()\n",
    "print(df[df['cases']==maxim])"
   ]
  },
  {
   "cell_type": "markdown",
   "id": "fccf6ef9",
   "metadata": {},
   "source": [
    "## Problem: covid data analysis\n",
    "\n",
    "You are working with covid data for california, which includes the number of cases and deaths for rach day of 2020. Find  the day  when the death/cases ration was largest.\n",
    "\n",
    "To do this, we need to first calculate the death/cases ration  and add it  as the column to the DataFrame with the name  'ratio', then find the row that corresponds to the largest value.\n",
    "\n",
    "\n",
    "df['ratio']=df['deaths']/df['cases']\n",
    "\n",
    "print(df[df['ratio']==df['ratio'].max()])\n",
    "    "
   ]
  },
  {
   "cell_type": "markdown",
   "id": "95b13a55",
   "metadata": {},
   "source": [
    "## Visualization with Matplotlib\n",
    "\n",
    "## 21.1 LESSON\n",
    "\n",
    "### What is matplotlib\n",
    "\n",
    "Matplotlib is a library used to create graphs, charts, and figures. It also provides functions to customize your figures by changing the colors, labels, etc.\n",
    " \n",
    "To start using matplotlib, we first need to import it:"
   ]
  },
  {
   "cell_type": "code",
   "execution_count": 2,
   "id": "134ca9da",
   "metadata": {},
   "outputs": [
    {
     "name": "stderr",
     "output_type": "stream",
     "text": [
      "Matplotlib is building the font cache; this may take a moment.\n"
     ]
    }
   ],
   "source": [
    "import matplotlib.pyplot as plt"
   ]
  },
  {
   "cell_type": "markdown",
   "id": "cd8b7406",
   "metadata": {},
   "source": [
    "pyplot is the module we will be using to create our plots\n",
    "\n",
    "plt is a common name used for importing this module.\n",
    "\n",
    "Matplotlib works really well with Pandas! To demonstrate the power of matplotlib, let's create a chart from dummy data. We will create a pandas Series with some numbers and use it to create our chart:"
   ]
  },
  {
   "cell_type": "code",
   "execution_count": 3,
   "id": "ee97768d",
   "metadata": {},
   "outputs": [
    {
     "data": {
      "text/plain": [
       "<AxesSubplot:>"
      ]
     },
     "execution_count": 3,
     "metadata": {},
     "output_type": "execute_result"
    },
    {
     "data": {
      "image/png": "[encoded data removed]",
      "text/plain": [
       "<Figure size 432x288 with 1 Axes>"
      ]
     },
     "metadata": {
      "needs_background": "light"
     },
     "output_type": "display_data"
    }
   ],
   "source": [
    "import pandas as pd\n",
    "s=pd.Series([18, 42, 9, 32, 81, 64, 3])\n",
    "s.plot(kind='bar')\n",
    "#plt.savefig('plot.png')"
   ]
  },
  {
   "cell_type": "markdown",
   "id": "61bd9c9b",
   "metadata": {},
   "source": [
    "The .plot() function is used to create a plot from the data in a Pandas Series or DataFrame.\n",
    "\n",
    "The data from the series is using the Y axis, while the index is plotted on the X axis.\n",
    "\n",
    "As we have not provided a custom index for our data, the default numeric index is used.\n",
    "\n",
    "plt.savefig('plot.png') is used to save and display the chart in our Code playground. In most environments this step is not needed, as calling the plot() function automatically displays the chart."
   ]
  },
  {
   "cell_type": "markdown",
   "id": "3dcd6eb9",
   "metadata": {},
   "source": [
    "## 22.2 LESSON\n",
    "\n",
    "### Line Plot\n",
    "\n",
    "Matplotlib supports the creation of different chart types. Let's start with the most basic one-line chart.\n",
    "\n",
    "We will use the COVID-19 data from the previous module to create our charts. Let's show the number od cases in the month of December. \n",
    "\n",
    "To create a line chart we simply need to call the plot() function on our DataFrame, which contains the corresponding data:\n"
   ]
  },
  {
   "cell_type": "code",
   "execution_count": null,
   "id": "57ae84a4",
   "metadata": {},
   "outputs": [],
   "source": [
    "df[df['month']==12]['cases'].plot()"
   ]
  },
  {
   "cell_type": "markdown",
   "id": "c15258af",
   "metadata": {},
   "source": [
    "Exercise\n",
    "\n",
    "Create a line chart for Covid Data showing the daily number of deaths in the month of june.\n"
   ]
  },
  {
   "cell_type": "markdown",
   "id": "3e3c1a27",
   "metadata": {},
   "source": [
    "We can also include multiple lines in our chart. For example, let's also include the deaths column in our DataFrame:"
   ]
  },
  {
   "cell_type": "code",
   "execution_count": null,
   "id": "7dd996bd",
   "metadata": {},
   "outputs": [],
   "source": [
    "(df[df['month']==12])[['cases','deaths']].plot()"
   ]
  },
  {
   "cell_type": "markdown",
   "id": "874cc71a",
   "metadata": {},
   "source": [
    "As you can see from the result, matplotlib automatically added a leng to show the colors of the lines for the columns."
   ]
  },
  {
   "cell_type": "markdown",
   "id": "bc981b71",
   "metadata": {},
   "source": [
    "## 23.1 LESSON\n",
    "\n",
    "### Bar Plot\n",
    "\n",
    "The plot() function can take a king argument, specifying the type of the plot we want to produce.\n",
    "\n",
    "For bar plots, provide kind=\"bar\". Let's make a bar plot for the monthly infection cases:"
   ]
  },
  {
   "cell_type": "code",
   "execution_count": null,
   "id": "6eed744d",
   "metadata": {},
   "outputs": [],
   "source": [
    "(df.groupby('month')['cases'].sum()).plot(kind=\"bar\")"
   ]
  },
  {
   "cell_type": "markdown",
   "id": "87845b3a",
   "metadata": {},
   "source": [
    "We first group the data by the month column, then calculate the sum of the cases in that month.\n",
    "\n",
    "We can also plot multiple columns. The stacked property can be used to specify if the bars should be stacked on top of each other."
   ]
  },
  {
   "cell_type": "code",
   "execution_count": null,
   "id": "de11bc98",
   "metadata": {},
   "outputs": [],
   "source": [
    "df=df.groupby('month')[['cases','deaths']].sum()\n",
    "\n",
    "df.plot(king=\"bar\",stacked=True)"
   ]
  },
  {
   "cell_type": "markdown",
   "id": "24d50a79",
   "metadata": {},
   "source": [
    "We have stacked the cases and deaths for each month.\n",
    "\n",
    "kind=\"barh\" can be used to create a horizontal bar chart."
   ]
  },
  {
   "cell_type": "markdown",
   "id": "0f7b97bb",
   "metadata": {},
   "source": [
    "## 24.1 LESSON\n",
    "\n",
    "### Box Plot & Histogram\n",
    "\n",
    "A box plot is used to visualize the the distribution of value in a column, basically visualizing the result of describe() function.\n",
    "\n",
    "For example, let's create a box plot for the cases in June:"
   ]
  },
  {
   "cell_type": "code",
   "execution_count": null,
   "id": "398e96dd",
   "metadata": {},
   "outputs": [],
   "source": [
    "df[df[\"month\"]==6][\"cases\"].plot(kind=\"box\")"
   ]
  },
  {
   "cell_type": "markdown",
   "id": "8e9d2d35",
   "metadata": {},
   "source": [
    "The green line shows the median value. The box shows the upper and lower quartiles(25% of data is greater or less than these values). The circles show the outliers, while the black lines show the min/max values excluding the outliers.\n",
    "\n",
    "## Histogram\n",
    "\n",
    "Similar to box plots, histograms show the distribution of data. Visually histograms are similar to bar charts, however, histograms display frequencies for a group of data rather than an individual data point; therefore, no spaces are present between the bars.\n",
    "\n",
    "Typically, a histogram groups data into chunks(or bins)"
   ]
  },
  {
   "cell_type": "code",
   "execution_count": null,
   "id": "288a6b95",
   "metadata": {},
   "outputs": [],
   "source": [
    "df[df[\"month\"]==6][\"cases\"].plot(kind=\"hist\")"
   ]
  },
  {
   "cell_type": "markdown",
   "id": "5b8c5fd2",
   "metadata": {},
   "source": [
    "The histogram grouped the data into 9 bins and shows their frequency. You can see that, for example, only sigle data points are greater than 6000.\n",
    "\n",
    "You can manually specify the number of bins to use using the bins attribute:plot(kind=\"hist\",bins=10)"
   ]
  },
  {
   "cell_type": "markdown",
   "id": "cb07fd02",
   "metadata": {},
   "source": [
    "## 25.1 LESSON\n",
    "\n",
    "### Area Plot, Scatter Plot, Pie Chart\n",
    "\n",
    "kind='area' creates an Area plot:"
   ]
  },
  {
   "cell_type": "code",
   "execution_count": null,
   "id": "85e42109",
   "metadata": {},
   "outputs": [],
   "source": [
    "df[df[\"month\"]==6][[\"cases\",\"deaths\"]].plot(kind=\"area\",stacked=False)"
   ]
  },
  {
   "cell_type": "markdown",
   "id": "b14b3f7a",
   "metadata": {},
   "source": [
    "Area plots are stacked by default, which is why we provided stacked=False explicitly.\n",
    "\n",
    "## Scatter Plot\n",
    "\n",
    "A scatter plot is used to show the relationship between two variables. For example, we can visualize how the cases/deaths are related:\n"
   ]
  },
  {
   "cell_type": "code",
   "execution_count": null,
   "id": "d3fc9e5a",
   "metadata": {},
   "outputs": [],
   "source": [
    "df[df[\"month\"]==6][[\"cases\",\"deaths\"]].plot(kind=\"scatter\",x='cases', y='deaths')"
   ]
  },
  {
   "cell_type": "markdown",
   "id": "705bf091",
   "metadata": {},
   "source": [
    "We need to specify the x and y columns to be used for the plot.\n",
    "\n",
    "The data points look \"scattered\" around the graph, giving this type of data visualizing its name.\n",
    "\n",
    "## Pie Chart\n",
    "\n",
    "We can create a pie chart using kind=\"pie\". Let's create one for cases by month:"
   ]
  },
  {
   "cell_type": "code",
   "execution_count": null,
   "id": "1187b160",
   "metadata": {},
   "outputs": [],
   "source": [
    "df.groupby('month')['cases'].sum().plot(King=\"pie\")"
   ]
  },
  {
   "cell_type": "markdown",
   "id": "4c564b41",
   "metadata": {},
   "source": [
    "Pie charts are generally used to show percentage or proportional data.\n",
    "\n",
    "Pie charts are usually used when you have up to 6 categories.\n",
    "\n",
    "## 26.1 LESSON\n",
    "\n",
    "### Plot Formatting\n",
    "\n",
    "Matplolib provides a number of arguments to customize your plot. The legend argument specifies whethwe or not to shwo the legend. You can also change the labels of the axis by setting the xlabel and ylabel arguments:"
   ]
  },
  {
   "cell_type": "code",
   "execution_count": null,
   "id": "b39d579c",
   "metadata": {},
   "outputs": [],
   "source": [
    "df[['cases','deaths']].plot(kind=\"line\",legend=True)\n",
    "plt.xlabel('Days in June')\n",
    "plt.ylabel(\"Number\")"
   ]
  },
  {
   "cell_type": "markdown",
   "id": "caaebc57",
   "metadata": {},
   "source": [
    "By default, pandas select the index name as xlabel, while leaving it empty for ylabel.\n",
    "\n",
    "The suptitle() function can be used to sed a plot title :"
   ]
  },
  {
   "cell_type": "code",
   "execution_count": null,
   "id": "8150a47b",
   "metadata": {},
   "outputs": [],
   "source": [
    "plt.suptitle(\"COVID-19 in June\")"
   ]
  },
  {
   "cell_type": "markdown",
   "id": "46fd855f",
   "metadata": {},
   "source": [
    "We can also change the colors used in the plot by setting the color attribute. It accepts a list of colors hexes.\n",
    "\n",
    "For example, let's set the cases to blue, deaths to red colors:"
   ]
  },
  {
   "cell_type": "code",
   "execution_count": null,
   "id": "94385e92",
   "metadata": {},
   "outputs": [],
   "source": [
    "df[['cases','deaths']].plot(kind=\"area\",\n",
    "                            legend=True,\n",
    "                           stacked=False,\n",
    "                           color=['#1970E7', '#E73E19'])"
   ]
  },
  {
   "cell_type": "markdown",
   "id": "203ebf0c",
   "metadata": {},
   "source": [
    "These attributes work for almost all chart types."
   ]
  },
  {
   "cell_type": "code",
   "execution_count": null,
   "id": "c2bce001",
   "metadata": {},
   "outputs": [],
   "source": []
  }
 ],
 "metadata": {
  "kernelspec": {
   "display_name": "Python 3",
   "language": "python",
   "name": "python3"
  },
  "language_info": {
   "codemirror_mode": {
    "name": "ipython",
    "version": 3
   },
   "file_extension": ".py",
   "mimetype": "text/x-python",
   "name": "python",
   "nbconvert_exporter": "python",
   "pygments_lexer": "ipython3",
   "version": "3.8.8"
  }
 },
 "nbformat": 4,
 "nbformat_minor": 5
}
